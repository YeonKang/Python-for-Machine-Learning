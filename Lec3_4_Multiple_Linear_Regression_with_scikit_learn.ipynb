{
  "nbformat": 4,
  "nbformat_minor": 0,
  "metadata": {
    "colab": {
      "name": "Lec3_4_Multiple_Linear_Regression_with_scikit_learn.ipynb",
      "provenance": [],
      "authorship_tag": "ABX9TyOTgqONw/+ozyCNrJaxOoab",
      "include_colab_link": true
    },
    "kernelspec": {
      "name": "python3",
      "display_name": "Python 3"
    }
  },
  "cells": [
    {
      "cell_type": "markdown",
      "metadata": {
        "id": "view-in-github",
        "colab_type": "text"
      },
      "source": [
        "<a href=\"https://colab.research.google.com/github/YeonKang/Python-for-Machine-Learning/blob/main/Lec3_4_Multiple__Linear_Regression_with_scikit_learn.ipynb\" target=\"_parent\"><img src=\"https://colab.research.google.com/assets/colab-badge.svg\" alt=\"Open In Colab\"/></a>"
      ]
    },
    {
      "cell_type": "code",
      "metadata": {
        "id": "nn3R6s50iuY7"
      },
      "source": [
        "from sklearn.datasets import load_boston\r\n",
        "import matplotlib.pyplot as plt\r\n",
        "import numpy as np"
      ],
      "execution_count": null,
      "outputs": []
    },
    {
      "cell_type": "markdown",
      "metadata": {
        "id": "P8-gf0cese_R"
      },
      "source": [
        "**The Boston Housing Dateset**"
      ]
    },
    {
      "cell_type": "markdown",
      "metadata": {
        "id": "JQvu7ro9skvj"
      },
      "source": [
        "https://archive.ics.uci.edu/ml/datasets/Housing"
      ]
    },
    {
      "cell_type": "code",
      "metadata": {
        "colab": {
          "base_uri": "https://localhost:8080/"
        },
        "id": "rAa1_Bpgs-sC",
        "outputId": "12d650b1-21a7-4086-b4e1-28d372e8fe9f"
      },
      "source": [
        "boston = load_boston()\r\n",
        "boston[\"data\"]"
      ],
      "execution_count": null,
      "outputs": [
        {
          "output_type": "execute_result",
          "data": {
            "text/plain": [
              "array([[6.3200e-03, 1.8000e+01, 2.3100e+00, ..., 1.5300e+01, 3.9690e+02,\n",
              "        4.9800e+00],\n",
              "       [2.7310e-02, 0.0000e+00, 7.0700e+00, ..., 1.7800e+01, 3.9690e+02,\n",
              "        9.1400e+00],\n",
              "       [2.7290e-02, 0.0000e+00, 7.0700e+00, ..., 1.7800e+01, 3.9283e+02,\n",
              "        4.0300e+00],\n",
              "       ...,\n",
              "       [6.0760e-02, 0.0000e+00, 1.1930e+01, ..., 2.1000e+01, 3.9690e+02,\n",
              "        5.6400e+00],\n",
              "       [1.0959e-01, 0.0000e+00, 1.1930e+01, ..., 2.1000e+01, 3.9345e+02,\n",
              "        6.4800e+00],\n",
              "       [4.7410e-02, 0.0000e+00, 1.1930e+01, ..., 2.1000e+01, 3.9690e+02,\n",
              "        7.8800e+00]])"
            ]
          },
          "metadata": {
            "tags": []
          },
          "execution_count": 7
        }
      ]
    },
    {
      "cell_type": "code",
      "metadata": {
        "id": "tyyb6bCXtHs3"
      },
      "source": [
        "x_data = boston.data\r\n",
        "y_data = boston.target.reshape(boston.target.size,1)"
      ],
      "execution_count": null,
      "outputs": []
    },
    {
      "cell_type": "code",
      "metadata": {
        "colab": {
          "base_uri": "https://localhost:8080/"
        },
        "id": "Cb6wvT3PtJ1O",
        "outputId": "a4607550-316c-465d-cb5c-16d537d221d3"
      },
      "source": [
        "y_data.shape"
      ],
      "execution_count": null,
      "outputs": [
        {
          "output_type": "execute_result",
          "data": {
            "text/plain": [
              "(506, 1)"
            ]
          },
          "metadata": {
            "tags": []
          },
          "execution_count": 9
        }
      ]
    },
    {
      "cell_type": "code",
      "metadata": {
        "colab": {
          "base_uri": "https://localhost:8080/"
        },
        "id": "6Zwxvn4dtLym",
        "outputId": "b0a61630-2c2e-44e3-8709-91780d4e7bca"
      },
      "source": [
        "from sklearn import preprocessing\r\n",
        "\r\n",
        "# standard_scale = preprocessing.StandardScaler().fit(x_data)\r\n",
        "minmax_scale = preprocessing.MinMaxScaler(feature_range=(0,5)).fit(x_data)\r\n",
        "x_scaled_data = minmax_scale.transform(x_data)\r\n",
        "\r\n",
        "x_scaled_data[:3]"
      ],
      "execution_count": null,
      "outputs": [
        {
          "output_type": "execute_result",
          "data": {
            "text/plain": [
              "array([[0.00000000e+00, 9.00000000e-01, 3.39076246e-01, 0.00000000e+00,\n",
              "        1.57407407e+00, 2.88752635e+00, 3.20803296e+00, 1.34601570e+00,\n",
              "        0.00000000e+00, 1.04007634e+00, 1.43617021e+00, 5.00000000e+00,\n",
              "        4.48399558e-01],\n",
              "       [1.17961270e-03, 0.00000000e+00, 1.21151026e+00, 0.00000000e+00,\n",
              "        8.64197531e-01, 2.73998850e+00, 3.91349125e+00, 1.74480990e+00,\n",
              "        2.17391304e-01, 5.24809160e-01, 2.76595745e+00, 5.00000000e+00,\n",
              "        1.02235099e+00],\n",
              "       [1.17848872e-03, 0.00000000e+00, 1.21151026e+00, 0.00000000e+00,\n",
              "        8.64197531e-01, 3.47192949e+00, 2.99691040e+00, 1.74480990e+00,\n",
              "        2.17391304e-01, 5.24809160e-01, 2.76595745e+00, 4.94868627e+00,\n",
              "        3.17328918e-01]])"
            ]
          },
          "metadata": {
            "tags": []
          },
          "execution_count": 11
        }
      ]
    },
    {
      "cell_type": "code",
      "metadata": {
        "id": "CxgmX2lwtVsu"
      },
      "source": [
        "from sklearn.model_selection import train_test_split\r\n",
        "\r\n",
        "X_train, X_test, y_train, y_test = train_test_split(x_scaled_data, y_data, test_size=0.33)"
      ],
      "execution_count": null,
      "outputs": []
    },
    {
      "cell_type": "code",
      "metadata": {
        "colab": {
          "base_uri": "https://localhost:8080/"
        },
        "id": "mfrdNFRBtXOZ",
        "outputId": "4363416f-5df6-4043-e359-46849daf6517"
      },
      "source": [
        "X_train.shape, X_test.shape, y_train.shape, y_test.shape"
      ],
      "execution_count": null,
      "outputs": [
        {
          "output_type": "execute_result",
          "data": {
            "text/plain": [
              "((339, 13), (167, 13), (339, 1), (167, 1))"
            ]
          },
          "metadata": {
            "tags": []
          },
          "execution_count": 13
        }
      ]
    },
    {
      "cell_type": "code",
      "metadata": {
        "colab": {
          "base_uri": "https://localhost:8080/"
        },
        "id": "tkvLKBtltZRy",
        "outputId": "2ba3314f-7a84-40da-c028-d2b86e867669"
      },
      "source": [
        "from sklearn import  linear_model\r\n",
        "\r\n",
        "regr = linear_model.LinearRegression(fit_intercept=True, \r\n",
        "                                     normalize=False, \r\n",
        "                                     copy_X=True, \r\n",
        "                                     n_jobs=8)\r\n",
        "regr.fit(X_train, y_train)\r\n",
        "regr"
      ],
      "execution_count": null,
      "outputs": [
        {
          "output_type": "execute_result",
          "data": {
            "text/plain": [
              "LinearRegression(copy_X=True, fit_intercept=True, n_jobs=8, normalize=False)"
            ]
          },
          "metadata": {
            "tags": []
          },
          "execution_count": 14
        }
      ]
    },
    {
      "cell_type": "code",
      "metadata": {
        "colab": {
          "base_uri": "https://localhost:8080/"
        },
        "id": "MsGckjTNtbKu",
        "outputId": "5ee3e1d3-95c3-4dbf-c9b5-b16aa0da23cc"
      },
      "source": [
        "regr.coef_ , regr.intercept_"
      ],
      "execution_count": null,
      "outputs": [
        {
          "output_type": "execute_result",
          "data": {
            "text/plain": [
              "(array([[-2.19792048,  0.92196904,  0.31491996,  0.44532481, -1.83730744,\n",
              "          4.25208077,  0.08723278, -3.37859893,  1.33673126, -1.11377747,\n",
              "         -1.70375116,  0.65859881, -4.63380888]]), array([26.66412724]))"
            ]
          },
          "metadata": {
            "tags": []
          },
          "execution_count": 15
        }
      ]
    },
    {
      "cell_type": "markdown",
      "metadata": {
        "id": "aWsXkzCotfHs"
      },
      "source": [
        "**The Coefficients**"
      ]
    },
    {
      "cell_type": "code",
      "metadata": {
        "id": "Qq4VEX5RtjGD",
        "colab": {
          "base_uri": "https://localhost:8080/"
        },
        "outputId": "bd55810b-c528-4c54-b75f-bb0a64e66b40"
      },
      "source": [
        "print('Coefficients: ', regr.coef_)\r\n",
        "print('intercept: ', regr.intercept_)"
      ],
      "execution_count": null,
      "outputs": [
        {
          "output_type": "stream",
          "text": [
            "Coefficients:  [[-2.19792048  0.92196904  0.31491996  0.44532481 -1.83730744  4.25208077\n",
            "   0.08723278 -3.37859893  1.33673126 -1.11377747 -1.70375116  0.65859881\n",
            "  -4.63380888]]\n",
            "intercept:  [26.66412724]\n"
          ],
          "name": "stdout"
        }
      ]
    },
    {
      "cell_type": "code",
      "metadata": {
        "id": "l7pkimRptksT",
        "colab": {
          "base_uri": "https://localhost:8080/"
        },
        "outputId": "aea1bb66-7d78-42ce-e85b-1121a0b750b3"
      },
      "source": [
        "regr.predict(x_data[:5])"
      ],
      "execution_count": null,
      "outputs": [
        {
          "output_type": "execute_result",
          "data": {
            "text/plain": [
              "array([[-53.2760808 ],\n",
              "       [-32.77027322],\n",
              "       [-10.07611689],\n",
              "       [ 10.8784992 ],\n",
              "       [  2.58441098]])"
            ]
          },
          "metadata": {
            "tags": []
          },
          "execution_count": 17
        }
      ]
    },
    {
      "cell_type": "code",
      "metadata": {
        "id": "UHwevvAVtl-F",
        "colab": {
          "base_uri": "https://localhost:8080/"
        },
        "outputId": "91f78a7a-a70f-4634-db63-cce1402d4524"
      },
      "source": [
        "x_data[:5].dot(regr.coef_.T) + regr.intercept_"
      ],
      "execution_count": null,
      "outputs": [
        {
          "output_type": "execute_result",
          "data": {
            "text/plain": [
              "array([[-53.2760808 ],\n",
              "       [-32.77027322],\n",
              "       [-10.07611689],\n",
              "       [ 10.8784992 ],\n",
              "       [  2.58441098]])"
            ]
          },
          "metadata": {
            "tags": []
          },
          "execution_count": 18
        }
      ]
    },
    {
      "cell_type": "code",
      "metadata": {
        "id": "d44aVe91tngt"
      },
      "source": [
        "from sklearn.metrics import r2_score\r\n",
        "from sklearn.metrics import mean_absolute_error\r\n",
        "from sklearn.metrics import mean_squared_error"
      ],
      "execution_count": null,
      "outputs": []
    },
    {
      "cell_type": "code",
      "metadata": {
        "id": "G1Irmew7tpG3"
      },
      "source": [
        "y_true = y_test\r\n",
        "y_hat = regr.predict(X_test)\r\n",
        "\r\n",
        "r2_score(y_true, y_hat), mean_absolute_error(y_true, y_hat), mean_squared_error(y_true, y_hat)"
      ],
      "execution_count": null,
      "outputs": []
    }
  ]
}
