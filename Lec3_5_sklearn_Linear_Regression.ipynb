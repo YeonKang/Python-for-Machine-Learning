{
  "nbformat": 4,
  "nbformat_minor": 0,
  "metadata": {
    "colab": {
      "name": "Lec3_5_sklearn_Linear_Regression.ipynb",
      "provenance": [],
      "authorship_tag": "ABX9TyM1S29r4TknaTVQIKUURiaL",
      "include_colab_link": true
    },
    "kernelspec": {
      "name": "python3",
      "display_name": "Python 3"
    }
  },
  "cells": [
    {
      "cell_type": "markdown",
      "metadata": {
        "id": "view-in-github",
        "colab_type": "text"
      },
      "source": [
        "<a href=\"https://colab.research.google.com/github/YeonKang/Python-for-Machine-Learning/blob/main/Lec3_5_sklearn_Linear_Regression.ipynb\" target=\"_parent\"><img src=\"https://colab.research.google.com/assets/colab-badge.svg\" alt=\"Open In Colab\"/></a>"
      ]
    },
    {
      "cell_type": "markdown",
      "metadata": {
        "id": "nrea30rDzcMh"
      },
      "source": [
        "**Linear Regression with Normal equation**"
      ]
    },
    {
      "cell_type": "code",
      "metadata": {
        "id": "S5NP7aXZsLce"
      },
      "source": [
        "import numpy as np\r\n",
        "import pandas as pd\r\n",
        "import matplotlib.pyplot as plt"
      ],
      "execution_count": null,
      "outputs": []
    },
    {
      "cell_type": "code",
      "metadata": {
        "id": "_HM3kgnnr6OK"
      },
      "source": [
        "from sklearn.datasets import load_boston\r\n",
        "boston = load_boston()"
      ],
      "execution_count": null,
      "outputs": []
    },
    {
      "cell_type": "code",
      "metadata": {
        "colab": {
          "base_uri": "https://localhost:8080/"
        },
        "id": "_w0S90IOsGlv",
        "outputId": "fc1024f2-49b3-4924-a38f-2519b10b4fcf"
      },
      "source": [
        "boston.keys()\r\n",
        "boston.feature_names"
      ],
      "execution_count": null,
      "outputs": [
        {
          "output_type": "execute_result",
          "data": {
            "text/plain": [
              "array(['CRIM', 'ZN', 'INDUS', 'CHAS', 'NOX', 'RM', 'AGE', 'DIS', 'RAD',\n",
              "       'TAX', 'PTRATIO', 'B', 'LSTAT'], dtype='<U7')"
            ]
          },
          "metadata": {
            "tags": []
          },
          "execution_count": 19
        }
      ]
    },
    {
      "cell_type": "code",
      "metadata": {
        "colab": {
          "base_uri": "https://localhost:8080/",
          "height": 200
        },
        "id": "_dyHj41ysNR5",
        "outputId": "24db2a37-a077-4dce-888f-36cc9171addc"
      },
      "source": [
        "df = pd.DataFrame(boston.data, columns=boston.feature_names)\r\n",
        "df.head()"
      ],
      "execution_count": null,
      "outputs": [
        {
          "output_type": "execute_result",
          "data": {
            "text/html": [
              "<div>\n",
              "<style scoped>\n",
              "    .dataframe tbody tr th:only-of-type {\n",
              "        vertical-align: middle;\n",
              "    }\n",
              "\n",
              "    .dataframe tbody tr th {\n",
              "        vertical-align: top;\n",
              "    }\n",
              "\n",
              "    .dataframe thead th {\n",
              "        text-align: right;\n",
              "    }\n",
              "</style>\n",
              "<table border=\"1\" class=\"dataframe\">\n",
              "  <thead>\n",
              "    <tr style=\"text-align: right;\">\n",
              "      <th></th>\n",
              "      <th>CRIM</th>\n",
              "      <th>ZN</th>\n",
              "      <th>INDUS</th>\n",
              "      <th>CHAS</th>\n",
              "      <th>NOX</th>\n",
              "      <th>RM</th>\n",
              "      <th>AGE</th>\n",
              "      <th>DIS</th>\n",
              "      <th>RAD</th>\n",
              "      <th>TAX</th>\n",
              "      <th>PTRATIO</th>\n",
              "      <th>B</th>\n",
              "      <th>LSTAT</th>\n",
              "    </tr>\n",
              "  </thead>\n",
              "  <tbody>\n",
              "    <tr>\n",
              "      <th>0</th>\n",
              "      <td>0.00632</td>\n",
              "      <td>18.0</td>\n",
              "      <td>2.31</td>\n",
              "      <td>0.0</td>\n",
              "      <td>0.538</td>\n",
              "      <td>6.575</td>\n",
              "      <td>65.2</td>\n",
              "      <td>4.0900</td>\n",
              "      <td>1.0</td>\n",
              "      <td>296.0</td>\n",
              "      <td>15.3</td>\n",
              "      <td>396.90</td>\n",
              "      <td>4.98</td>\n",
              "    </tr>\n",
              "    <tr>\n",
              "      <th>1</th>\n",
              "      <td>0.02731</td>\n",
              "      <td>0.0</td>\n",
              "      <td>7.07</td>\n",
              "      <td>0.0</td>\n",
              "      <td>0.469</td>\n",
              "      <td>6.421</td>\n",
              "      <td>78.9</td>\n",
              "      <td>4.9671</td>\n",
              "      <td>2.0</td>\n",
              "      <td>242.0</td>\n",
              "      <td>17.8</td>\n",
              "      <td>396.90</td>\n",
              "      <td>9.14</td>\n",
              "    </tr>\n",
              "    <tr>\n",
              "      <th>2</th>\n",
              "      <td>0.02729</td>\n",
              "      <td>0.0</td>\n",
              "      <td>7.07</td>\n",
              "      <td>0.0</td>\n",
              "      <td>0.469</td>\n",
              "      <td>7.185</td>\n",
              "      <td>61.1</td>\n",
              "      <td>4.9671</td>\n",
              "      <td>2.0</td>\n",
              "      <td>242.0</td>\n",
              "      <td>17.8</td>\n",
              "      <td>392.83</td>\n",
              "      <td>4.03</td>\n",
              "    </tr>\n",
              "    <tr>\n",
              "      <th>3</th>\n",
              "      <td>0.03237</td>\n",
              "      <td>0.0</td>\n",
              "      <td>2.18</td>\n",
              "      <td>0.0</td>\n",
              "      <td>0.458</td>\n",
              "      <td>6.998</td>\n",
              "      <td>45.8</td>\n",
              "      <td>6.0622</td>\n",
              "      <td>3.0</td>\n",
              "      <td>222.0</td>\n",
              "      <td>18.7</td>\n",
              "      <td>394.63</td>\n",
              "      <td>2.94</td>\n",
              "    </tr>\n",
              "    <tr>\n",
              "      <th>4</th>\n",
              "      <td>0.06905</td>\n",
              "      <td>0.0</td>\n",
              "      <td>2.18</td>\n",
              "      <td>0.0</td>\n",
              "      <td>0.458</td>\n",
              "      <td>7.147</td>\n",
              "      <td>54.2</td>\n",
              "      <td>6.0622</td>\n",
              "      <td>3.0</td>\n",
              "      <td>222.0</td>\n",
              "      <td>18.7</td>\n",
              "      <td>396.90</td>\n",
              "      <td>5.33</td>\n",
              "    </tr>\n",
              "  </tbody>\n",
              "</table>\n",
              "</div>"
            ],
            "text/plain": [
              "      CRIM    ZN  INDUS  CHAS    NOX  ...  RAD    TAX  PTRATIO       B  LSTAT\n",
              "0  0.00632  18.0   2.31   0.0  0.538  ...  1.0  296.0     15.3  396.90   4.98\n",
              "1  0.02731   0.0   7.07   0.0  0.469  ...  2.0  242.0     17.8  396.90   9.14\n",
              "2  0.02729   0.0   7.07   0.0  0.469  ...  2.0  242.0     17.8  392.83   4.03\n",
              "3  0.03237   0.0   2.18   0.0  0.458  ...  3.0  222.0     18.7  394.63   2.94\n",
              "4  0.06905   0.0   2.18   0.0  0.458  ...  3.0  222.0     18.7  396.90   5.33\n",
              "\n",
              "[5 rows x 13 columns]"
            ]
          },
          "metadata": {
            "tags": []
          },
          "execution_count": 20
        }
      ]
    },
    {
      "cell_type": "code",
      "metadata": {
        "id": "YW77YLQ5sZW2"
      },
      "source": [
        "X = df.values\r\n",
        "y = boston.target"
      ],
      "execution_count": null,
      "outputs": []
    },
    {
      "cell_type": "code",
      "metadata": {
        "id": "sOuEogoEsg0m"
      },
      "source": [
        "from sklearn.linear_model import  LinearRegression\r\n",
        "lr_ne = LinearRegression(fit_intercept=True)\r\n",
        "\r\n",
        "from sklearn.model_selection import train_test_split\r\n",
        "X_train, X_test, y_train, y_test = train_test_split(\r\n",
        "    X, y, test_size=0.33, random_state=42)"
      ],
      "execution_count": null,
      "outputs": []
    },
    {
      "cell_type": "code",
      "metadata": {
        "colab": {
          "base_uri": "https://localhost:8080/"
        },
        "id": "54rFmjw3smoq",
        "outputId": "0c46266d-e8cd-44b5-967f-90bde0da9960"
      },
      "source": [
        "lr_ne.fit(X_train, y_train)"
      ],
      "execution_count": null,
      "outputs": [
        {
          "output_type": "execute_result",
          "data": {
            "text/plain": [
              "LinearRegression(copy_X=True, fit_intercept=True, n_jobs=None, normalize=False)"
            ]
          },
          "metadata": {
            "tags": []
          },
          "execution_count": 10
        }
      ]
    },
    {
      "cell_type": "code",
      "metadata": {
        "id": "465k26XGspkl"
      },
      "source": [
        "y_hat = lr_ne.predict(X_test)\r\n",
        "y_true = y_test"
      ],
      "execution_count": null,
      "outputs": []
    },
    {
      "cell_type": "code",
      "metadata": {
        "colab": {
          "base_uri": "https://localhost:8080/"
        },
        "id": "twv7IXsSsr0S",
        "outputId": "b7846c06-72a8-4204-c909-ab45536f1072"
      },
      "source": [
        "rmse = np.sqrt((((y_hat - y_true)**2).sum() / len(y_true)))\r\n",
        "rmse"
      ],
      "execution_count": null,
      "outputs": [
        {
          "output_type": "execute_result",
          "data": {
            "text/plain": [
              "4.552364598463058"
            ]
          },
          "metadata": {
            "tags": []
          },
          "execution_count": 12
        }
      ]
    },
    {
      "cell_type": "code",
      "metadata": {
        "colab": {
          "base_uri": "https://localhost:8080/"
        },
        "id": "mG-uLUbVsudI",
        "outputId": "653e61b1-a211-4675-cb22-a0a4d2a2db53"
      },
      "source": [
        "import sklearn\r\n",
        "mse = sklearn.metrics.mean_squared_error(y_hat, y_true)\r\n",
        "mse"
      ],
      "execution_count": null,
      "outputs": [
        {
          "output_type": "execute_result",
          "data": {
            "text/plain": [
              "20.724023437339717"
            ]
          },
          "metadata": {
            "tags": []
          },
          "execution_count": 13
        }
      ]
    },
    {
      "cell_type": "code",
      "metadata": {
        "colab": {
          "base_uri": "https://localhost:8080/",
          "height": 323
        },
        "id": "7cSThMrPswcx",
        "outputId": "41734e5f-30f7-47c5-a796-9f0d41f9faec"
      },
      "source": [
        "plt.scatter(y_true, y_hat, s=10)\r\n",
        "plt.xlabel(\"Prices: $Y_i$\")\r\n",
        "plt.ylabel(\"Predicted prices: $\\hat{Y}_i$\")\r\n",
        "plt.title(\"Prices vs Predicted prices: $Y_i$ vs $\\hat{Y}_i$\")"
      ],
      "execution_count": null,
      "outputs": [
        {
          "output_type": "execute_result",
          "data": {
            "text/plain": [
              "Text(0.5, 1.0, 'Prices vs Predicted prices: $Y_i$ vs $\\\\hat{Y}_i$')"
            ]
          },
          "metadata": {
            "tags": []
          },
          "execution_count": 14
        },
        {
          "output_type": "display_data",
          "data": {
            "image/png": "[encoded data removed]",
            "text/plain": [
              "<Figure size 432x288 with 1 Axes>"
            ]
          },
          "metadata": {
            "tags": [],
            "needs_background": "light"
          }
        }
      ]
    },
    {
      "cell_type": "code",
      "metadata": {
        "colab": {
          "base_uri": "https://localhost:8080/"
        },
        "id": "flmtaQiNsxuc",
        "outputId": "a4eb05ce-104b-4312-e538-24ba1a0ed20a"
      },
      "source": [
        "lr_ne.coef_"
      ],
      "execution_count": null,
      "outputs": [
        {
          "output_type": "execute_result",
          "data": {
            "text/plain": [
              "array([-1.28749718e-01,  3.78232228e-02,  5.82109233e-02,  3.23866812e+00,\n",
              "       -1.61698120e+01,  3.90205116e+00, -1.28507825e-02, -1.42222430e+00,\n",
              "        2.34853915e-01, -8.21331947e-03, -9.28722459e-01,  1.17695921e-02,\n",
              "       -5.47566338e-01])"
            ]
          },
          "metadata": {
            "tags": []
          },
          "execution_count": 15
        }
      ]
    },
    {
      "cell_type": "code",
      "metadata": {
        "colab": {
          "base_uri": "https://localhost:8080/"
        },
        "id": "zOhX8T6Zszz6",
        "outputId": "b37705b8-4578-428f-e385-6ea409fdb6b7"
      },
      "source": [
        "boston.feature_names"
      ],
      "execution_count": null,
      "outputs": [
        {
          "output_type": "execute_result",
          "data": {
            "text/plain": [
              "array(['CRIM', 'ZN', 'INDUS', 'CHAS', 'NOX', 'RM', 'AGE', 'DIS', 'RAD',\n",
              "       'TAX', 'PTRATIO', 'B', 'LSTAT'], dtype='<U7')"
            ]
          },
          "metadata": {
            "tags": []
          },
          "execution_count": 16
        }
      ]
    },
    {
      "cell_type": "markdown",
      "metadata": {
        "id": "cLDeOtnutujT"
      },
      "source": [
        "**Linear Regression with SGD**"
      ]
    },
    {
      "cell_type": "code",
      "metadata": {
        "id": "10pmoh2UtxO5"
      },
      "source": [
        "from sklearn.linear_model import SGDRegressor\r\n",
        "lr_SGD = SGDRegressor()"
      ],
      "execution_count": null,
      "outputs": []
    },
    {
      "cell_type": "code",
      "metadata": {
        "id": "OlX3kocY83ha"
      },
      "source": [
        "from sklearn.preprocessing import StandardScaler\r\n",
        "std_scaler = StandardScaler()\r\n",
        "std_scaler.fit(X)\r\n",
        "X_scaled = std_scaler.transform(X)"
      ],
      "execution_count": null,
      "outputs": []
    },
    {
      "cell_type": "code",
      "metadata": {
        "id": "XVzBRy6A85Rx"
      },
      "source": [
        "from sklearn.model_selection import train_test_split\r\n",
        "X_train, X_test, y_train, y_test = train_test_split(\r\n",
        "    X, y, test_size=0.33, random_state=42)"
      ],
      "execution_count": null,
      "outputs": []
    },
    {
      "cell_type": "code",
      "metadata": {
        "colab": {
          "base_uri": "https://localhost:8080/"
        },
        "id": "eSWbwGfu866L",
        "outputId": "c2479c1b-7fbe-4d1a-b8e9-f98b2994497a"
      },
      "source": [
        "lr_SGD.fit(X_train, y_train)"
      ],
      "execution_count": null,
      "outputs": [
        {
          "output_type": "execute_result",
          "data": {
            "text/plain": [
              "SGDRegressor(alpha=0.0001, average=False, early_stopping=False, epsilon=0.1,\n",
              "             eta0=0.01, fit_intercept=True, l1_ratio=0.15,\n",
              "             learning_rate='invscaling', loss='squared_loss', max_iter=1000,\n",
              "             n_iter_no_change=5, penalty='l2', power_t=0.25, random_state=None,\n",
              "             shuffle=True, tol=0.001, validation_fraction=0.1, verbose=0,\n",
              "             warm_start=False)"
            ]
          },
          "metadata": {
            "tags": []
          },
          "execution_count": 25
        }
      ]
    },
    {
      "cell_type": "code",
      "metadata": {
        "id": "CsLSqNes88OQ"
      },
      "source": [
        "y_hat = lr_SGD.predict(X_test)\r\n",
        "y_true = y_test"
      ],
      "execution_count": null,
      "outputs": []
    },
    {
      "cell_type": "code",
      "metadata": {
        "colab": {
          "base_uri": "https://localhost:8080/"
        },
        "id": "MSwrqw4289lc",
        "outputId": "66076d9b-6ad5-495d-9238-f3e4a4162f8e"
      },
      "source": [
        "mse = sklearn.metrics.mean_squared_error(y_hat, y_true)\r\n",
        "rmse = np.sqrt((((y_hat - y_true)**2).sum() / len(y_true)))\r\n",
        "rmse, mse"
      ],
      "execution_count": null,
      "outputs": [
        {
          "output_type": "execute_result",
          "data": {
            "text/plain": [
              "(219272003871611.16, 4.8080211681871865e+28)"
            ]
          },
          "metadata": {
            "tags": []
          },
          "execution_count": 27
        }
      ]
    },
    {
      "cell_type": "code",
      "metadata": {
        "colab": {
          "base_uri": "https://localhost:8080/",
          "height": 323
        },
        "id": "0sajcg8E8_ry",
        "outputId": "493cda53-9fa3-442a-faf3-1fe38b9054a4"
      },
      "source": [
        "plt.scatter(y_true, y_hat, s=10)\r\n",
        "plt.xlabel(\"Prices: $Y_i$\")\r\n",
        "plt.ylabel(\"Predicted prices: $\\hat{Y}_i$\")\r\n",
        "plt.title(\"Prices vs Predicted prices: $Y_i$ vs $\\hat{Y}_i$\")"
      ],
      "execution_count": null,
      "outputs": [
        {
          "output_type": "execute_result",
          "data": {
            "text/plain": [
              "Text(0.5, 1.0, 'Prices vs Predicted prices: $Y_i$ vs $\\\\hat{Y}_i$')"
            ]
          },
          "metadata": {
            "tags": []
          },
          "execution_count": 28
        },
        {
          "output_type": "display_data",
          "data": {
            "image/png": "[encoded data removed]",
            "text/plain": [
              "<Figure size 432x288 with 1 Axes>"
            ]
          },
          "metadata": {
            "tags": [],
            "needs_background": "light"
          }
        }
      ]
    },
    {
      "cell_type": "code",
      "metadata": {
        "id": "UmNohrlA9BZ2"
      },
      "source": [
        "from sklearn.model_selection import train_test_split\r\n",
        "X_train, X_test, y_train, y_test = train_test_split(\r\n",
        "    X_scaled, y, test_size=0.33, random_state=42)"
      ],
      "execution_count": null,
      "outputs": []
    },
    {
      "cell_type": "code",
      "metadata": {
        "colab": {
          "base_uri": "https://localhost:8080/"
        },
        "id": "rzvuGDLe9CfP",
        "outputId": "eebb539e-7d87-46e8-90fc-6c5bdf04f78d"
      },
      "source": [
        "lr_SGD.fit(X_train, y_train)"
      ],
      "execution_count": null,
      "outputs": [
        {
          "output_type": "execute_result",
          "data": {
            "text/plain": [
              "SGDRegressor(alpha=0.0001, average=False, early_stopping=False, epsilon=0.1,\n",
              "             eta0=0.01, fit_intercept=True, l1_ratio=0.15,\n",
              "             learning_rate='invscaling', loss='squared_loss', max_iter=1000,\n",
              "             n_iter_no_change=5, penalty='l2', power_t=0.25, random_state=None,\n",
              "             shuffle=True, tol=0.001, validation_fraction=0.1, verbose=0,\n",
              "             warm_start=False)"
            ]
          },
          "metadata": {
            "tags": []
          },
          "execution_count": 30
        }
      ]
    },
    {
      "cell_type": "code",
      "metadata": {
        "id": "efdEyd1L9FIN"
      },
      "source": [
        "y_hat = lr_SGD.predict(X_test)\r\n",
        "y_true = y_test"
      ],
      "execution_count": null,
      "outputs": []
    },
    {
      "cell_type": "code",
      "metadata": {
        "colab": {
          "base_uri": "https://localhost:8080/"
        },
        "id": "DVTlD5sR9Gp0",
        "outputId": "c9b6d4a0-bca4-4db9-e106-0d556b0f72d7"
      },
      "source": [
        "mse = sklearn.metrics.mean_squared_error(y_hat, y_true)\r\n",
        "rmse = np.sqrt((((y_hat - y_true)**2).sum() / len(y_true)))\r\n",
        "rmse, mse"
      ],
      "execution_count": null,
      "outputs": [
        {
          "output_type": "execute_result",
          "data": {
            "text/plain": [
              "(4.6258700742126715, 21.398673943496345)"
            ]
          },
          "metadata": {
            "tags": []
          },
          "execution_count": 32
        }
      ]
    },
    {
      "cell_type": "code",
      "metadata": {
        "colab": {
          "base_uri": "https://localhost:8080/",
          "height": 323
        },
        "id": "dbth45oB9ICx",
        "outputId": "31260f51-f6f1-4b79-9f6b-4e7b08c41b03"
      },
      "source": [
        "plt.scatter(y_true, y_hat, s=10)\r\n",
        "plt.xlabel(\"Prices: $Y_i$\")\r\n",
        "plt.ylabel(\"Predicted prices: $\\hat{Y}_i$\")\r\n",
        "plt.title(\"Prices vs Predicted prices: $Y_i$ vs $\\hat{Y}_i$\")"
      ],
      "execution_count": null,
      "outputs": [
        {
          "output_type": "execute_result",
          "data": {
            "text/plain": [
              "Text(0.5, 1.0, 'Prices vs Predicted prices: $Y_i$ vs $\\\\hat{Y}_i$')"
            ]
          },
          "metadata": {
            "tags": []
          },
          "execution_count": 33
        },
        {
          "output_type": "display_data",
          "data": {
            "image/png": "[encoded data removed]",
            "text/plain": [
              "<Figure size 432x288 with 1 Axes>"
            ]
          },
          "metadata": {
            "tags": [],
            "needs_background": "light"
          }
        }
      ]
    },
    {
      "cell_type": "markdown",
      "metadata": {
        "id": "bpfqDbLA9JXa"
      },
      "source": [
        "**Linear Regression with Ridge & Lasso regression**"
      ]
    },
    {
      "cell_type": "code",
      "metadata": {
        "id": "dCt2z4XA9L2Z"
      },
      "source": [
        "from sklearn.linear_model import Lasso, Ridge"
      ],
      "execution_count": null,
      "outputs": []
    },
    {
      "cell_type": "code",
      "metadata": {
        "id": "QXJq1Fza9OTz"
      },
      "source": [
        "X_train, X_test, y_train, y_test = train_test_split(\r\n",
        "    X, y, test_size=0.33, random_state=42)"
      ],
      "execution_count": null,
      "outputs": []
    },
    {
      "cell_type": "code",
      "metadata": {
        "colab": {
          "base_uri": "https://localhost:8080/"
        },
        "id": "j0tspFlM9Q4S",
        "outputId": "087f30ce-1999-4d43-f5a5-681bbac5bb0c"
      },
      "source": [
        "ridge = Ridge(fit_intercept=True, alpha=0.5) #lasso = Lasso(fit_intercept=True, alpha=0.5)\r\n",
        "ridge.fit(X_train,y_train)"
      ],
      "execution_count": null,
      "outputs": [
        {
          "output_type": "execute_result",
          "data": {
            "text/plain": [
              "Ridge(alpha=0.5, copy_X=True, fit_intercept=True, max_iter=None,\n",
              "      normalize=False, random_state=None, solver='auto', tol=0.001)"
            ]
          },
          "metadata": {
            "tags": []
          },
          "execution_count": 36
        }
      ]
    },
    {
      "cell_type": "code",
      "metadata": {
        "colab": {
          "base_uri": "https://localhost:8080/"
        },
        "id": "G3UvLDz69V3T",
        "outputId": "f4d0339f-26fe-47d2-cb29-21cd3964fbf5"
      },
      "source": [
        "y_hat = ridge.predict(X_test)\r\n",
        "y_true = y_test\r\n",
        "mse = sklearn.metrics.mean_squared_error(y_hat, y_true)\r\n",
        "rmse = np.sqrt((((y_hat - y_true)**2).sum() / len(y_true)))\r\n",
        "rmse, mse"
      ],
      "execution_count": null,
      "outputs": [
        {
          "output_type": "execute_result",
          "data": {
            "text/plain": [
              "(4.579058484791168, 20.967776607137985)"
            ]
          },
          "metadata": {
            "tags": []
          },
          "execution_count": 37
        }
      ]
    },
    {
      "cell_type": "code",
      "metadata": {
        "id": "iJZVf68V9YIZ",
        "colab": {
          "base_uri": "https://localhost:8080/",
          "height": 323
        },
        "outputId": "95631a7f-44ef-4eea-b6f3-575712adfa74"
      },
      "source": [
        "plt.scatter(y_true, y_hat, s=10)\r\n",
        "plt.xlabel(\"Prices: $Y_i$\")\r\n",
        "plt.ylabel(\"Predicted prices: $\\hat{Y}_i$\")\r\n",
        "plt.title(\"Prices vs Predicted prices: $Y_i$ vs $\\hat{Y}_i$\")"
      ],
      "execution_count": null,
      "outputs": [
        {
          "output_type": "execute_result",
          "data": {
            "text/plain": [
              "Text(0.5, 1.0, 'Prices vs Predicted prices: $Y_i$ vs $\\\\hat{Y}_i$')"
            ]
          },
          "metadata": {
            "tags": []
          },
          "execution_count": 38
        },
        {
          "output_type": "display_data",
          "data": {
            "image/png": "[encoded data removed]",
            "text/plain": [
              "<Figure size 432x288 with 1 Axes>"
            ]
          },
          "metadata": {
            "tags": [],
            "needs_background": "light"
          }
        }
      ]
    },
    {
      "cell_type": "code",
      "metadata": {
        "id": "QRxycy8v9aA1",
        "colab": {
          "base_uri": "https://localhost:8080/"
        },
        "outputId": "a4a67252-ac50-498e-a479-f11648014d76"
      },
      "source": [
        "from sklearn.model_selection import KFold\r\n",
        "\r\n",
        "print('Ridge Regression')\r\n",
        "print('alpha\\t RMSE_train\\t RMSE_10cv\\n')\r\n",
        "alpha = np.linspace(.01,20,50)\r\n",
        "t_rmse = np.array([])\r\n",
        "cv_rmse = np.array([])\r\n",
        "\r\n",
        "for a in alpha:\r\n",
        "    ridge = Ridge(fit_intercept=True, alpha=a)\r\n",
        "    \r\n",
        "    # computing the RMSE on training data\r\n",
        "    ridge.fit(X_train,y_train)\r\n",
        "    p = ridge.predict(X_test)\r\n",
        "    err = p-y_test\r\n",
        "    total_error = np.dot(err,err)\r\n",
        "    rmse_train = np.sqrt(total_error/len(p))\r\n",
        "\r\n",
        "    # computing RMSE using 10-fold cross validation\r\n",
        "    kf = KFold(10)\r\n",
        "    xval_err = 0\r\n",
        "    for train, test in kf.split(X):\r\n",
        "        ridge.fit(X[train], y[train])\r\n",
        "        p = ridge.predict(X[test])\r\n",
        "        err = p - y[test]\r\n",
        "        xval_err += np.dot(err,err)\r\n",
        "    rmse_10cv = np.sqrt(xval_err/len(X))\r\n",
        "    \r\n",
        "    t_rmse = np.append(t_rmse, [rmse_train])\r\n",
        "    cv_rmse = np.append(cv_rmse, [rmse_10cv])\r\n",
        "    print('{:.3f}\\t {:.4f}\\t\\t {:.4f}'.format(a,rmse_train,rmse_10cv))"
      ],
      "execution_count": null,
      "outputs": [
        {
          "output_type": "stream",
          "text": [
            "Ridge Regression\n",
            "alpha\t RMSE_train\t RMSE_10cv\n",
            "\n",
            "0.010\t 4.5529\t\t 5.8757\n",
            "0.418\t 4.5749\t\t 5.8419\n",
            "0.826\t 4.5935\t\t 5.8270\n",
            "1.234\t 4.6074\t\t 5.8186\n",
            "1.642\t 4.6180\t\t 5.8126\n",
            "2.050\t 4.6262\t\t 5.8078\n",
            "2.458\t 4.6327\t\t 5.8034\n",
            "2.866\t 4.6379\t\t 5.7993\n",
            "3.274\t 4.6422\t\t 5.7953\n",
            "3.682\t 4.6458\t\t 5.7912\n",
            "4.090\t 4.6489\t\t 5.7873\n",
            "4.498\t 4.6515\t\t 5.7833\n",
            "4.906\t 4.6538\t\t 5.7793\n",
            "5.313\t 4.6558\t\t 5.7753\n",
            "5.721\t 4.6576\t\t 5.7714\n",
            "6.129\t 4.6593\t\t 5.7674\n",
            "6.537\t 4.6607\t\t 5.7635\n",
            "6.945\t 4.6621\t\t 5.7596\n",
            "7.353\t 4.6633\t\t 5.7557\n",
            "7.761\t 4.6644\t\t 5.7518\n",
            "8.169\t 4.6655\t\t 5.7479\n",
            "8.577\t 4.6665\t\t 5.7441\n",
            "8.985\t 4.6674\t\t 5.7404\n",
            "9.393\t 4.6683\t\t 5.7366\n",
            "9.801\t 4.6691\t\t 5.7329\n",
            "10.209\t 4.6699\t\t 5.7292\n",
            "10.617\t 4.6707\t\t 5.7256\n",
            "11.025\t 4.6714\t\t 5.7220\n",
            "11.433\t 4.6722\t\t 5.7184\n",
            "11.841\t 4.6729\t\t 5.7149\n",
            "12.249\t 4.6735\t\t 5.7114\n",
            "12.657\t 4.6742\t\t 5.7079\n",
            "13.065\t 4.6748\t\t 5.7045\n",
            "13.473\t 4.6755\t\t 5.7011\n",
            "13.881\t 4.6761\t\t 5.6978\n",
            "14.289\t 4.6767\t\t 5.6945\n",
            "14.697\t 4.6773\t\t 5.6912\n",
            "15.104\t 4.6779\t\t 5.6880\n",
            "15.512\t 4.6785\t\t 5.6848\n",
            "15.920\t 4.6791\t\t 5.6816\n",
            "16.328\t 4.6797\t\t 5.6785\n",
            "16.736\t 4.6803\t\t 5.6754\n",
            "17.144\t 4.6809\t\t 5.6724\n",
            "17.552\t 4.6814\t\t 5.6694\n",
            "17.960\t 4.6820\t\t 5.6664\n",
            "18.368\t 4.6826\t\t 5.6635\n",
            "18.776\t 4.6831\t\t 5.6606\n",
            "19.184\t 4.6837\t\t 5.6577\n",
            "19.592\t 4.6843\t\t 5.6549\n",
            "20.000\t 4.6848\t\t 5.6521\n"
          ],
          "name": "stdout"
        }
      ]
    },
    {
      "cell_type": "code",
      "metadata": {
        "id": "OtFf6WjQ9bMs",
        "colab": {
          "base_uri": "https://localhost:8080/",
          "height": 279
        },
        "outputId": "022870a9-8868-4e7b-8e3c-ec8d701af31f"
      },
      "source": [
        "plt.plot(alpha, t_rmse, label='RMSE-Train')\r\n",
        "plt.plot(alpha, cv_rmse, label='RMSE_XVal')\r\n",
        "plt.legend( ('RMSE-Train', 'RMSE_XVal') )\r\n",
        "plt.ylabel('RMSE')\r\n",
        "plt.xlabel('Alpha')\r\n",
        "plt.show()"
      ],
      "execution_count": null,
      "outputs": [
        {
          "output_type": "display_data",
          "data": {
            "image/png": "[encoded data removed]",
            "text/plain": [
              "<Figure size 432x288 with 1 Axes>"
            ]
          },
          "metadata": {
            "tags": [],
            "needs_background": "light"
          }
        }
      ]
    },
    {
      "cell_type": "code",
      "metadata": {
        "id": "_YIgedKG9dZd",
        "colab": {
          "base_uri": "https://localhost:8080/"
        },
        "outputId": "22ce9823-e9e6-4510-c85a-3e48a341e8e0"
      },
      "source": [
        "\r\n",
        "a = 0.3\r\n",
        "for name,met in [\r\n",
        "        ('linear regression', LinearRegression()),\r\n",
        "        ('lasso', Lasso(fit_intercept=True, alpha=a)),\r\n",
        "        ('ridge', Ridge(fit_intercept=True, alpha=a)),\r\n",
        "        ]:\r\n",
        "    met.fit(X_train,y_train)\r\n",
        "    # p = np.array([met.predict(xi) for xi in x])\r\n",
        "    p = met.predict(X_test)\r\n",
        "    e = p-y_test\r\n",
        "    total_error = np.dot(e,e)\r\n",
        "    rmse_train = np.sqrt(total_error/len(p))\r\n",
        "\r\n",
        "    kf = KFold(10)\r\n",
        "    err = 0\r\n",
        "    for train,test in kf.split(X):\r\n",
        "        met.fit(X[train],y[train])\r\n",
        "        p = met.predict(X[test])\r\n",
        "        e = p-y[test]\r\n",
        "        err += np.dot(e,e)\r\n",
        "\r\n",
        "    rmse_10cv = np.sqrt(err/len(X))\r\n",
        "    print('Method: %s' %name)\r\n",
        "    print('RMSE on training: %.4f' %rmse_train)\r\n",
        "    print('RMSE on 10-fold CV: %.4f' %rmse_10cv)"
      ],
      "execution_count": null,
      "outputs": [
        {
          "output_type": "stream",
          "text": [
            "Method: linear regression\n",
            "RMSE on training: 4.5524\n",
            "RMSE on 10-fold CV: 5.8770\n",
            "Method: lasso\n",
            "RMSE on training: 4.7242\n",
            "RMSE on 10-fold CV: 5.7637\n",
            "Method: ridge\n",
            "RMSE on training: 4.5687\n",
            "RMSE on 10-fold CV: 5.8487\n"
          ],
          "name": "stdout"
        }
      ]
    }
  ]
}