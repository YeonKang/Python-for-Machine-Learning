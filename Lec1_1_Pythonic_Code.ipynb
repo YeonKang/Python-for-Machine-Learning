{
  "nbformat": 4,
  "nbformat_minor": 0,
  "metadata": {
    "colab": {
      "name": "Lec1-1_Pythonic_Code.ipynb",
      "provenance": [],
      "authorship_tag": "ABX9TyNEJbXIyR7E7DcQujGn5YzV",
      "include_colab_link": true
    },
    "kernelspec": {
      "name": "python3",
      "display_name": "Python 3"
    }
  },
  "cells": [
    {
      "cell_type": "markdown",
      "metadata": {
        "id": "view-in-github",
        "colab_type": "text"
      },
      "source": [
        "<a href=\"https://colab.research.google.com/github/YeonKang/Python-for-Machine-Learning/blob/main/Lec1_1_Pythonic_Code.ipynb\" target=\"_parent\"><img src=\"https://colab.research.google.com/assets/colab-badge.svg\" alt=\"Open In Colab\"/></a>"
      ]
    },
    {
      "cell_type": "markdown",
      "metadata": {
        "id": "1i_YYDJUHaWf"
      },
      "source": [
        "**basic code**"
      ]
    },
    {
      "cell_type": "code",
      "metadata": {
        "colab": {
          "base_uri": "https://localhost:8080/"
        },
        "id": "dWesLWzZGjnr",
        "outputId": "6adccf05-e717-4ced-aefe-c29c84c751ae"
      },
      "source": [
        "alphabet = [\"a\",\"b\",\"c\",\"d\",\"e\"]\r\n",
        "result = \"\"\r\n",
        "\r\n",
        "for s in alphabet:\r\n",
        "    result += s\r\n",
        "print(result)"
      ],
      "execution_count": 1,
      "outputs": [
        {
          "output_type": "stream",
          "text": [
            "abcde\n"
          ],
          "name": "stdout"
        }
      ]
    },
    {
      "cell_type": "markdown",
      "metadata": {
        "id": "iBN0ZMP4Hjfq"
      },
      "source": [
        "**pythonic code**"
      ]
    },
    {
      "cell_type": "code",
      "metadata": {
        "colab": {
          "base_uri": "https://localhost:8080/"
        },
        "id": "HyyUqsGNHx-d",
        "outputId": "6e790625-f94a-44af-9366-f0863bf564c0"
      },
      "source": [
        "alphabet = [\"a\",\"b\",\"c\",\"d\",\"e\"]\r\n",
        "result = \"\".join(alphabet)\r\n",
        "print(result)"
      ],
      "execution_count": 3,
      "outputs": [
        {
          "output_type": "stream",
          "text": [
            "abcde\n"
          ],
          "name": "stdout"
        }
      ]
    },
    {
      "cell_type": "markdown",
      "metadata": {
        "id": "wLtCNPYNHTeU"
      },
      "source": [
        "**split string**"
      ]
    },
    {
      "cell_type": "code",
      "metadata": {
        "colab": {
          "base_uri": "https://localhost:8080/"
        },
        "id": "moAogm4CH51o",
        "outputId": "ad3cdce4-fd06-47df-cc88-5cc180a9e492"
      },
      "source": [
        "items = 'zero one two three'.split()\r\n",
        "print(items)"
      ],
      "execution_count": 18,
      "outputs": [
        {
          "output_type": "stream",
          "text": [
            "['zero', 'one', 'two', 'three']\n"
          ],
          "name": "stdout"
        }
      ]
    },
    {
      "cell_type": "code",
      "metadata": {
        "colab": {
          "base_uri": "https://localhost:8080/"
        },
        "id": "_QO7yMSgJCpu",
        "outputId": "281e51b4-e0fe-4d49-a122-434e166726b9"
      },
      "source": [
        "example = 'python,c++,java'\r\n",
        "print(example.split(\",\"))"
      ],
      "execution_count": 19,
      "outputs": [
        {
          "output_type": "stream",
          "text": [
            "['python', 'c++', 'java']\n"
          ],
          "name": "stdout"
        }
      ]
    },
    {
      "cell_type": "markdown",
      "metadata": {
        "id": "xNj5QFvQH8zs"
      },
      "source": [
        "**split string and unpacking**"
      ]
    },
    {
      "cell_type": "code",
      "metadata": {
        "colab": {
          "base_uri": "https://localhost:8080/"
        },
        "id": "WJYK6btJH__s",
        "outputId": "e637bd5c-bc2a-40a4-b259-df9a32d24e25"
      },
      "source": [
        "example = 'python, c++, java'\r\n",
        "a,b,c = example.split(\",\")\r\n",
        "print(a,b,c)"
      ],
      "execution_count": 5,
      "outputs": [
        {
          "output_type": "stream",
          "text": [
            "python  c++  java\n"
          ],
          "name": "stdout"
        }
      ]
    },
    {
      "cell_type": "markdown",
      "metadata": {
        "id": "B2MHWdTEID20"
      },
      "source": [
        "**for loop + append**"
      ]
    },
    {
      "cell_type": "code",
      "metadata": {
        "colab": {
          "base_uri": "https://localhost:8080/"
        },
        "id": "nblQ9AJ2IDF2",
        "outputId": "a60d22b0-31db-4555-ff81-e167199c24ef"
      },
      "source": [
        "result = []\r\n",
        "\r\n",
        "for i in range(10):\r\n",
        "    result.append(i)\r\n",
        "print(result)"
      ],
      "execution_count": 6,
      "outputs": [
        {
          "output_type": "stream",
          "text": [
            "[0, 1, 2, 3, 4, 5, 6, 7, 8, 9]\n"
          ],
          "name": "stdout"
        }
      ]
    },
    {
      "cell_type": "markdown",
      "metadata": {
        "id": "f-rAet3aIIyS"
      },
      "source": [
        "**list Complrehension**"
      ]
    },
    {
      "cell_type": "code",
      "metadata": {
        "colab": {
          "base_uri": "https://localhost:8080/"
        },
        "id": "QSay6hUmIKG-",
        "outputId": "13909f52-e13a-402b-a836-a676c7ce2cbf"
      },
      "source": [
        "result = [i for i in range(10)]\r\n",
        "print(result)"
      ],
      "execution_count": 21,
      "outputs": [
        {
          "output_type": "stream",
          "text": [
            "[0, 1, 2, 3, 4, 5, 6, 7, 8, 9]\n"
          ],
          "name": "stdout"
        }
      ]
    },
    {
      "cell_type": "code",
      "metadata": {
        "colab": {
          "base_uri": "https://localhost:8080/"
        },
        "id": "kZ09V6LEJI5g",
        "outputId": "33456f01-acaa-451a-c2be-39075216b6bf"
      },
      "source": [
        "result = [i for i in range(10) if i % 2 == 0]\r\n",
        "print(result)"
      ],
      "execution_count": 20,
      "outputs": [
        {
          "output_type": "stream",
          "text": [
            "[0, 2, 4, 6, 8]\n"
          ],
          "name": "stdout"
        }
      ]
    },
    {
      "cell_type": "markdown",
      "metadata": {
        "id": "tLgvbnsVINNY"
      },
      "source": [
        "**Nested For loop**"
      ]
    },
    {
      "cell_type": "code",
      "metadata": {
        "colab": {
          "base_uri": "https://localhost:8080/"
        },
        "id": "ywUXItw5IPC8",
        "outputId": "eada4f67-6581-43c9-8bf4-1b3218b9e805"
      },
      "source": [
        "word_1 = \"Hello\"\r\n",
        "word_2 = \"World\"\r\n",
        "result = [i+j for i in word_1 for j in word_2]\r\n",
        "print(result)"
      ],
      "execution_count": 8,
      "outputs": [
        {
          "output_type": "stream",
          "text": [
            "['HW', 'Ho', 'Hr', 'Hl', 'Hd', 'eW', 'eo', 'er', 'el', 'ed', 'lW', 'lo', 'lr', 'll', 'ld', 'lW', 'lo', 'lr', 'll', 'ld', 'oW', 'oo', 'or', 'ol', 'od']\n"
          ],
          "name": "stdout"
        }
      ]
    },
    {
      "cell_type": "markdown",
      "metadata": {
        "id": "g2uDKHWjISU4"
      },
      "source": [
        "**Nested For loop + if**"
      ]
    },
    {
      "cell_type": "code",
      "metadata": {
        "colab": {
          "base_uri": "https://localhost:8080/"
        },
        "id": "CwYKlSBOITXG",
        "outputId": "58af8381-f15a-44f7-ed55-16dcb0beb1d4"
      },
      "source": [
        "case_1 = [\"A\",\"B\",\"C\"]\r\n",
        "case_2 = [\"D\",\"E\",\"A\"]\r\n",
        "\r\n",
        "result = [i+j for i in case_1 for j in case_2]\r\n",
        "print(result)"
      ],
      "execution_count": 22,
      "outputs": [
        {
          "output_type": "stream",
          "text": [
            "['AD', 'AE', 'AA', 'BD', 'BE', 'BA', 'CD', 'CE', 'CA']\n"
          ],
          "name": "stdout"
        }
      ]
    },
    {
      "cell_type": "code",
      "metadata": {
        "colab": {
          "base_uri": "https://localhost:8080/"
        },
        "id": "OM__mxjfJOFG",
        "outputId": "c2a6608d-a0b9-49f0-cef7-fc3bb38e5a22"
      },
      "source": [
        "result = [i+j for i in case_1 for j in case_2 if not(i==j)]\r\n",
        "result.sort()\r\n",
        "print(result)"
      ],
      "execution_count": 23,
      "outputs": [
        {
          "output_type": "stream",
          "text": [
            "['AD', 'AE', 'BA', 'BD', 'BE', 'CA', 'CD', 'CE']\n"
          ],
          "name": "stdout"
        }
      ]
    },
    {
      "cell_type": "markdown",
      "metadata": {
        "id": "yCZLOFLoIWB2"
      },
      "source": [
        "**split + list Comprehension**"
      ]
    },
    {
      "cell_type": "code",
      "metadata": {
        "colab": {
          "base_uri": "https://localhost:8080/"
        },
        "id": "IlY6ZVxMIX6C",
        "outputId": "c9a58481-f6ae-4b96-cb47-bed08d44cf9a"
      },
      "source": [
        "words = 'The quick brown fox jumps over the lazy dog'.split()\r\n",
        "print(words)"
      ],
      "execution_count": 24,
      "outputs": [
        {
          "output_type": "stream",
          "text": [
            "['The', 'quick', 'brown', 'fox', 'jumps', 'over', 'the', 'lazy', 'dog']\n"
          ],
          "name": "stdout"
        }
      ]
    },
    {
      "cell_type": "code",
      "metadata": {
        "colab": {
          "base_uri": "https://localhost:8080/"
        },
        "id": "zipGbPjdJRXo",
        "outputId": "d1ee26a1-0a51-4ab2-facf-70c377c0f346"
      },
      "source": [
        "stuff = [[w.upper(),w.lower(),len(w)] for w in words]\r\n",
        "\r\n",
        "for i in stuff:\r\n",
        "    print(i)"
      ],
      "execution_count": 25,
      "outputs": [
        {
          "output_type": "stream",
          "text": [
            "['THE', 'the', 3]\n",
            "['QUICK', 'quick', 5]\n",
            "['BROWN', 'brown', 5]\n",
            "['FOX', 'fox', 3]\n",
            "['JUMPS', 'jumps', 5]\n",
            "['OVER', 'over', 4]\n",
            "['THE', 'the', 3]\n",
            "['LAZY', 'lazy', 4]\n",
            "['DOG', 'dog', 3]\n"
          ],
          "name": "stdout"
        }
      ]
    },
    {
      "cell_type": "markdown",
      "metadata": {
        "id": "OFKgWEJIIbDK"
      },
      "source": [
        "**for loop + zip**"
      ]
    },
    {
      "cell_type": "code",
      "metadata": {
        "colab": {
          "base_uri": "https://localhost:8080/"
        },
        "id": "79e8F1F9IcIu",
        "outputId": "2069b82c-d655-4af9-b8bf-858295431a91"
      },
      "source": [
        "alist = ['a1','a2','a3']\r\n",
        "blist = ['b1','b2','b3']\r\n",
        "\r\n",
        "for a,b in zip(alist,blist):\r\n",
        "    print(a,b)"
      ],
      "execution_count": 11,
      "outputs": [
        {
          "output_type": "stream",
          "text": [
            "a1 b1\n",
            "a2 b2\n",
            "a3 b3\n"
          ],
          "name": "stdout"
        }
      ]
    },
    {
      "cell_type": "markdown",
      "metadata": {
        "id": "l_FX26SvIf1Q"
      },
      "source": [
        "**list comprehension + zip**"
      ]
    },
    {
      "cell_type": "code",
      "metadata": {
        "colab": {
          "base_uri": "https://localhost:8080/"
        },
        "id": "FLG5CJ9IIhOQ",
        "outputId": "4b801ef4-1e1d-44e5-82b8-ac731ef9a724"
      },
      "source": [
        "a,b,c = zip((1,2,3),(10,20,30),(100,200,300))\r\n",
        "print(a,b,c)"
      ],
      "execution_count": 26,
      "outputs": [
        {
          "output_type": "stream",
          "text": [
            "(1, 10, 100) (2, 20, 200) (3, 30, 300)\n"
          ],
          "name": "stdout"
        }
      ]
    },
    {
      "cell_type": "code",
      "metadata": {
        "colab": {
          "base_uri": "https://localhost:8080/"
        },
        "id": "qK2q4mZZJVUK",
        "outputId": "0c1d400f-999e-468e-b182-854d140b4be0"
      },
      "source": [
        "print([sum(x) for x in zip((1,2,3),(10,20,30),(100,200,300))])"
      ],
      "execution_count": 27,
      "outputs": [
        {
          "output_type": "stream",
          "text": [
            "[111, 222, 333]\n"
          ],
          "name": "stdout"
        }
      ]
    },
    {
      "cell_type": "markdown",
      "metadata": {
        "id": "jatabO98IjSK"
      },
      "source": [
        "**enumerate + zip**"
      ]
    },
    {
      "cell_type": "code",
      "metadata": {
        "colab": {
          "base_uri": "https://localhost:8080/"
        },
        "id": "_5sH4SUFImSC",
        "outputId": "5945b932-4cd5-4047-caae-0174baf724b8"
      },
      "source": [
        "alist = ['a1','a2','a3']\r\n",
        "blist = ['b1','b2','b3']\r\n",
        "\r\n",
        "for i,(a,b) in enumerate(zip(alist,blist)):\r\n",
        "    print(i,a,b)"
      ],
      "execution_count": 13,
      "outputs": [
        {
          "output_type": "stream",
          "text": [
            "0 a1 b1\n",
            "1 a2 b2\n",
            "2 a3 b3\n"
          ],
          "name": "stdout"
        }
      ]
    },
    {
      "cell_type": "markdown",
      "metadata": {
        "id": "8SQFZ33ZIo1s"
      },
      "source": [
        "**lambda function**"
      ]
    },
    {
      "cell_type": "code",
      "metadata": {
        "colab": {
          "base_uri": "https://localhost:8080/"
        },
        "id": "69lGTKOGIp4i",
        "outputId": "cd97847d-7909-43bd-f134-d01102460444"
      },
      "source": [
        "def f(x,y):\r\n",
        "    return x+y\r\n",
        "print (f(1,4))"
      ],
      "execution_count": 30,
      "outputs": [
        {
          "output_type": "stream",
          "text": [
            "5\n"
          ],
          "name": "stdout"
        }
      ]
    },
    {
      "cell_type": "code",
      "metadata": {
        "colab": {
          "base_uri": "https://localhost:8080/"
        },
        "id": "Ey710zTmJeyz",
        "outputId": "fc97d4e4-4a9a-408e-f47a-a4ee75942826"
      },
      "source": [
        "f = lambda x,y:x+y\r\n",
        "print(f(1,4))"
      ],
      "execution_count": 31,
      "outputs": [
        {
          "output_type": "stream",
          "text": [
            "5\n"
          ],
          "name": "stdout"
        }
      ]
    },
    {
      "cell_type": "code",
      "metadata": {
        "colab": {
          "base_uri": "https://localhost:8080/"
        },
        "id": "WcfTwtwpJZs_",
        "outputId": "eced0909-0521-4dc7-90b6-716577a375f6"
      },
      "source": [
        "f = lambda x:x/2\r\n",
        "print(f(3))"
      ],
      "execution_count": 29,
      "outputs": [
        {
          "output_type": "stream",
          "text": [
            "1.5\n"
          ],
          "name": "stdout"
        }
      ]
    },
    {
      "cell_type": "code",
      "metadata": {
        "colab": {
          "base_uri": "https://localhost:8080/"
        },
        "id": "Y7L5l40gJYVZ",
        "outputId": "0f8a7f8e-a0f1-4b37-d99d-854c50a6edcf"
      },
      "source": [
        "f = lambda x:x**2\r\n",
        "print(f(3))\r\n",
        "print((lambda x:x+1)(5))"
      ],
      "execution_count": 28,
      "outputs": [
        {
          "output_type": "stream",
          "text": [
            "9\n",
            "6\n"
          ],
          "name": "stdout"
        }
      ]
    },
    {
      "cell_type": "markdown",
      "metadata": {
        "id": "JUu55hu6Is_e"
      },
      "source": [
        "**map with lambda**"
      ]
    },
    {
      "cell_type": "code",
      "metadata": {
        "colab": {
          "base_uri": "https://localhost:8080/"
        },
        "id": "WS5RAajQIvBk",
        "outputId": "9717b0cc-84c7-413c-cba5-c151b6701bb3"
      },
      "source": [
        "ex = [1,2,3,4,5]\r\n",
        "print(list(map(lambda x: x+x, ex)))"
      ],
      "execution_count": 36,
      "outputs": [
        {
          "output_type": "stream",
          "text": [
            "[2, 4, 6, 8, 10]\n"
          ],
          "name": "stdout"
        }
      ]
    },
    {
      "cell_type": "code",
      "metadata": {
        "colab": {
          "base_uri": "https://localhost:8080/"
        },
        "id": "2UCSZ-lUJiJQ",
        "outputId": "cd4d82f4-a22a-4ef7-eaf0-b67459ecdbeb"
      },
      "source": [
        "print((map(lambda x: x+x, ex)))"
      ],
      "execution_count": 35,
      "outputs": [
        {
          "output_type": "stream",
          "text": [
            "<map object at 0x7fba04af2e48>\n"
          ],
          "name": "stdout"
        }
      ]
    },
    {
      "cell_type": "code",
      "metadata": {
        "colab": {
          "base_uri": "https://localhost:8080/"
        },
        "id": "v8UbBL0EJh72",
        "outputId": "af8e1f44-805c-4e83-8f43-e801370aa8c1"
      },
      "source": [
        "f = lambda x: x ** 2\r\n",
        "print(map(f, ex))"
      ],
      "execution_count": 33,
      "outputs": [
        {
          "output_type": "stream",
          "text": [
            "<map object at 0x7fba04b06ef0>\n"
          ],
          "name": "stdout"
        }
      ]
    },
    {
      "cell_type": "code",
      "metadata": {
        "colab": {
          "base_uri": "https://localhost:8080/"
        },
        "id": "IcG-de-qJhyq",
        "outputId": "19a6c7c2-9ea1-4923-d1e2-a4fa9e328156"
      },
      "source": [
        "for i in map(f, ex):\r\n",
        "    print(i)"
      ],
      "execution_count": 34,
      "outputs": [
        {
          "output_type": "stream",
          "text": [
            "1\n",
            "4\n",
            "9\n",
            "16\n",
            "25\n"
          ],
          "name": "stdout"
        }
      ]
    },
    {
      "cell_type": "markdown",
      "metadata": {
        "id": "54uPYGmPIxdh"
      },
      "source": [
        "**reduce with lambda**"
      ]
    },
    {
      "cell_type": "code",
      "metadata": {
        "colab": {
          "base_uri": "https://localhost:8080/"
        },
        "id": "xkCLJiARIzLu",
        "outputId": "645d4b69-7bc0-45a4-b4bd-770030f34c16"
      },
      "source": [
        "from functools import reduce\r\n",
        "print(reduce(lambda x, y: x+y, [1, 2, 3, 4, 5]))"
      ],
      "execution_count": 37,
      "outputs": [
        {
          "output_type": "stream",
          "text": [
            "15\n"
          ],
          "name": "stdout"
        }
      ]
    },
    {
      "cell_type": "code",
      "metadata": {
        "colab": {
          "base_uri": "https://localhost:8080/"
        },
        "id": "pibYSlyFJsjm",
        "outputId": "a151764d-04e6-4302-db23-10927b9d0c0e"
      },
      "source": [
        "def factorial(n):\r\n",
        "    return reduce(\r\n",
        "            lambda x, y: x*y, range(1, n+1))\r\n",
        "print(factorial(5))"
      ],
      "execution_count": 38,
      "outputs": [
        {
          "output_type": "stream",
          "text": [
            "120\n"
          ],
          "name": "stdout"
        }
      ]
    },
    {
      "cell_type": "markdown",
      "metadata": {
        "id": "Yvu3x8wRI1Wm"
      },
      "source": [
        "**Asterika(*)**"
      ]
    },
    {
      "cell_type": "code",
      "metadata": {
        "colab": {
          "base_uri": "https://localhost:8080/"
        },
        "id": "h679IKpFI3ay",
        "outputId": "d332c7bc-239a-4757-a96d-93daef8d1d5c"
      },
      "source": [
        "def asterisk_test1(a,*args):\r\n",
        "    print(a,args)\r\n",
        "    print(type(args))\r\n",
        "\r\n",
        "asterisk_test1(1,2,3,4,5,6)"
      ],
      "execution_count": 44,
      "outputs": [
        {
          "output_type": "stream",
          "text": [
            "1 (2, 3, 4, 5, 6)\n",
            "<class 'tuple'>\n"
          ],
          "name": "stdout"
        }
      ]
    },
    {
      "cell_type": "code",
      "metadata": {
        "colab": {
          "base_uri": "https://localhost:8080/"
        },
        "id": "UAIhrPq0J9OG",
        "outputId": "e37d342f-0f48-4d54-aaf8-c2b85d7a19de"
      },
      "source": [
        "def asterisk_test2(a,**kargs):\r\n",
        "    print(a,kargs)\r\n",
        "    print(type(kargs))\r\n",
        "\r\n",
        "asterisk_test2(1,b=2,c=3,d=4,e=5,f=6)"
      ],
      "execution_count": 45,
      "outputs": [
        {
          "output_type": "stream",
          "text": [
            "1 {'b': 2, 'c': 3, 'd': 4, 'e': 5, 'f': 6}\n",
            "<class 'dict'>\n"
          ],
          "name": "stdout"
        }
      ]
    },
    {
      "cell_type": "code",
      "metadata": {
        "colab": {
          "base_uri": "https://localhost:8080/"
        },
        "id": "u7QcQM9yJyTy",
        "outputId": "4a359bfb-af4d-4eea-89ef-05ed7fc59a78"
      },
      "source": [
        "def asterisk_test3(a,*args):\r\n",
        "    print(a,args[0])\r\n",
        "    print(type(args))\r\n",
        "\r\n",
        "asterisk_test3(1,(2,3,4,5,6))"
      ],
      "execution_count": 43,
      "outputs": [
        {
          "output_type": "stream",
          "text": [
            "1 (2, 3, 4, 5, 6)\n",
            "<class 'tuple'>\n"
          ],
          "name": "stdout"
        }
      ]
    },
    {
      "cell_type": "code",
      "metadata": {
        "colab": {
          "base_uri": "https://localhost:8080/"
        },
        "id": "Kf9gHeETJyN_",
        "outputId": "d64cff1e-c68b-4618-a332-ebe42f09b9ce"
      },
      "source": [
        "def asterisk_test4(a,args):\r\n",
        "    print(a,*args)\r\n",
        "    print(type(args))\r\n",
        "\r\n",
        "asterisk_test4(1,(2,3,4,5,6))"
      ],
      "execution_count": 42,
      "outputs": [
        {
          "output_type": "stream",
          "text": [
            "1 2 3 4 5 6\n",
            "<class 'tuple'>\n"
          ],
          "name": "stdout"
        }
      ]
    },
    {
      "cell_type": "code",
      "metadata": {
        "colab": {
          "base_uri": "https://localhost:8080/"
        },
        "id": "vW3MvE3zJyHX",
        "outputId": "5183ee50-c73f-41f2-a070-0ecfb748efba"
      },
      "source": [
        "a, b, c = ([1,2],[3,4],[5,6])\r\n",
        "print(a,b,c)"
      ],
      "execution_count": 41,
      "outputs": [
        {
          "output_type": "stream",
          "text": [
            "[1, 2] [3, 4] [5, 6]\n"
          ],
          "name": "stdout"
        }
      ]
    },
    {
      "cell_type": "code",
      "metadata": {
        "colab": {
          "base_uri": "https://localhost:8080/"
        },
        "id": "JU6_Dw_gJyBE",
        "outputId": "9acd8cf4-d957-42ff-b5ef-305323cbc0db"
      },
      "source": [
        "data = ([1,2],[3,4],[5,6])\r\n",
        "print(*data)"
      ],
      "execution_count": 40,
      "outputs": [
        {
          "output_type": "stream",
          "text": [
            "[1, 2] [3, 4] [5, 6]\n"
          ],
          "name": "stdout"
        }
      ]
    },
    {
      "cell_type": "code",
      "metadata": {
        "colab": {
          "base_uri": "https://localhost:8080/"
        },
        "id": "iKn97DwJJx6h",
        "outputId": "a3b948e8-73ca-4861-e0b0-f680011b55ed"
      },
      "source": [
        "for data in zip(*([1,2],[3,4],[5,6])):\r\n",
        "    print(sum(data))"
      ],
      "execution_count": 39,
      "outputs": [
        {
          "output_type": "stream",
          "text": [
            "9\n",
            "12\n"
          ],
          "name": "stdout"
        }
      ]
    }
  ]
}