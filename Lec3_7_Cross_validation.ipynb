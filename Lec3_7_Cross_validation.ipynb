{
  "nbformat": 4,
  "nbformat_minor": 0,
  "metadata": {
    "colab": {
      "name": "Lec3_7_Cross_validation.ipynb",
      "provenance": [],
      "collapsed_sections": [],
      "authorship_tag": "ABX9TyNt1IgKDPoWWl9nCdqgwSGt",
      "include_colab_link": true
    },
    "kernelspec": {
      "name": "python3",
      "display_name": "Python 3"
    }
  },
  "cells": [
    {
      "cell_type": "markdown",
      "metadata": {
        "id": "view-in-github",
        "colab_type": "text"
      },
      "source": [
        "<a href=\"https://colab.research.google.com/github/YeonKang/Python-for-Machine-Learning/blob/main/Lec3_7_Cross_validation.ipynb\" target=\"_parent\"><img src=\"https://colab.research.google.com/assets/colab-badge.svg\" alt=\"Open In Colab\"/></a>"
      ]
    },
    {
      "cell_type": "code",
      "metadata": {
        "id": "WnwdAgXfI5rb"
      },
      "source": [
        "from sklearn import datasets\r\n",
        "boston = datasets.load_boston()"
      ],
      "execution_count": 1,
      "outputs": []
    },
    {
      "cell_type": "code",
      "metadata": {
        "id": "C5fsN5_DJBz_"
      },
      "source": [
        "X = boston.data\r\n",
        "y = boston.target"
      ],
      "execution_count": 2,
      "outputs": []
    },
    {
      "cell_type": "code",
      "metadata": {
        "colab": {
          "base_uri": "https://localhost:8080/"
        },
        "id": "WXLFw1kKJD4n",
        "outputId": "41de69fc-c3d4-4320-db86-7dc195f5e3d7"
      },
      "source": [
        "from sklearn.model_selection import KFold\r\n",
        "\r\n",
        "kf = KFold(n_splits=10, shuffle=True)\r\n",
        "\r\n",
        "for train_index, test_index in kf.split(X):\r\n",
        "    print(\"TRAIN - \", len(train_index))\r\n",
        "    print(\"TEST - \",  len(test_index))"
      ],
      "execution_count": 3,
      "outputs": [
        {
          "output_type": "stream",
          "text": [
            "TRAIN -  455\n",
            "TEST -  51\n",
            "TRAIN -  455\n",
            "TEST -  51\n",
            "TRAIN -  455\n",
            "TEST -  51\n",
            "TRAIN -  455\n",
            "TEST -  51\n",
            "TRAIN -  455\n",
            "TEST -  51\n",
            "TRAIN -  455\n",
            "TEST -  51\n",
            "TRAIN -  456\n",
            "TEST -  50\n",
            "TRAIN -  456\n",
            "TEST -  50\n",
            "TRAIN -  456\n",
            "TEST -  50\n",
            "TRAIN -  456\n",
            "TEST -  50\n"
          ],
          "name": "stdout"
        }
      ]
    },
    {
      "cell_type": "code",
      "metadata": {
        "colab": {
          "base_uri": "https://localhost:8080/"
        },
        "id": "yC0ndxJuJGxG",
        "outputId": "04d037da-0a63-414c-f356-fffc847d71ef"
      },
      "source": [
        "from sklearn.linear_model import Lasso, Ridge\r\n",
        "from sklearn.metrics import mean_squared_error\r\n",
        "kf = KFold(n_splits=10)\r\n",
        "lasso_regressor = Lasso()\r\n",
        "ridge_regressor = Ridge()\r\n",
        "\r\n",
        "lasso_mse = []\r\n",
        "ridge_mse = []\r\n",
        "\r\n",
        "for train_index, test_index in kf.split(X):\r\n",
        "    lasso_regressor.fit(X[train_index], y[train_index])\r\n",
        "    ridge_regressor.fit(X[train_index], y[train_index])\r\n",
        "    \r\n",
        "    lasso_mse.append(mean_squared_error(y[test_index], lasso_regressor.predict(X[test_index])))\r\n",
        "    ridge_mse.append(mean_squared_error(y[test_index], ridge_regressor.predict(X[test_index])))\r\n",
        "    \r\n",
        "sum(lasso_mse) / 10, sum(ridge_mse) / 10"
      ],
      "execution_count": 4,
      "outputs": [
        {
          "output_type": "execute_result",
          "data": {
            "text/plain": [
              "(34.46408458830232, 34.078246209259355)"
            ]
          },
          "metadata": {
            "tags": []
          },
          "execution_count": 4
        }
      ]
    },
    {
      "cell_type": "code",
      "metadata": {
        "colab": {
          "base_uri": "https://localhost:8080/"
        },
        "id": "5XAIPhj5JIaM",
        "outputId": "ba75ca22-2bdc-4d1e-8e02-95f6dcd40081"
      },
      "source": [
        "from sklearn.model_selection import cross_val_score\r\n",
        "import numpy as np \r\n",
        "\r\n",
        "lasso_regressor = Lasso(warm_start=False)\r\n",
        "ridge_regressor = Ridge()\r\n",
        "\r\n",
        "lasso_scores = cross_val_score(lasso_regressor, X, y, cv=10, scoring='neg_mean_squared_error')\r\n",
        "ridge_scores= cross_val_score(ridge_regressor, X, y, cv=10, scoring='neg_mean_squared_error')\r\n",
        "np.mean(lasso_scores), np.mean(ridge_scores)"
      ],
      "execution_count": 5,
      "outputs": [
        {
          "output_type": "execute_result",
          "data": {
            "text/plain": [
              "(-34.46408458830232, -34.078246209259355)"
            ]
          },
          "metadata": {
            "tags": []
          },
          "execution_count": 5
        }
      ]
    },
    {
      "cell_type": "code",
      "metadata": {
        "colab": {
          "base_uri": "https://localhost:8080/"
        },
        "id": "2in0xdQsJKIy",
        "outputId": "69c354ca-1c46-45d9-affd-061873756f3e"
      },
      "source": [
        "from sklearn.model_selection import cross_validate\r\n",
        "import numpy as np \r\n",
        "\r\n",
        "lasso_regressor = Lasso(warm_start=False)\r\n",
        "ridge_regressor = Ridge()\r\n",
        "\r\n",
        "scoring = ['neg_mean_squared_error', 'r2']\r\n",
        "\r\n",
        "lasso_scores = cross_validate(lasso_regressor, X, y, cv=10, scoring=scoring)\r\n",
        "ridge_scores= cross_validate(ridge_regressor, X, y, cv=10, scoring='neg_mean_squared_error')\r\n",
        "lasso_scores"
      ],
      "execution_count": 6,
      "outputs": [
        {
          "output_type": "execute_result",
          "data": {
            "text/plain": [
              "{'fit_time': array([0.00324774, 0.00210547, 0.00093269, 0.00087953, 0.00084162,\n",
              "        0.00086451, 0.00095868, 0.00084138, 0.00082207, 0.00090384]),\n",
              " 'score_time': array([0.00179577, 0.00077915, 0.00075173, 0.00078344, 0.00073338,\n",
              "        0.00076437, 0.00073814, 0.00071883, 0.00071502, 0.000741  ]),\n",
              " 'test_neg_mean_squared_error': array([ -11.75904887,  -17.87218543,  -10.52504673,  -60.79224355,\n",
              "         -46.77806854,  -40.75196077,  -17.30562005, -102.67754279,\n",
              "         -22.8731834 ,  -13.30594575]),\n",
              " 'test_r2': array([ 0.66289033,  0.33452353, -0.50043664,  0.38035161,  0.33638098,\n",
              "         0.4584511 , -0.0816218 ,  0.31138236, -0.21362102,  0.29459703])}"
            ]
          },
          "metadata": {
            "tags": []
          },
          "execution_count": 6
        }
      ]
    },
    {
      "cell_type": "code",
      "metadata": {
        "colab": {
          "base_uri": "https://localhost:8080/"
        },
        "id": "xVLSYJaHJL6S",
        "outputId": "1c208af5-c14a-43df-bf31-9dea858b7615"
      },
      "source": [
        "from sklearn.model_selection import cross_val_score\r\n",
        "import numpy as np \r\n",
        "\r\n",
        "lasso_regressor = Lasso(warm_start=False)\r\n",
        "ridge_regressor = Ridge()\r\n",
        "\r\n",
        "kf = KFold(n_splits=10, shuffle=True)\r\n",
        "\r\n",
        "lasso_scores = cross_val_score(lasso_regressor, X, y, cv=kf, scoring='neg_mean_squared_error')\r\n",
        "ridge_scores= cross_val_score(ridge_regressor, X, y, cv=kf, scoring='neg_mean_squared_error')\r\n",
        "np.mean(lasso_scores), np.mean(ridge_scores)"
      ],
      "execution_count": 7,
      "outputs": [
        {
          "output_type": "execute_result",
          "data": {
            "text/plain": [
              "(-28.51797623890347, -23.941432963658634)"
            ]
          },
          "metadata": {
            "tags": []
          },
          "execution_count": 7
        }
      ]
    },
    {
      "cell_type": "code",
      "metadata": {
        "colab": {
          "base_uri": "https://localhost:8080/"
        },
        "id": "ALxhej1SJNaJ",
        "outputId": "c9987d67-ccb8-4029-c7e3-824c5fdc740c"
      },
      "source": [
        "from sklearn.model_selection import LeaveOneOut\r\n",
        "\r\n",
        "test = [1, 2, 3, 4]\r\n",
        "loo = LeaveOneOut()\r\n",
        "for train, test in loo.split(test):\r\n",
        "    print(\"%s %s\" % (train, test))"
      ],
      "execution_count": 8,
      "outputs": [
        {
          "output_type": "stream",
          "text": [
            "[1 2 3] [0]\n",
            "[0 2 3] [1]\n",
            "[0 1 3] [2]\n",
            "[0 1 2] [3]\n"
          ],
          "name": "stdout"
        }
      ]
    },
    {
      "cell_type": "code",
      "metadata": {
        "colab": {
          "base_uri": "https://localhost:8080/"
        },
        "id": "HIi4qKb4JPL_",
        "outputId": "df03856d-477b-43fc-978f-9012e767df8e"
      },
      "source": [
        "loo = LeaveOneOut()\r\n",
        "    \r\n",
        "lasso_scores = cross_val_score(lasso_regressor, X, y, cv=loo, scoring='neg_mean_squared_error')\r\n",
        "ridge_scores= cross_val_score(ridge_regressor, X, y, cv=loo, scoring='neg_mean_squared_error')\r\n",
        "np.mean(lasso_scores), np.mean(ridge_scores)"
      ],
      "execution_count": 9,
      "outputs": [
        {
          "output_type": "execute_result",
          "data": {
            "text/plain": [
              "(-28.409266762049334, -23.86283631720998)"
            ]
          },
          "metadata": {
            "tags": []
          },
          "execution_count": 9
        }
      ]
    },
    {
      "cell_type": "code",
      "metadata": {
        "id": "CrxcWiWZJQ7c"
      },
      "source": [
        "lasso_scores = cross_val_score(\r\n",
        "    lasso_regressor, X, y, cv=kf, scoring='neg_mean_squared_error')\r\n",
        "ridge_scores= cross_val_score(\r\n",
        "    ridge_regressor, X, y, cv=kf, scoring='neg_mean_squared_error')"
      ],
      "execution_count": 10,
      "outputs": []
    },
    {
      "cell_type": "code",
      "metadata": {
        "colab": {
          "base_uri": "https://localhost:8080/",
          "height": 265
        },
        "id": "SUrW0XAPJS-m",
        "outputId": "16d6318b-c89f-420e-b2b3-bcaaa509dd2a"
      },
      "source": [
        "import matplotlib.pyplot as plt\r\n",
        "labels=[\"LASSO\", \"RIDGE\"]\r\n",
        "plt.boxplot((lasso_scores, ridge_scores), labels=labels)\r\n",
        "plt.grid(linestyle=\"--\")\r\n",
        "plt.show()"
      ],
      "execution_count": 11,
      "outputs": [
        {
          "output_type": "display_data",
          "data": {
            "image/png": "[encoded data removed]",
            "text/plain": [
              "<Figure size 432x288 with 1 Axes>"
            ]
          },
          "metadata": {
            "tags": [],
            "needs_background": "light"
          }
        }
      ]
    },
    {
      "cell_type": "code",
      "metadata": {
        "id": "xPCkyX5iJUiH"
      },
      "source": [
        "def rmse(predictions, targets):\r\n",
        "    return np.sqrt(((predictions - targets) ** 2).mean())"
      ],
      "execution_count": 12,
      "outputs": []
    },
    {
      "cell_type": "code",
      "metadata": {
        "id": "yjLs6DY9JV2I"
      },
      "source": [
        "from sklearn.linear_model import SGDRegressor\r\n",
        "from sklearn.preprocessing import StandardScaler\r\n",
        "\r\n",
        "std = StandardScaler()\r\n",
        "std.fit(X)\r\n",
        "X_scaled = std.transform(X)\r\n",
        "\r\n",
        "eta0 = 0.01 \r\n",
        "max_iter = 100"
      ],
      "execution_count": 13,
      "outputs": []
    },
    {
      "cell_type": "code",
      "metadata": {
        "id": "52D-2R8yJYMW"
      },
      "source": [
        "from sklearn.model_selection import train_test_split\r\n",
        "\r\n",
        "\r\n",
        "X_train_dataset, X_test, y_train_dataset, y_test = train_test_split(\r\n",
        "            X_scaled,y, test_size=0.2, random_state=42)\r\n",
        "\r\n",
        "sgd_regressor = SGDRegressor(\r\n",
        "    eta0=eta0, max_iter=max_iter, warm_start=True, learning_rate=\"constant\")\r\n",
        "\r\n",
        "rmse_val_score = []\r\n",
        "rmse_train_score = []\r\n",
        "model_list = []\r\n",
        "\r\n",
        "X_train, X_val, y_train, y_val = train_test_split(\r\n",
        "    X_train_dataset,y_train_dataset, test_size=0.2, random_state=42)\r\n",
        "sgd_regressor.fit(X_train,y_train)\r\n",
        "\r\n",
        "for i in range(300):\r\n",
        "\r\n",
        "    y_pred = sgd_regressor.predict(X_train)\r\n",
        "    y_true = y_train\r\n",
        "    rmse_train_score.append(rmse(y_pred, y_true))\r\n",
        "\r\n",
        "    y_pred = sgd_regressor.predict(X_val)\r\n",
        "    y_true = y_val\r\n",
        "    rmse_val_score.append(rmse(y_pred, y_true))\r\n",
        "    model_list.append(sgd_regressor)\r\n",
        "\r\n",
        "    coef = sgd_regressor.coef_.copy()\r\n",
        "    intercept = sgd_regressor.intercept_.copy()\r\n",
        "\r\n",
        "    sgd_regressor = SGDRegressor(\r\n",
        "        eta0=eta0, max_iter=max_iter, warm_start=True, learning_rate=\"constant\")\r\n",
        "    \r\n",
        "    sgd_regressor.fit(X_train,y_train, coef_init=coef, intercept_init=intercept)"
      ],
      "execution_count": 14,
      "outputs": []
    },
    {
      "cell_type": "code",
      "metadata": {
        "id": "tVfp6qAJJqat",
        "colab": {
          "base_uri": "https://localhost:8080/",
          "height": 301
        },
        "outputId": "eb3242c6-fad6-4b04-9fdc-2dd8fdc01286"
      },
      "source": [
        "plt.plot(range(len(rmse_val_score)), rmse_val_score,  c=\"G\", label=\"VAL\")\r\n",
        "plt.plot(range(len(rmse_train_score)), rmse_train_score,  c=\"r\", label=\"TRAINING\")\r\n",
        "plt.scatter(99, rmse(y_test,sgd_regressor.predict(X_test)), s=1, label=\"TEST\")\r\n",
        "plt.legend()\r\n",
        "plt.show()"
      ],
      "execution_count": 15,
      "outputs": [
        {
          "output_type": "stream",
          "text": [
            "/usr/local/lib/python3.6/dist-packages/IPython/core/pylabtools.py:125: MatplotlibDeprecationWarning: Support for uppercase single-letter colors is deprecated since Matplotlib 3.1 and will be removed in 3.3; please use lowercase instead.\n",
            "  fig.canvas.print_figure(bytes_io, **kw)\n"
          ],
          "name": "stderr"
        },
        {
          "output_type": "display_data",
          "data": {
            "image/png": "[encoded data removed]",
            "text/plain": [
              "<Figure size 432x288 with 1 Axes>"
            ]
          },
          "metadata": {
            "tags": [],
            "needs_background": "light"
          }
        }
      ]
    },
    {
      "cell_type": "code",
      "metadata": {
        "id": "KFlqDIf3Jr-n",
        "colab": {
          "base_uri": "https://localhost:8080/"
        },
        "outputId": "4d117b5f-db08-4e0a-ef42-3daf3f9fbe5f"
      },
      "source": [
        "np.argsort(rmse_val_score)"
      ],
      "execution_count": 16,
      "outputs": [
        {
          "output_type": "execute_result",
          "data": {
            "text/plain": [
              "array([287, 257, 268, 182,  85, 193, 122, 261,  45, 286, 146,  93,  35,\n",
              "       127,  60, 123, 243,  18, 297, 131,  73,  68, 290, 244, 285, 186,\n",
              "        53, 227, 209, 112, 278, 250, 266, 153, 179, 245,   9,  42, 226,\n",
              "        77,  71, 264, 298,  38,   5, 215, 211,  34, 219,  28,  67, 222,\n",
              "       165, 192, 180, 167,  56, 270, 109, 218,  37,  44,  20, 247, 100,\n",
              "       241, 259,  59, 279, 214, 137, 233, 118, 291,  64,  80, 117, 161,\n",
              "       148,  15, 128, 111,  54, 208, 284, 265, 145, 299, 238, 196, 217,\n",
              "       114, 125, 232, 138,  24, 231, 143, 185, 163,   4, 240, 141,  88,\n",
              "       164,  19, 197,  97,  33,  98,  89,   8,  92, 151, 289, 236,  83,\n",
              "        91,   0,  69, 166, 150, 120,  14,  48, 256,  16, 212, 155, 132,\n",
              "       139, 147, 294,  99,  32,   3, 130,  27, 135, 251, 184, 210,  57,\n",
              "       280,  46, 176, 274, 191,  29,  75,  30, 156,  25, 110, 173,  11,\n",
              "       126,   7, 105, 190, 258,  70,  94, 246, 178,  66, 129, 220, 119,\n",
              "       262, 177,  22, 213,   6, 277, 168, 267, 252, 188,   1, 263, 239,\n",
              "        41, 133, 115, 242,  62,  36, 107,  84, 235, 140, 201, 248, 113,\n",
              "       116, 183,  21, 282,  12, 158, 162, 269,  26, 160,  13, 255,  40,\n",
              "       200, 103, 194, 228,  87,  78, 181, 223, 101, 254, 136,  90, 154,\n",
              "       207,  51, 234, 296,   2, 272,  31,  10, 224, 199, 157, 142, 169,\n",
              "       253, 229, 295,  49, 237, 124,  55, 102, 293,  58,  50, 159, 225,\n",
              "       281, 172, 273, 292, 221,  52, 149, 134, 187,  81, 152, 202, 144,\n",
              "        23, 106, 271,  72, 121,  63, 171,  61, 249,  79, 204, 198, 275,\n",
              "       104, 288,  76, 216,  96, 108, 203, 230, 195,  82, 189,  65,  74,\n",
              "       175, 174, 170, 283,  47,  17, 205, 276,  95, 206,  43, 260,  39,\n",
              "        86])"
            ]
          },
          "metadata": {
            "tags": []
          },
          "execution_count": 16
        }
      ]
    },
    {
      "cell_type": "code",
      "metadata": {
        "id": "D5xWLUhHJtm6",
        "colab": {
          "base_uri": "https://localhost:8080/"
        },
        "outputId": "6a8abde7-e511-4813-fb14-e6b24031ab54"
      },
      "source": [
        "rmse(y_test,sgd_regressor.predict(X_test))"
      ],
      "execution_count": 17,
      "outputs": [
        {
          "output_type": "execute_result",
          "data": {
            "text/plain": [
              "5.019863212807659"
            ]
          },
          "metadata": {
            "tags": []
          },
          "execution_count": 17
        }
      ]
    },
    {
      "cell_type": "code",
      "metadata": {
        "colab": {
          "base_uri": "https://localhost:8080/"
        },
        "id": "23YjUD1WZ3lj",
        "outputId": "e4536cd6-0ba5-466a-dc12-fd2404a784e1"
      },
      "source": [
        "rmse(y_test,model_list[217].predict(X_test))"
      ],
      "execution_count": 18,
      "outputs": [
        {
          "output_type": "execute_result",
          "data": {
            "text/plain": [
              "5.264910776397732"
            ]
          },
          "metadata": {
            "tags": []
          },
          "execution_count": 18
        }
      ]
    },
    {
      "cell_type": "code",
      "metadata": {
        "colab": {
          "base_uri": "https://localhost:8080/"
        },
        "id": "arO05wh5Z6GN",
        "outputId": "88f1817e-0b15-4970-fe2f-103762ae00d3"
      },
      "source": [
        "model_list[0].coef_"
      ],
      "execution_count": 19,
      "outputs": [
        {
          "output_type": "execute_result",
          "data": {
            "text/plain": [
              "array([-0.99626597,  0.9422438 ,  0.07380921,  0.58271765, -2.23026612,\n",
              "        3.74512467, -0.06942451, -3.33595169,  1.81793535, -1.54624162,\n",
              "       -1.97961275,  1.54878094, -3.28652989])"
            ]
          },
          "metadata": {
            "tags": []
          },
          "execution_count": 19
        }
      ]
    }
  ]
}