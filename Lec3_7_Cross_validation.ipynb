{
  "nbformat": 4,
  "nbformat_minor": 0,
  "metadata": {
    "colab": {
      "name": "Lec3_7_Cross_validation.ipynb",
      "provenance": [],
      "collapsed_sections": [],
      "authorship_tag": "ABX9TyNAf9TOOAffLDFhJfs2JA08",
      "include_colab_link": true
    },
    "kernelspec": {
      "name": "python3",
      "display_name": "Python 3"
    }
  },
  "cells": [
    {
      "cell_type": "markdown",
      "metadata": {
        "id": "view-in-github",
        "colab_type": "text"
      },
      "source": [
        "<a href=\"https://colab.research.google.com/github/YeonKang/Python-for-Machine-Learning/blob/main/Lec3_7_Cross_validation.ipynb\" target=\"_parent\"><img src=\"https://colab.research.google.com/assets/colab-badge.svg\" alt=\"Open In Colab\"/></a>"
      ]
    },
    {
      "cell_type": "code",
      "metadata": {
        "id": "WnwdAgXfI5rb"
      },
      "source": [
        "from sklearn import datasets\r\n",
        "boston = datasets.load_boston()"
      ],
      "execution_count": null,
      "outputs": []
    },
    {
      "cell_type": "code",
      "metadata": {
        "id": "C5fsN5_DJBz_"
      },
      "source": [
        "X = boston.data\r\n",
        "y = boston.target"
      ],
      "execution_count": null,
      "outputs": []
    },
    {
      "cell_type": "code",
      "metadata": {
        "colab": {
          "base_uri": "https://localhost:8080/"
        },
        "id": "WXLFw1kKJD4n",
        "outputId": "40ed20db-10b9-449c-8ed2-1a4ce0ae43d3"
      },
      "source": [
        "from sklearn.model_selection import KFold\r\n",
        "\r\n",
        "kf = KFold(n_splits=10, shuffle=True)\r\n",
        "\r\n",
        "for train_index, test_index in kf.split(X):\r\n",
        "    print(\"TRAIN - \", len(train_index))\r\n",
        "    print(\"TEST - \",  len(test_index))"
      ],
      "execution_count": null,
      "outputs": [
        {
          "output_type": "stream",
          "text": [
            "TRAIN -  455\n",
            "TEST -  51\n",
            "TRAIN -  455\n",
            "TEST -  51\n",
            "TRAIN -  455\n",
            "TEST -  51\n",
            "TRAIN -  455\n",
            "TEST -  51\n",
            "TRAIN -  455\n",
            "TEST -  51\n",
            "TRAIN -  455\n",
            "TEST -  51\n",
            "TRAIN -  456\n",
            "TEST -  50\n",
            "TRAIN -  456\n",
            "TEST -  50\n",
            "TRAIN -  456\n",
            "TEST -  50\n",
            "TRAIN -  456\n",
            "TEST -  50\n"
          ],
          "name": "stdout"
        }
      ]
    },
    {
      "cell_type": "code",
      "metadata": {
        "colab": {
          "base_uri": "https://localhost:8080/"
        },
        "id": "yC0ndxJuJGxG",
        "outputId": "d774c51d-3446-4197-d8ac-1b6b091997c2"
      },
      "source": [
        "from sklearn.linear_model import Lasso, Ridge\r\n",
        "from sklearn.metrics import mean_squared_error\r\n",
        "kf = KFold(n_splits=10)\r\n",
        "lasso_regressor = Lasso()\r\n",
        "ridge_regressor = Ridge()\r\n",
        "\r\n",
        "lasso_mse = []\r\n",
        "ridge_mse = []\r\n",
        "\r\n",
        "for train_index, test_index in kf.split(X):\r\n",
        "    lasso_regressor.fit(X[train_index], y[train_index])\r\n",
        "    ridge_regressor.fit(X[train_index], y[train_index])\r\n",
        "    \r\n",
        "    lasso_mse.append(mean_squared_error(y[test_index], lasso_regressor.predict(X[test_index])))\r\n",
        "    ridge_mse.append(mean_squared_error(y[test_index], ridge_regressor.predict(X[test_index])))\r\n",
        "    \r\n",
        "sum(lasso_mse) / 10, sum(ridge_mse) / 10"
      ],
      "execution_count": null,
      "outputs": [
        {
          "output_type": "execute_result",
          "data": {
            "text/plain": [
              "(34.46408458830232, 34.07824620925937)"
            ]
          },
          "metadata": {
            "tags": []
          },
          "execution_count": 4
        }
      ]
    },
    {
      "cell_type": "code",
      "metadata": {
        "colab": {
          "base_uri": "https://localhost:8080/"
        },
        "id": "5XAIPhj5JIaM",
        "outputId": "b15a0b01-b483-4aed-aa77-6bbcde62a6a0"
      },
      "source": [
        "from sklearn.model_selection import cross_val_score\r\n",
        "import numpy as np \r\n",
        "\r\n",
        "lasso_regressor = Lasso(warm_start=False)\r\n",
        "ridge_regressor = Ridge()\r\n",
        "\r\n",
        "lasso_scores = cross_val_score(lasso_regressor, X, y, cv=10, scoring='neg_mean_squared_error')\r\n",
        "ridge_scores= cross_val_score(ridge_regressor, X, y, cv=10, scoring='neg_mean_squared_error')\r\n",
        "np.mean(lasso_scores), np.mean(ridge_scores)"
      ],
      "execution_count": null,
      "outputs": [
        {
          "output_type": "execute_result",
          "data": {
            "text/plain": [
              "(-34.46408458830232, -34.07824620925937)"
            ]
          },
          "metadata": {
            "tags": []
          },
          "execution_count": 5
        }
      ]
    },
    {
      "cell_type": "code",
      "metadata": {
        "colab": {
          "base_uri": "https://localhost:8080/"
        },
        "id": "2in0xdQsJKIy",
        "outputId": "05159864-80be-46a1-e757-3b155bb4e1aa"
      },
      "source": [
        "from sklearn.model_selection import cross_validate\r\n",
        "import numpy as np \r\n",
        "\r\n",
        "lasso_regressor = Lasso(warm_start=False)\r\n",
        "ridge_regressor = Ridge()\r\n",
        "\r\n",
        "scoring = ['neg_mean_squared_error', 'r2']\r\n",
        "\r\n",
        "lasso_scores = cross_validate(lasso_regressor, X, y, cv=10, scoring=scoring)\r\n",
        "ridge_scores= cross_validate(ridge_regressor, X, y, cv=10, scoring='neg_mean_squared_error')\r\n",
        "lasso_scores"
      ],
      "execution_count": null,
      "outputs": [
        {
          "output_type": "execute_result",
          "data": {
            "text/plain": [
              "{'fit_time': array([0.00151563, 0.0023098 , 0.00071406, 0.00062704, 0.00066185,\n",
              "        0.00060225, 0.00072384, 0.0005908 , 0.00067639, 0.00065351]),\n",
              " 'score_time': array([0.00138879, 0.00109863, 0.00053835, 0.0005827 , 0.00052071,\n",
              "        0.00057912, 0.0005455 , 0.00058126, 0.00056076, 0.00055218]),\n",
              " 'test_neg_mean_squared_error': array([ -11.75904887,  -17.87218543,  -10.52504673,  -60.79224355,\n",
              "         -46.77806854,  -40.75196077,  -17.30562005, -102.67754279,\n",
              "         -22.8731834 ,  -13.30594575]),\n",
              " 'test_r2': array([ 0.66289033,  0.33452353, -0.50043664,  0.38035161,  0.33638098,\n",
              "         0.4584511 , -0.0816218 ,  0.31138236, -0.21362102,  0.29459703])}"
            ]
          },
          "metadata": {
            "tags": []
          },
          "execution_count": 6
        }
      ]
    },
    {
      "cell_type": "code",
      "metadata": {
        "colab": {
          "base_uri": "https://localhost:8080/"
        },
        "id": "xVLSYJaHJL6S",
        "outputId": "57182ab8-56eb-448a-b7cc-0211b0d4a768"
      },
      "source": [
        "from sklearn.model_selection import cross_val_score\r\n",
        "import numpy as np \r\n",
        "\r\n",
        "lasso_regressor = Lasso(warm_start=False)\r\n",
        "ridge_regressor = Ridge()\r\n",
        "\r\n",
        "kf = KFold(n_splits=10, shuffle=True)\r\n",
        "\r\n",
        "lasso_scores = cross_val_score(lasso_regressor, X, y, cv=kf, scoring='neg_mean_squared_error')\r\n",
        "ridge_scores= cross_val_score(ridge_regressor, X, y, cv=kf, scoring='neg_mean_squared_error')\r\n",
        "np.mean(lasso_scores), np.mean(ridge_scores)"
      ],
      "execution_count": null,
      "outputs": [
        {
          "output_type": "execute_result",
          "data": {
            "text/plain": [
              "(-28.06872782549412, -23.897584286598182)"
            ]
          },
          "metadata": {
            "tags": []
          },
          "execution_count": 7
        }
      ]
    },
    {
      "cell_type": "code",
      "metadata": {
        "colab": {
          "base_uri": "https://localhost:8080/"
        },
        "id": "ALxhej1SJNaJ",
        "outputId": "0e0f0897-fad4-4762-dd21-14e50b0f3fd9"
      },
      "source": [
        "from sklearn.model_selection import LeaveOneOut\r\n",
        "\r\n",
        "test = [1, 2, 3, 4]\r\n",
        "loo = LeaveOneOut()\r\n",
        "for train, test in loo.split(test):\r\n",
        "    print(\"%s %s\" % (train, test))"
      ],
      "execution_count": null,
      "outputs": [
        {
          "output_type": "stream",
          "text": [
            "[1 2 3] [0]\n",
            "[0 2 3] [1]\n",
            "[0 1 3] [2]\n",
            "[0 1 2] [3]\n"
          ],
          "name": "stdout"
        }
      ]
    },
    {
      "cell_type": "code",
      "metadata": {
        "colab": {
          "base_uri": "https://localhost:8080/"
        },
        "id": "HIi4qKb4JPL_",
        "outputId": "44a053c6-4da5-47fb-f557-cc258f30f291"
      },
      "source": [
        "loo = LeaveOneOut()\r\n",
        "    \r\n",
        "lasso_scores = cross_val_score(lasso_regressor, X, y, cv=loo, scoring='neg_mean_squared_error')\r\n",
        "ridge_scores= cross_val_score(ridge_regressor, X, y, cv=loo, scoring='neg_mean_squared_error')\r\n",
        "np.mean(lasso_scores), np.mean(ridge_scores)"
      ],
      "execution_count": null,
      "outputs": [
        {
          "output_type": "execute_result",
          "data": {
            "text/plain": [
              "(-28.409266762049334, -23.86283631720998)"
            ]
          },
          "metadata": {
            "tags": []
          },
          "execution_count": 9
        }
      ]
    },
    {
      "cell_type": "code",
      "metadata": {
        "id": "CrxcWiWZJQ7c"
      },
      "source": [
        "lasso_scores = cross_val_score(\r\n",
        "    lasso_regressor, X, y, cv=kf, scoring='neg_mean_squared_error')\r\n",
        "ridge_scores= cross_val_score(\r\n",
        "    ridge_regressor, X, y, cv=kf, scoring='neg_mean_squared_error')"
      ],
      "execution_count": null,
      "outputs": []
    },
    {
      "cell_type": "code",
      "metadata": {
        "colab": {
          "base_uri": "https://localhost:8080/",
          "height": 265
        },
        "id": "SUrW0XAPJS-m",
        "outputId": "6742c8dc-a8b9-430e-89bd-3c2945c7c1b3"
      },
      "source": [
        "import matplotlib.pyplot as plt\r\n",
        "labels=[\"LASSO\", \"RIDGE\"]\r\n",
        "plt.boxplot((lasso_scores, ridge_scores), labels=labels)\r\n",
        "plt.grid(linestyle=\"--\")\r\n",
        "plt.show()"
      ],
      "execution_count": null,
      "outputs": [
        {
          "output_type": "display_data",
          "data": {
            "image/png": "[encoded data removed]",
            "text/plain": [
              "<Figure size 432x288 with 1 Axes>"
            ]
          },
          "metadata": {
            "tags": [],
            "needs_background": "light"
          }
        }
      ]
    },
    {
      "cell_type": "code",
      "metadata": {
        "id": "xPCkyX5iJUiH"
      },
      "source": [
        "def rmse(predictions, targets):\r\n",
        "    return np.sqrt(((predictions - targets) ** 2).mean())"
      ],
      "execution_count": null,
      "outputs": []
    },
    {
      "cell_type": "code",
      "metadata": {
        "id": "yjLs6DY9JV2I"
      },
      "source": [
        "from sklearn.linear_model import SGDRegressor\r\n",
        "from sklearn.preprocessing import StandardScaler\r\n",
        "\r\n",
        "std = StandardScaler()\r\n",
        "std.fit(X)\r\n",
        "X_scaled = std.transform(X)\r\n",
        "\r\n",
        "eta0 = 0.01 \r\n",
        "max_iter = 100"
      ],
      "execution_count": null,
      "outputs": []
    },
    {
      "cell_type": "code",
      "metadata": {
        "id": "52D-2R8yJYMW"
      },
      "source": [
        "from sklearn.model_selection import train_test_split\r\n",
        "\r\n",
        "\r\n",
        "X_train_dataset, X_test, y_train_dataset, y_test = train_test_split(\r\n",
        "            X_scaled,y, test_size=0.2, random_state=42)\r\n",
        "\r\n",
        "sgd_regressor = SGDRegressor(\r\n",
        "    eta0=eta0, max_iter=max_iter, warm_start=True, learning_rate=\"constant\")\r\n",
        "\r\n",
        "rmse_val_score = []\r\n",
        "rmse_train_score = []\r\n",
        "model_list = []\r\n",
        "\r\n",
        "X_train, X_val, y_train, y_val = train_test_split(\r\n",
        "    X_train_dataset,y_train_dataset, test_size=0.2, random_state=42)\r\n",
        "sgd_regressor.fit(X_train,y_train)\r\n",
        "\r\n",
        "for i in range(300):\r\n",
        "\r\n",
        "    y_pred = sgd_regressor.predict(X_train)\r\n",
        "    y_true = y_train\r\n",
        "    rmse_train_score.append(rmse(y_pred, y_true))\r\n",
        "\r\n",
        "    y_pred = sgd_regressor.predict(X_val)\r\n",
        "    y_true = y_val\r\n",
        "    rmse_val_score.append(rmse(y_pred, y_true))\r\n",
        "    model_list.append(sgd_regressor)\r\n",
        "\r\n",
        "    coef = sgd_regressor.coef_.copy()\r\n",
        "    intercept = sgd_regressor.intercept_.copy()\r\n",
        "\r\n",
        "    sgd_regressor = SGDRegressor(\r\n",
        "        eta0=eta0, max_iter=max_iter, warm_start=True, learning_rate=\"constant\")\r\n",
        "    \r\n",
        "    sgd_regressor.fit(X_train,y_train, coef_init=coef, intercept_init=intercept)"
      ],
      "execution_count": null,
      "outputs": []
    },
    {
      "cell_type": "code",
      "metadata": {
        "id": "tVfp6qAJJqat",
        "colab": {
          "base_uri": "https://localhost:8080/",
          "height": 321
        },
        "outputId": "f8c75179-5db7-4d49-905d-1b6db65f3eba"
      },
      "source": [
        "plt.plot(range(len(rmse_val_score)), rmse_val_score,  c=\"G\", label=\"VAL\")\r\n",
        "plt.plot(range(len(rmse_train_score)), rmse_train_score,  c=\"r\", label=\"TRAINING\")\r\n",
        "plt.scatter(99, rmse(y_test,sgd_regressor.predict(X_test)), s=1, label=\"TEST\")\r\n",
        "plt.legend()\r\n",
        "plt.show()"
      ],
      "execution_count": null,
      "outputs": [
        {
          "output_type": "stream",
          "text": [
            "/usr/local/lib/python3.6/dist-packages/IPython/core/pylabtools.py:125: MatplotlibDeprecationWarning: Support for uppercase single-letter colors is deprecated since Matplotlib 3.1 and will be removed in 3.3; please use lowercase instead.\n",
            "  fig.canvas.print_figure(bytes_io, **kw)\n"
          ],
          "name": "stderr"
        },
        {
          "output_type": "display_data",
          "data": {
            "image/png": "[encoded data removed]",
            "text/plain": [
              "<Figure size 432x288 with 1 Axes>"
            ]
          },
          "metadata": {
            "tags": [],
            "needs_background": "light"
          }
        }
      ]
    },
    {
      "cell_type": "code",
      "metadata": {
        "id": "KFlqDIf3Jr-n",
        "colab": {
          "base_uri": "https://localhost:8080/"
        },
        "outputId": "2e7b2869-a183-448e-f62a-d44d0fe1060b"
      },
      "source": [
        "np.argsort(rmse_val_score)"
      ],
      "execution_count": null,
      "outputs": [
        {
          "output_type": "execute_result",
          "data": {
            "text/plain": [
              "array([ 50,  55,  72, 150, 266,  20, 273, 137,  81, 224, 162, 190, 272,\n",
              "        13,  24, 132, 267,  34,  16, 183, 178, 148, 244, 122, 100, 291,\n",
              "        67,  95, 138, 168, 214, 299,  71, 116,  45, 173, 218, 130, 166,\n",
              "        69,  83, 159, 222, 248,  15, 125, 133, 154,  27, 283,  96,  46,\n",
              "       254, 233, 179, 289,  89,  25,  86, 141, 279,  61,  30, 126, 177,\n",
              "       231, 216, 149, 140,  99, 189, 226, 246, 281, 209,  31, 217, 256,\n",
              "       167, 160, 247, 200,  18,  59, 206,   2, 282, 212, 296, 147, 255,\n",
              "        80, 240, 103,  62, 136,  52,  23, 227, 215, 115, 118,  54,  58,\n",
              "       211,  44, 201, 260,  74, 205, 259,  78,  97, 298, 292,  40, 228,\n",
              "       284, 127, 186,   5, 106, 120,  84,  79, 294, 219,  87,  66, 199,\n",
              "       269, 142, 257, 245, 252, 271,  32,  37, 198, 107, 110, 151, 180,\n",
              "        36, 163, 241, 129, 185, 261,  26,   6, 274, 250, 109, 105,  77,\n",
              "       230,  35, 207, 213,  17, 128,  51, 187,  64, 238, 236, 239, 174,\n",
              "       164,  38,  21, 172, 181, 156, 113, 210, 158, 229, 195,  88, 157,\n",
              "       204, 193, 146, 188, 280,  57,   3,  92, 182, 192, 249, 277, 197,\n",
              "       203,  19, 264, 114,  43, 194,  63, 276, 102, 268, 196, 155, 235,\n",
              "       208, 121,  75, 161,  94, 171,  60, 144, 175,   1, 152, 275,   8,\n",
              "       232, 117, 176,  82, 104,  22, 220,  39,  53, 123,  48,  93,  14,\n",
              "        98, 285, 108, 225,  12, 278,  65, 221,  90,  68, 270,  28, 286,\n",
              "       184, 131,  11,  10, 139, 258,  91,  42,  29, 223, 153, 293,   4,\n",
              "       263,  49, 297, 243,  85,  56,  33, 145, 265, 295, 262, 242, 119,\n",
              "       253, 191, 124,  70,  41, 165, 170, 143,  73,   7, 202, 290, 169,\n",
              "       288, 287, 237, 111, 101, 112,   0, 234, 134, 135, 251,  76,   9,\n",
              "        47])"
            ]
          },
          "metadata": {
            "tags": []
          },
          "execution_count": 16
        }
      ]
    },
    {
      "cell_type": "code",
      "metadata": {
        "id": "D5xWLUhHJtm6",
        "colab": {
          "base_uri": "https://localhost:8080/"
        },
        "outputId": "50501236-5644-4bf0-beb1-fa3c75353ac5"
      },
      "source": [
        "rmse(y_test,sgd_regressor.predict(X_test))"
      ],
      "execution_count": null,
      "outputs": [
        {
          "output_type": "execute_result",
          "data": {
            "text/plain": [
              "5.122662504532954"
            ]
          },
          "metadata": {
            "tags": []
          },
          "execution_count": 17
        }
      ]
    }
  ]
}