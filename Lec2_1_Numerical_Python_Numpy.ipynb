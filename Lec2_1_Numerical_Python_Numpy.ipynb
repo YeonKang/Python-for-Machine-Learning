{
  "nbformat": 4,
  "nbformat_minor": 0,
  "metadata": {
    "colab": {
      "name": "Lec2_1_Numerical_Python-Numpy.ipynb",
      "provenance": [],
      "authorship_tag": "ABX9TyNuDQzpSF/9p8snAd7CY667",
      "include_colab_link": true
    },
    "kernelspec": {
      "name": "python3",
      "display_name": "Python 3"
    }
  },
  "cells": [
    {
      "cell_type": "markdown",
      "metadata": {
        "id": "view-in-github",
        "colab_type": "text"
      },
      "source": [
        "<a href=\"https://colab.research.google.com/github/YeonKang/Python-for-Machine-Learning/blob/main/Lec2_1_Numerical_Python_Numpy.ipynb\" target=\"_parent\"><img src=\"https://colab.research.google.com/assets/colab-badge.svg\" alt=\"Open In Colab\"/></a>"
      ]
    },
    {
      "cell_type": "markdown",
      "metadata": {
        "id": "t1oa-MhPOJjz"
      },
      "source": [
        "**import**"
      ]
    },
    {
      "cell_type": "code",
      "metadata": {
        "id": "zm8V9U4PKd0U"
      },
      "source": [
        "import numpy as np"
      ],
      "execution_count": null,
      "outputs": []
    },
    {
      "cell_type": "markdown",
      "metadata": {
        "id": "dUqGuWKpOR6_"
      },
      "source": [
        "**Array creation**"
      ]
    },
    {
      "cell_type": "code",
      "metadata": {
        "colab": {
          "base_uri": "https://localhost:8080/"
        },
        "id": "I3f-x21GOfIb",
        "outputId": "a84e2421-ca74-4453-b51a-1453a5f58b91"
      },
      "source": [
        "test_array = np.array([1,4,5,8],float)\r\n",
        "print(test_array)\r\n",
        "type(test_array[3])"
      ],
      "execution_count": null,
      "outputs": [
        {
          "output_type": "stream",
          "text": [
            "[1. 4. 5. 8.]\n"
          ],
          "name": "stdout"
        },
        {
          "output_type": "execute_result",
          "data": {
            "text/plain": [
              "numpy.float64"
            ]
          },
          "metadata": {
            "tags": []
          },
          "execution_count": 3
        }
      ]
    },
    {
      "cell_type": "code",
      "metadata": {
        "colab": {
          "base_uri": "https://localhost:8080/"
        },
        "id": "LfXJJvhDW0pb",
        "outputId": "dddf5067-b13d-4354-ebba-ce8e2ae867cc"
      },
      "source": [
        "test_array = np.array([1,4,5,\"8\"],float)\r\n",
        "print(test_array)\r\n",
        "print(type(test_array[3])) #automatic conversion of string type data \"8\" to float type 8\r\n",
        "print(test_array.dtype) #data type of the entire array\r\n",
        "print(test_array.shape) #shape of the entire array"
      ],
      "execution_count": null,
      "outputs": [
        {
          "output_type": "stream",
          "text": [
            "[1. 4. 5. 8.]\n",
            "<class 'numpy.float64'>\n",
            "float64\n",
            "(4,)\n"
          ],
          "name": "stdout"
        }
      ]
    },
    {
      "cell_type": "markdown",
      "metadata": {
        "id": "cn0T0WyZQFaG"
      },
      "source": [
        "**Array shape**"
      ]
    },
    {
      "cell_type": "code",
      "metadata": {
        "id": "geJgyft5QEd3"
      },
      "source": [
        ""
      ],
      "execution_count": null,
      "outputs": []
    },
    {
      "cell_type": "code",
      "metadata": {
        "id": "VnGGE8nUO9zY"
      },
      "source": [
        "test_array.shape"
      ],
      "execution_count": null,
      "outputs": []
    }
  ]
}