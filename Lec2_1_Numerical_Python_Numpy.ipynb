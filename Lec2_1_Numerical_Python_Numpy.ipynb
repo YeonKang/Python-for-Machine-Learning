{
  "nbformat": 4,
  "nbformat_minor": 0,
  "metadata": {
    "colab": {
      "name": "Lec2_1_Numerical_Python-Numpy.ipynb",
      "provenance": [],
      "authorship_tag": "ABX9TyMw7GVBMagm2zc2WhvuXGCz",
      "include_colab_link": true
    },
    "kernelspec": {
      "name": "python3",
      "display_name": "Python 3"
    }
  },
  "cells": [
    {
      "cell_type": "markdown",
      "metadata": {
        "id": "view-in-github",
        "colab_type": "text"
      },
      "source": [
        "<a href=\"https://colab.research.google.com/github/YeonKang/Python-for-Machine-Learning/blob/main/Lec2_1_Numerical_Python_Numpy.ipynb\" target=\"_parent\"><img src=\"https://colab.research.google.com/assets/colab-badge.svg\" alt=\"Open In Colab\"/></a>"
      ]
    },
    {
      "cell_type": "markdown",
      "metadata": {
        "id": "t1oa-MhPOJjz"
      },
      "source": [
        "**import**"
      ]
    },
    {
      "cell_type": "code",
      "metadata": {
        "id": "zm8V9U4PKd0U"
      },
      "source": [
        "import numpy as np"
      ],
      "execution_count": 1,
      "outputs": []
    },
    {
      "cell_type": "markdown",
      "metadata": {
        "id": "dUqGuWKpOR6_"
      },
      "source": [
        "**Array creation**"
      ]
    },
    {
      "cell_type": "code",
      "metadata": {
        "colab": {
          "base_uri": "https://localhost:8080/"
        },
        "id": "I3f-x21GOfIb",
        "outputId": "a84e2421-ca74-4453-b51a-1453a5f58b91"
      },
      "source": [
        "test_array = np.array([1,4,5,8],float)\r\n",
        "print(test_array)\r\n",
        "type(test_array[3])"
      ],
      "execution_count": null,
      "outputs": [
        {
          "output_type": "stream",
          "text": [
            "[1. 4. 5. 8.]\n"
          ],
          "name": "stdout"
        },
        {
          "output_type": "execute_result",
          "data": {
            "text/plain": [
              "numpy.float64"
            ]
          },
          "metadata": {
            "tags": []
          },
          "execution_count": 3
        }
      ]
    },
    {
      "cell_type": "code",
      "metadata": {
        "colab": {
          "base_uri": "https://localhost:8080/"
        },
        "id": "LfXJJvhDW0pb",
        "outputId": "9212bc67-6dec-4749-df19-3ae13e73fa11"
      },
      "source": [
        "test_array = np.array([1,4,5,\"8\"],float)\r\n",
        "print(test_array)\r\n",
        "print(type(test_array[3])) #automatic conversion of string type data \"8\" to float type 8\r\n",
        "print(test_array.dtype) #data type of the entire array\r\n",
        "print(test_array.shape) #shape of the entire array -> result \",\" means data type is tuple & test_array is vector array"
      ],
      "execution_count": null,
      "outputs": [
        {
          "output_type": "stream",
          "text": [
            "[1. 4. 5. 8.]\n",
            "<class 'numpy.float64'>\n",
            "float64\n",
            "(4,)\n"
          ],
          "name": "stdout"
        }
      ]
    },
    {
      "cell_type": "code",
      "metadata": {
        "colab": {
          "base_uri": "https://localhost:8080/"
        },
        "id": "exytHlsXbzK8",
        "outputId": "ef52e4d7-4d1e-47e4-c8c6-309ed1bd5f06"
      },
      "source": [
        "test_array = np.array([[1,4,5,8]],float)\r\n",
        "print(test_array.shape) #test_array is matrix array"
      ],
      "execution_count": null,
      "outputs": [
        {
          "output_type": "stream",
          "text": [
            "(1, 4)\n"
          ],
          "name": "stdout"
        }
      ]
    },
    {
      "cell_type": "markdown",
      "metadata": {
        "id": "cn0T0WyZQFaG"
      },
      "source": [
        "**Array shape**"
      ]
    },
    {
      "cell_type": "code",
      "metadata": {
        "id": "geJgyft5QEd3"
      },
      "source": [
        "tensor = [[[1,2,5,8],[1,2,5,8],[1,2,5,8]],[[1,2,5,8],[1,2,5,8],[1,2,5,8]],[[1,2,5,8],[1,2,5,8],[1,2,5,8]],[[1,2,5,8],[1,2,5,8],[1,2,5,8]]]"
      ],
      "execution_count": null,
      "outputs": []
    },
    {
      "cell_type": "code",
      "metadata": {
        "colab": {
          "base_uri": "https://localhost:8080/"
        },
        "id": "8xsXP4A1dKMB",
        "outputId": "8c04a324-2c52-42e2-c21f-858bd83e9e40"
      },
      "source": [
        "np.array(tensor,int).ndim"
      ],
      "execution_count": null,
      "outputs": [
        {
          "output_type": "execute_result",
          "data": {
            "text/plain": [
              "3"
            ]
          },
          "metadata": {
            "tags": []
          },
          "execution_count": 11
        }
      ]
    },
    {
      "cell_type": "code",
      "metadata": {
        "colab": {
          "base_uri": "https://localhost:8080/"
        },
        "id": "VnGGE8nUO9zY",
        "outputId": "647a9094-6c26-46dc-abb7-5bdf9ab30113"
      },
      "source": [
        "np.array(tensor,int).size #total data size"
      ],
      "execution_count": null,
      "outputs": [
        {
          "output_type": "execute_result",
          "data": {
            "text/plain": [
              "48"
            ]
          },
          "metadata": {
            "tags": []
          },
          "execution_count": 10
        }
      ]
    },
    {
      "cell_type": "markdown",
      "metadata": {
        "id": "c_rDKsztdihx"
      },
      "source": [
        "**Array dtype**"
      ]
    },
    {
      "cell_type": "code",
      "metadata": {
        "colab": {
          "base_uri": "https://localhost:8080/"
        },
        "id": "9_9D3Ba5dWE7",
        "outputId": "222d3de6-9f30-4836-e5cb-c096983611b5"
      },
      "source": [
        "np.array([[1,2,3],[4.5,\"5\",\"6\"]],dtype=np.float32).nbytes #32bits = 4ytes -> 6*4bytes"
      ],
      "execution_count": null,
      "outputs": [
        {
          "output_type": "execute_result",
          "data": {
            "text/plain": [
              "24"
            ]
          },
          "metadata": {
            "tags": []
          },
          "execution_count": 14
        }
      ]
    },
    {
      "cell_type": "code",
      "metadata": {
        "colab": {
          "base_uri": "https://localhost:8080/"
        },
        "id": "l853-5rjdycJ",
        "outputId": "c292bb6e-b4bc-47a0-da73-c1e93dc5fd1b"
      },
      "source": [
        "np.array([[1,2,3],[4.5,\"5\",\"6\"]],dtype=np.int8).nbytes #8bits = 1bytes -> 6*1bytes"
      ],
      "execution_count": null,
      "outputs": [
        {
          "output_type": "execute_result",
          "data": {
            "text/plain": [
              "6"
            ]
          },
          "metadata": {
            "tags": []
          },
          "execution_count": 15
        }
      ]
    },
    {
      "cell_type": "code",
      "metadata": {
        "colab": {
          "base_uri": "https://localhost:8080/"
        },
        "id": "6yJOElEkeC_h",
        "outputId": "dc3b9658-f257-4bb8-cc4f-da63e3617fd4"
      },
      "source": [
        "np.array([[1,2,3],[4.5,\"5\",\"6\"]],dtype=np.float64).nbytes #64bits = 8bytes -> 6*8bytes"
      ],
      "execution_count": null,
      "outputs": [
        {
          "output_type": "execute_result",
          "data": {
            "text/plain": [
              "48"
            ]
          },
          "metadata": {
            "tags": []
          },
          "execution_count": 17
        }
      ]
    },
    {
      "cell_type": "markdown",
      "metadata": {
        "id": "jjTZTbhVeeM5"
      },
      "source": [
        "**reshape** (total data size is unchanged)"
      ]
    },
    {
      "cell_type": "code",
      "metadata": {
        "colab": {
          "base_uri": "https://localhost:8080/"
        },
        "id": "DXg-G3qfegDR",
        "outputId": "a80562e3-b51a-4038-a42a-1b6f8c81c12e"
      },
      "source": [
        "test_matrix = [[1,2,3,4],[1,2,5,8]]\r\n",
        "np.array(test_matrix).shape"
      ],
      "execution_count": null,
      "outputs": [
        {
          "output_type": "execute_result",
          "data": {
            "text/plain": [
              "(2, 4)"
            ]
          },
          "metadata": {
            "tags": []
          },
          "execution_count": 18
        }
      ]
    },
    {
      "cell_type": "code",
      "metadata": {
        "colab": {
          "base_uri": "https://localhost:8080/"
        },
        "id": "p60Ae0KcfY_u",
        "outputId": "e2f0d74a-131d-445d-8ec6-ddccc08e2c13"
      },
      "source": [
        "np.array(test_matrix).reshape(2,2,2)"
      ],
      "execution_count": null,
      "outputs": [
        {
          "output_type": "execute_result",
          "data": {
            "text/plain": [
              "array([[[1, 2],\n",
              "        [3, 4]],\n",
              "\n",
              "       [[1, 2],\n",
              "        [5, 8]]])"
            ]
          },
          "metadata": {
            "tags": []
          },
          "execution_count": 19
        }
      ]
    },
    {
      "cell_type": "code",
      "metadata": {
        "colab": {
          "base_uri": "https://localhost:8080/"
        },
        "id": "VoJ5l-eRfeA1",
        "outputId": "7f099875-3575-462f-ba8c-fc7bb8ac5189"
      },
      "source": [
        "np.array(test_matrix).reshape(8,).shape"
      ],
      "execution_count": null,
      "outputs": [
        {
          "output_type": "execute_result",
          "data": {
            "text/plain": [
              "(8,)"
            ]
          },
          "metadata": {
            "tags": []
          },
          "execution_count": 20
        }
      ]
    },
    {
      "cell_type": "code",
      "metadata": {
        "colab": {
          "base_uri": "https://localhost:8080/"
        },
        "id": "lowVkvA9foqz",
        "outputId": "88c37c23-05d9-4419-916a-1adc53e14536"
      },
      "source": [
        "np.array(test_matrix).reshape(-1,2).shape #-1 means elect the number of rows based on size"
      ],
      "execution_count": null,
      "outputs": [
        {
          "output_type": "execute_result",
          "data": {
            "text/plain": [
              "(4, 2)"
            ]
          },
          "metadata": {
            "tags": []
          },
          "execution_count": 21
        }
      ]
    },
    {
      "cell_type": "code",
      "metadata": {
        "colab": {
          "base_uri": "https://localhost:8080/"
        },
        "id": "xgEEewtqgEEp",
        "outputId": "34549651-ce92-479a-8f9b-2b60b3f7d854"
      },
      "source": [
        "np.array(test_matrix).reshape(2,-1).shape #-1 means elect the number of column based on size"
      ],
      "execution_count": null,
      "outputs": [
        {
          "output_type": "execute_result",
          "data": {
            "text/plain": [
              "(2, 4)"
            ]
          },
          "metadata": {
            "tags": []
          },
          "execution_count": 22
        }
      ]
    },
    {
      "cell_type": "markdown",
      "metadata": {
        "id": "y8EiSyt4gS0R"
      },
      "source": [
        "**flatten**"
      ]
    },
    {
      "cell_type": "code",
      "metadata": {
        "colab": {
          "base_uri": "https://localhost:8080/"
        },
        "id": "PHSeKJawgV1N",
        "outputId": "aa59cd8e-8d5c-442c-b24f-dd8fc248bf09"
      },
      "source": [
        "test_matrix = [[[1,2,3,4],[1,2,5,8]],[[1,2,3,4],[1,2,5,8]]]\r\n",
        "np.array(test_matrix).flatten()"
      ],
      "execution_count": null,
      "outputs": [
        {
          "output_type": "execute_result",
          "data": {
            "text/plain": [
              "array([1, 2, 3, 4, 1, 2, 5, 8, 1, 2, 3, 4, 1, 2, 5, 8])"
            ]
          },
          "metadata": {
            "tags": []
          },
          "execution_count": 23
        }
      ]
    },
    {
      "cell_type": "markdown",
      "metadata": {
        "id": "515OVP_CgoEG"
      },
      "source": [
        "**indexing & slicing**"
      ]
    },
    {
      "cell_type": "code",
      "metadata": {
        "colab": {
          "base_uri": "https://localhost:8080/"
        },
        "id": "p7Oq2BcBgtpD",
        "outputId": "3a8bd1da-acd4-4c96-b632-9230544322bd"
      },
      "source": [
        "a = np.array([[1,2,3],[4.5,5,6]],int)\r\n",
        "print(a)\r\n",
        "print(a[0,0])\r\n",
        "print(a[0][0])"
      ],
      "execution_count": null,
      "outputs": [
        {
          "output_type": "stream",
          "text": [
            "[[1 2 3]\n",
            " [4 5 6]]\n",
            "1\n",
            "1\n"
          ],
          "name": "stdout"
        }
      ]
    },
    {
      "cell_type": "code",
      "metadata": {
        "colab": {
          "base_uri": "https://localhost:8080/"
        },
        "id": "L-6CUy8shBJj",
        "outputId": "089faecc-2324-449e-d82f-f7647416fcb1"
      },
      "source": [
        "a[0,0] = 12\r\n",
        "print(a)"
      ],
      "execution_count": null,
      "outputs": [
        {
          "output_type": "stream",
          "text": [
            "[[12  2  3]\n",
            " [ 4  5  6]]\n"
          ],
          "name": "stdout"
        }
      ]
    },
    {
      "cell_type": "code",
      "metadata": {
        "colab": {
          "base_uri": "https://localhost:8080/"
        },
        "id": "oMlgWEnZhHNH",
        "outputId": "d55f74c6-6f5c-4226-b4b2-324f24e05056"
      },
      "source": [
        "a[0][0] = 5\r\n",
        "print(a)"
      ],
      "execution_count": null,
      "outputs": [
        {
          "output_type": "stream",
          "text": [
            "[[5 2 3]\n",
            " [4 5 6]]\n"
          ],
          "name": "stdout"
        }
      ]
    },
    {
      "cell_type": "code",
      "metadata": {
        "colab": {
          "base_uri": "https://localhost:8080/"
        },
        "id": "rFG1mDJphLQj",
        "outputId": "019107d7-0c90-4576-874d-5be6825320da"
      },
      "source": [
        "a = np.array([[1,2,3,4,5],[6,7,8,9,10]],int)\r\n",
        "a[:2,2:] #2 or more rows of all rows"
      ],
      "execution_count": null,
      "outputs": [
        {
          "output_type": "execute_result",
          "data": {
            "text/plain": [
              "array([[ 3,  4,  5],\n",
              "       [ 8,  9, 10]])"
            ]
          },
          "metadata": {
            "tags": []
          },
          "execution_count": 27
        }
      ]
    },
    {
      "cell_type": "code",
      "metadata": {
        "colab": {
          "base_uri": "https://localhost:8080/"
        },
        "id": "SDCkzWOzhcCv",
        "outputId": "0cfb3ee1-f391-42b8-f6de-a342b8e79d0e"
      },
      "source": [
        "a[1,1:3] #rows 1 to 2 of 1 row"
      ],
      "execution_count": null,
      "outputs": [
        {
          "output_type": "execute_result",
          "data": {
            "text/plain": [
              "array([7, 8])"
            ]
          },
          "metadata": {
            "tags": []
          },
          "execution_count": 28
        }
      ]
    },
    {
      "cell_type": "code",
      "metadata": {
        "colab": {
          "base_uri": "https://localhost:8080/"
        },
        "id": "7ZAcXxYUhqbQ",
        "outputId": "298cf83c-282e-4aee-f80f-b7eb2f574b5e"
      },
      "source": [
        "a[1:3] #whole of rows 1 and 2"
      ],
      "execution_count": null,
      "outputs": [
        {
          "output_type": "execute_result",
          "data": {
            "text/plain": [
              "array([[ 6,  7,  8,  9, 10]])"
            ]
          },
          "metadata": {
            "tags": []
          },
          "execution_count": 29
        }
      ]
    },
    {
      "cell_type": "markdown",
      "metadata": {
        "id": "XTPcbSDXFTbP"
      },
      "source": [
        "**arange** (create a list of values ​​by specifying the range of the array)"
      ]
    },
    {
      "cell_type": "code",
      "metadata": {
        "colab": {
          "base_uri": "https://localhost:8080/"
        },
        "id": "sU6eJ-mWR9H3",
        "outputId": "5caaff23-121a-4702-ec6e-e19094c89bc8"
      },
      "source": [
        "np.arange(30)"
      ],
      "execution_count": null,
      "outputs": [
        {
          "output_type": "execute_result",
          "data": {
            "text/plain": [
              "array([ 0,  1,  2,  3,  4,  5,  6,  7,  8,  9, 10, 11, 12, 13, 14, 15, 16,\n",
              "       17, 18, 19, 20, 21, 22, 23, 24, 25, 26, 27, 28, 29])"
            ]
          },
          "metadata": {
            "tags": []
          },
          "execution_count": 3
        }
      ]
    },
    {
      "cell_type": "code",
      "metadata": {
        "colab": {
          "base_uri": "https://localhost:8080/"
        },
        "id": "rFGFKKqNSTdi",
        "outputId": "cda8247e-0d0c-4c6a-b3ba-57052b2abdbe"
      },
      "source": [
        "np.arange(0,5,0.5) #(start, stop, step)"
      ],
      "execution_count": null,
      "outputs": [
        {
          "output_type": "execute_result",
          "data": {
            "text/plain": [
              "array([0. , 0.5, 1. , 1.5, 2. , 2.5, 3. , 3.5, 4. , 4.5])"
            ]
          },
          "metadata": {
            "tags": []
          },
          "execution_count": 4
        }
      ]
    },
    {
      "cell_type": "code",
      "metadata": {
        "colab": {
          "base_uri": "https://localhost:8080/"
        },
        "id": "o8Cf9WV2Sd_U",
        "outputId": "2dfd8b31-e2f4-407c-9487-7077a7796041"
      },
      "source": [
        "np.arange(30).reshape(5,6)"
      ],
      "execution_count": null,
      "outputs": [
        {
          "output_type": "execute_result",
          "data": {
            "text/plain": [
              "array([[ 0,  1,  2,  3,  4,  5],\n",
              "       [ 6,  7,  8,  9, 10, 11],\n",
              "       [12, 13, 14, 15, 16, 17],\n",
              "       [18, 19, 20, 21, 22, 23],\n",
              "       [24, 25, 26, 27, 28, 29]])"
            ]
          },
          "metadata": {
            "tags": []
          },
          "execution_count": 6
        }
      ]
    },
    {
      "cell_type": "markdown",
      "metadata": {
        "id": "FW8SViJXS1KV"
      },
      "source": [
        "**ones, zeros and empty**"
      ]
    },
    {
      "cell_type": "code",
      "metadata": {
        "colab": {
          "base_uri": "https://localhost:8080/"
        },
        "id": "X5q28dAPS5b8",
        "outputId": "a556d572-9e56-442a-a1f0-b4f86f11c240"
      },
      "source": [
        "np.zeros(shape=(10,),dtype=np.int8)"
      ],
      "execution_count": null,
      "outputs": [
        {
          "output_type": "execute_result",
          "data": {
            "text/plain": [
              "array([0, 0, 0, 0, 0, 0, 0, 0, 0, 0], dtype=int8)"
            ]
          },
          "metadata": {
            "tags": []
          },
          "execution_count": 8
        }
      ]
    },
    {
      "cell_type": "code",
      "metadata": {
        "colab": {
          "base_uri": "https://localhost:8080/"
        },
        "id": "YZS1x7XtTDf0",
        "outputId": "eee148a9-99f1-4b17-e082-30202d12efc5"
      },
      "source": [
        "np.zeros((2,5))"
      ],
      "execution_count": null,
      "outputs": [
        {
          "output_type": "execute_result",
          "data": {
            "text/plain": [
              "array([[0., 0., 0., 0., 0.],\n",
              "       [0., 0., 0., 0., 0.]])"
            ]
          },
          "metadata": {
            "tags": []
          },
          "execution_count": 9
        }
      ]
    },
    {
      "cell_type": "code",
      "metadata": {
        "colab": {
          "base_uri": "https://localhost:8080/"
        },
        "id": "-jWsojt6TGEK",
        "outputId": "8ef6d72c-fa0e-4216-fe2b-0c955580f5aa"
      },
      "source": [
        "np.ones(shape=(10,),dtype=np.int8)"
      ],
      "execution_count": null,
      "outputs": [
        {
          "output_type": "execute_result",
          "data": {
            "text/plain": [
              "array([1, 1, 1, 1, 1, 1, 1, 1, 1, 1], dtype=int8)"
            ]
          },
          "metadata": {
            "tags": []
          },
          "execution_count": 12
        }
      ]
    },
    {
      "cell_type": "code",
      "metadata": {
        "colab": {
          "base_uri": "https://localhost:8080/"
        },
        "id": "I0p4Ab95TOX4",
        "outputId": "a13d7c14-39ca-4b6f-8a9d-30924e8fba23"
      },
      "source": [
        "np.ones((2,5))"
      ],
      "execution_count": null,
      "outputs": [
        {
          "output_type": "execute_result",
          "data": {
            "text/plain": [
              "array([[1., 1., 1., 1., 1.],\n",
              "       [1., 1., 1., 1., 1.]])"
            ]
          },
          "metadata": {
            "tags": []
          },
          "execution_count": 13
        }
      ]
    },
    {
      "cell_type": "code",
      "metadata": {
        "colab": {
          "base_uri": "https://localhost:8080/"
        },
        "id": "Jadu1y1iTUuJ",
        "outputId": "f53ec40d-080f-4f52-8a8c-1bf6de8ea784"
      },
      "source": [
        "np.empty(shape=(10,),dtype=np.int8) #do not initialize memory"
      ],
      "execution_count": null,
      "outputs": [
        {
          "output_type": "execute_result",
          "data": {
            "text/plain": [
              "array([1, 1, 1, 1, 1, 1, 1, 1, 1, 1], dtype=int8)"
            ]
          },
          "metadata": {
            "tags": []
          },
          "execution_count": 15
        }
      ]
    },
    {
      "cell_type": "code",
      "metadata": {
        "colab": {
          "base_uri": "https://localhost:8080/"
        },
        "id": "8v1BG7ZdTRDW",
        "outputId": "ec5a337a-b172-4be2-a5be-3bbfc749e6fa"
      },
      "source": [
        "np.empty((2,5))"
      ],
      "execution_count": null,
      "outputs": [
        {
          "output_type": "execute_result",
          "data": {
            "text/plain": [
              "array([[1., 1., 1., 1., 1.],\n",
              "       [1., 1., 1., 1., 1.]])"
            ]
          },
          "metadata": {
            "tags": []
          },
          "execution_count": 14
        }
      ]
    },
    {
      "cell_type": "markdown",
      "metadata": {
        "id": "InJTgzm0TsBX"
      },
      "source": [
        "**something_like**"
      ]
    },
    {
      "cell_type": "code",
      "metadata": {
        "colab": {
          "base_uri": "https://localhost:8080/"
        },
        "id": "KxJufHWoTurg",
        "outputId": "65a2c79a-4889-4468-bb69-596cb4acbf76"
      },
      "source": [
        "test_matrix = np.arange(30).reshape(5,6)\r\n",
        "np.ones_like(test_matrix)"
      ],
      "execution_count": null,
      "outputs": [
        {
          "output_type": "execute_result",
          "data": {
            "text/plain": [
              "array([[1, 1, 1, 1, 1, 1],\n",
              "       [1, 1, 1, 1, 1, 1],\n",
              "       [1, 1, 1, 1, 1, 1],\n",
              "       [1, 1, 1, 1, 1, 1],\n",
              "       [1, 1, 1, 1, 1, 1]])"
            ]
          },
          "metadata": {
            "tags": []
          },
          "execution_count": 16
        }
      ]
    },
    {
      "cell_type": "markdown",
      "metadata": {
        "id": "50ObkN5NUBxr"
      },
      "source": [
        "**identity** (generate identity matrix I)"
      ]
    },
    {
      "cell_type": "code",
      "metadata": {
        "colab": {
          "base_uri": "https://localhost:8080/"
        },
        "id": "j6-XhDcAUKhy",
        "outputId": "ce79ad36-99e8-4007-b0c4-4df9ae097ba9"
      },
      "source": [
        "np.identity(n=3,dtype=np.int8) #n = number of rows"
      ],
      "execution_count": null,
      "outputs": [
        {
          "output_type": "execute_result",
          "data": {
            "text/plain": [
              "array([[1, 0, 0],\n",
              "       [0, 1, 0],\n",
              "       [0, 0, 1]], dtype=int8)"
            ]
          },
          "metadata": {
            "tags": []
          },
          "execution_count": 17
        }
      ]
    },
    {
      "cell_type": "code",
      "metadata": {
        "colab": {
          "base_uri": "https://localhost:8080/"
        },
        "id": "37RV9U35UXWm",
        "outputId": "fe8c7a5c-7d20-409b-a3e4-a88ed3ae0a69"
      },
      "source": [
        "np.identity(5)"
      ],
      "execution_count": null,
      "outputs": [
        {
          "output_type": "execute_result",
          "data": {
            "text/plain": [
              "array([[1., 0., 0., 0., 0.],\n",
              "       [0., 1., 0., 0., 0.],\n",
              "       [0., 0., 1., 0., 0.],\n",
              "       [0., 0., 0., 1., 0.],\n",
              "       [0., 0., 0., 0., 1.]])"
            ]
          },
          "metadata": {
            "tags": []
          },
          "execution_count": 18
        }
      ]
    },
    {
      "cell_type": "markdown",
      "metadata": {
        "id": "NMggUAbkUqS0"
      },
      "source": [
        "**eye** (generate diagonal matrix)"
      ]
    },
    {
      "cell_type": "code",
      "metadata": {
        "colab": {
          "base_uri": "https://localhost:8080/"
        },
        "id": "BMmaAMpCUp8h",
        "outputId": "62a7ee61-f883-41c1-84b5-b60eb3ece84c"
      },
      "source": [
        "np.eye(N=3,M=5,dtype=np.int8)"
      ],
      "execution_count": null,
      "outputs": [
        {
          "output_type": "execute_result",
          "data": {
            "text/plain": [
              "array([[1, 0, 0, 0, 0],\n",
              "       [0, 1, 0, 0, 0],\n",
              "       [0, 0, 1, 0, 0]], dtype=int8)"
            ]
          },
          "metadata": {
            "tags": []
          },
          "execution_count": 19
        }
      ]
    },
    {
      "cell_type": "code",
      "metadata": {
        "colab": {
          "base_uri": "https://localhost:8080/"
        },
        "id": "YeBMeYRmU16H",
        "outputId": "07bf8ee5-a270-43e3-83d3-e0e148009fe2"
      },
      "source": [
        "np.eye(3)"
      ],
      "execution_count": null,
      "outputs": [
        {
          "output_type": "execute_result",
          "data": {
            "text/plain": [
              "array([[1., 0., 0.],\n",
              "       [0., 1., 0.],\n",
              "       [0., 0., 1.]])"
            ]
          },
          "metadata": {
            "tags": []
          },
          "execution_count": 20
        }
      ]
    },
    {
      "cell_type": "code",
      "metadata": {
        "colab": {
          "base_uri": "https://localhost:8080/"
        },
        "id": "p4CBeLIZU3os",
        "outputId": "ba75a807-ee51-4729-d4d0-eb8525b439a6"
      },
      "source": [
        "np.eye(3,5,k=2) #k = start index"
      ],
      "execution_count": null,
      "outputs": [
        {
          "output_type": "execute_result",
          "data": {
            "text/plain": [
              "array([[0., 0., 1., 0., 0.],\n",
              "       [0., 0., 0., 1., 0.],\n",
              "       [0., 0., 0., 0., 1.]])"
            ]
          },
          "metadata": {
            "tags": []
          },
          "execution_count": 21
        }
      ]
    },
    {
      "cell_type": "markdown",
      "metadata": {
        "id": "ye4XbppsVNF0"
      },
      "source": [
        "**diag** (extract values ​​of diagonal matrix)"
      ]
    },
    {
      "cell_type": "code",
      "metadata": {
        "colab": {
          "base_uri": "https://localhost:8080/"
        },
        "id": "j18jqAf1VPE_",
        "outputId": "fc8ed9cb-2a25-4cdf-f6ba-dc6c18dbfbeb"
      },
      "source": [
        "matrix = np.arange(9).reshape(3,3)\r\n",
        "np.diag(matrix)"
      ],
      "execution_count": null,
      "outputs": [
        {
          "output_type": "execute_result",
          "data": {
            "text/plain": [
              "array([0, 4, 8])"
            ]
          },
          "metadata": {
            "tags": []
          },
          "execution_count": 22
        }
      ]
    },
    {
      "cell_type": "code",
      "metadata": {
        "colab": {
          "base_uri": "https://localhost:8080/"
        },
        "id": "vxZ1jF8sVaNF",
        "outputId": "e1e25c3a-8cc0-4ecd-b39d-aaf1904c09e8"
      },
      "source": [
        "np.diag(matrix,k=1) #k = start index"
      ],
      "execution_count": null,
      "outputs": [
        {
          "output_type": "execute_result",
          "data": {
            "text/plain": [
              "array([1, 5])"
            ]
          },
          "metadata": {
            "tags": []
          },
          "execution_count": 23
        }
      ]
    },
    {
      "cell_type": "markdown",
      "metadata": {
        "id": "fRqc1dp5Vnvz"
      },
      "source": [
        "**random sampling**"
      ]
    },
    {
      "cell_type": "code",
      "metadata": {
        "colab": {
          "base_uri": "https://localhost:8080/"
        },
        "id": "7yWx7eRCVsY8",
        "outputId": "ba368ba9-767f-47e6-f738-86b0be22f0ba"
      },
      "source": [
        "np.random.uniform(0,1,10).reshape(2,5)"
      ],
      "execution_count": null,
      "outputs": [
        {
          "output_type": "execute_result",
          "data": {
            "text/plain": [
              "array([[0.92019095, 0.87201147, 0.61561253, 0.38043557, 0.61538889],\n",
              "       [0.11798245, 0.25585745, 0.58703176, 0.17673455, 0.6519718 ]])"
            ]
          },
          "metadata": {
            "tags": []
          },
          "execution_count": 24
        }
      ]
    },
    {
      "cell_type": "code",
      "metadata": {
        "colab": {
          "base_uri": "https://localhost:8080/"
        },
        "id": "l8U6ZxDLVxR8",
        "outputId": "c116a4a3-5266-4a35-a90d-24e18505ef6b"
      },
      "source": [
        "np.random.normal(0,1,10).reshape(2,5)"
      ],
      "execution_count": null,
      "outputs": [
        {
          "output_type": "execute_result",
          "data": {
            "text/plain": [
              "array([[ 1.46453207,  1.27836673, -0.17022136,  0.05990039, -0.73196801],\n",
              "       [ 0.69604784, -0.6146197 , -0.45605249, -0.05338702, -0.29631789]])"
            ]
          },
          "metadata": {
            "tags": []
          },
          "execution_count": 25
        }
      ]
    },
    {
      "cell_type": "markdown",
      "metadata": {
        "id": "S3YJ11esV3O7"
      },
      "source": [
        "**sum**"
      ]
    },
    {
      "cell_type": "code",
      "metadata": {
        "colab": {
          "base_uri": "https://localhost:8080/"
        },
        "id": "7uXo6bG8V4sW",
        "outputId": "e4425003-73aa-4fb8-d0d9-ef155081a377"
      },
      "source": [
        "test_array = np.arange(1,11)\r\n",
        "test_array"
      ],
      "execution_count": null,
      "outputs": [
        {
          "output_type": "execute_result",
          "data": {
            "text/plain": [
              "array([ 1,  2,  3,  4,  5,  6,  7,  8,  9, 10])"
            ]
          },
          "metadata": {
            "tags": []
          },
          "execution_count": 27
        }
      ]
    },
    {
      "cell_type": "code",
      "metadata": {
        "colab": {
          "base_uri": "https://localhost:8080/"
        },
        "id": "BdWdDJX8V_1F",
        "outputId": "a1c9a9c8-1016-4972-b581-015c34b0937c"
      },
      "source": [
        "test_array.sum(dtype=np.float)"
      ],
      "execution_count": null,
      "outputs": [
        {
          "output_type": "execute_result",
          "data": {
            "text/plain": [
              "55.0"
            ]
          },
          "metadata": {
            "tags": []
          },
          "execution_count": 28
        }
      ]
    },
    {
      "cell_type": "markdown",
      "metadata": {
        "id": "Yg4Iqk75WEIA"
      },
      "source": [
        "**axis** (when a new matrix element is created, the index of the element becomes 0, and the indexes of the previously created elements must be pushed back by 1 to add 1)"
      ]
    },
    {
      "cell_type": "code",
      "metadata": {
        "colab": {
          "base_uri": "https://localhost:8080/"
        },
        "id": "N1Ese0j9WI4I",
        "outputId": "9dfffc2f-3b3c-4438-d7c3-14f695ad68cf"
      },
      "source": [
        "test_array = np.arange(1,13).reshape(3,4)\r\n",
        "test_array"
      ],
      "execution_count": null,
      "outputs": [
        {
          "output_type": "execute_result",
          "data": {
            "text/plain": [
              "array([[ 1,  2,  3,  4],\n",
              "       [ 5,  6,  7,  8],\n",
              "       [ 9, 10, 11, 12]])"
            ]
          },
          "metadata": {
            "tags": []
          },
          "execution_count": 29
        }
      ]
    },
    {
      "cell_type": "code",
      "metadata": {
        "colab": {
          "base_uri": "https://localhost:8080/"
        },
        "id": "1q6ctx6-WPne",
        "outputId": "4efa92dc-4bec-4751-9ada-581364910915"
      },
      "source": [
        "test_array.sum(axis=1), test_array.sum(axis=0) #axis=1 -> column, axis=0 -> row"
      ],
      "execution_count": null,
      "outputs": [
        {
          "output_type": "execute_result",
          "data": {
            "text/plain": [
              "(array([10, 26, 42]), array([15, 18, 21, 24]))"
            ]
          },
          "metadata": {
            "tags": []
          },
          "execution_count": 30
        }
      ]
    },
    {
      "cell_type": "code",
      "metadata": {
        "colab": {
          "base_uri": "https://localhost:8080/"
        },
        "id": "uvqraxMdXFso",
        "outputId": "e26571e4-7635-4e0c-ede6-b05eccf78b7f"
      },
      "source": [
        "third_order_tensor = np.array([test_array,test_array,test_array])\r\n",
        "third_order_tensor"
      ],
      "execution_count": null,
      "outputs": [
        {
          "output_type": "execute_result",
          "data": {
            "text/plain": [
              "array([[[ 1,  2,  3,  4],\n",
              "        [ 5,  6,  7,  8],\n",
              "        [ 9, 10, 11, 12]],\n",
              "\n",
              "       [[ 1,  2,  3,  4],\n",
              "        [ 5,  6,  7,  8],\n",
              "        [ 9, 10, 11, 12]],\n",
              "\n",
              "       [[ 1,  2,  3,  4],\n",
              "        [ 5,  6,  7,  8],\n",
              "        [ 9, 10, 11, 12]]])"
            ]
          },
          "metadata": {
            "tags": []
          },
          "execution_count": 31
        }
      ]
    },
    {
      "cell_type": "code",
      "metadata": {
        "colab": {
          "base_uri": "https://localhost:8080/"
        },
        "id": "IRUm2pQmXSeW",
        "outputId": "d7d44dfa-4c51-47a5-b378-ab3e40c4cf25"
      },
      "source": [
        "third_order_tensor.sum(axis=2)"
      ],
      "execution_count": null,
      "outputs": [
        {
          "output_type": "execute_result",
          "data": {
            "text/plain": [
              "array([[10, 26, 42],\n",
              "       [10, 26, 42],\n",
              "       [10, 26, 42]])"
            ]
          },
          "metadata": {
            "tags": []
          },
          "execution_count": 33
        }
      ]
    },
    {
      "cell_type": "code",
      "metadata": {
        "colab": {
          "base_uri": "https://localhost:8080/"
        },
        "id": "dtC1U2IzXh0K",
        "outputId": "6aa1527f-d1d9-4c5b-9303-186b34da94b8"
      },
      "source": [
        "third_order_tensor.sum(axis=1)"
      ],
      "execution_count": null,
      "outputs": [
        {
          "output_type": "execute_result",
          "data": {
            "text/plain": [
              "array([[15, 18, 21, 24],\n",
              "       [15, 18, 21, 24],\n",
              "       [15, 18, 21, 24]])"
            ]
          },
          "metadata": {
            "tags": []
          },
          "execution_count": 34
        }
      ]
    },
    {
      "cell_type": "code",
      "metadata": {
        "colab": {
          "base_uri": "https://localhost:8080/"
        },
        "id": "KZOzmH47Xj_r",
        "outputId": "475d1c0f-9d3e-4e4a-bc41-493b4982a70f"
      },
      "source": [
        "third_order_tensor.sum(axis=0)"
      ],
      "execution_count": null,
      "outputs": [
        {
          "output_type": "execute_result",
          "data": {
            "text/plain": [
              "array([[ 3,  6,  9, 12],\n",
              "       [15, 18, 21, 24],\n",
              "       [27, 30, 33, 36]])"
            ]
          },
          "metadata": {
            "tags": []
          },
          "execution_count": 35
        }
      ]
    },
    {
      "cell_type": "markdown",
      "metadata": {
        "id": "iNLzmzVAW810"
      },
      "source": [
        "**mean & std**"
      ]
    },
    {
      "cell_type": "code",
      "metadata": {
        "colab": {
          "base_uri": "https://localhost:8080/"
        },
        "id": "Q7vYha1PYtvf",
        "outputId": "8e7523f7-ae17-40e8-ae00-b9e1332aa6c1"
      },
      "source": [
        "test_array = np.arange(1,13).reshape(3,4)\r\n",
        "test_array"
      ],
      "execution_count": null,
      "outputs": [
        {
          "output_type": "execute_result",
          "data": {
            "text/plain": [
              "array([[ 1,  2,  3,  4],\n",
              "       [ 5,  6,  7,  8],\n",
              "       [ 9, 10, 11, 12]])"
            ]
          },
          "metadata": {
            "tags": []
          },
          "execution_count": 37
        }
      ]
    },
    {
      "cell_type": "code",
      "metadata": {
        "colab": {
          "base_uri": "https://localhost:8080/"
        },
        "id": "7oY8gk0vY03R",
        "outputId": "7a2feec3-b1c8-44f0-efb7-7f0c8eae3c21"
      },
      "source": [
        "test_array.mean(), test_array.mean(axis=0)"
      ],
      "execution_count": null,
      "outputs": [
        {
          "output_type": "execute_result",
          "data": {
            "text/plain": [
              "(6.5, array([5., 6., 7., 8.]))"
            ]
          },
          "metadata": {
            "tags": []
          },
          "execution_count": 39
        }
      ]
    },
    {
      "cell_type": "code",
      "metadata": {
        "colab": {
          "base_uri": "https://localhost:8080/"
        },
        "id": "L0CKN2hiY8Qs",
        "outputId": "7fe529d7-c690-469a-f688-cecbbbc62253"
      },
      "source": [
        "test_array.std(), test_array.std(axis=0)"
      ],
      "execution_count": null,
      "outputs": [
        {
          "output_type": "execute_result",
          "data": {
            "text/plain": [
              "(3.452052529534663, array([3.26598632, 3.26598632, 3.26598632, 3.26598632]))"
            ]
          },
          "metadata": {
            "tags": []
          },
          "execution_count": 40
        }
      ]
    },
    {
      "cell_type": "markdown",
      "metadata": {
        "id": "sWHhk5hXZK-y"
      },
      "source": [
        "**concatenate**"
      ]
    },
    {
      "cell_type": "code",
      "metadata": {
        "colab": {
          "base_uri": "https://localhost:8080/"
        },
        "id": "BnTFaoOXZPyc",
        "outputId": "a7149174-7561-4cc5-be88-8c2efcb140f1"
      },
      "source": [
        "a = np.array([1,2,3])\r\n",
        "b = np.array([2,3,4])\r\n",
        "np.vstack((a,b)) #vertical"
      ],
      "execution_count": null,
      "outputs": [
        {
          "output_type": "execute_result",
          "data": {
            "text/plain": [
              "array([[1, 2, 3],\n",
              "       [2, 3, 4]])"
            ]
          },
          "metadata": {
            "tags": []
          },
          "execution_count": 41
        }
      ]
    },
    {
      "cell_type": "code",
      "metadata": {
        "colab": {
          "base_uri": "https://localhost:8080/"
        },
        "id": "0jcb1PtWZZrf",
        "outputId": "2917cace-2c9c-40f4-f957-0e4aae7ddfa7"
      },
      "source": [
        "a = np.array([[1],[2],[3]])\r\n",
        "b = np.array([[2],[3],[4]])\r\n",
        "np.hstack((a,b)) #horizontal"
      ],
      "execution_count": null,
      "outputs": [
        {
          "output_type": "execute_result",
          "data": {
            "text/plain": [
              "array([[1, 2],\n",
              "       [2, 3],\n",
              "       [3, 4]])"
            ]
          },
          "metadata": {
            "tags": []
          },
          "execution_count": 42
        }
      ]
    },
    {
      "cell_type": "code",
      "metadata": {
        "colab": {
          "base_uri": "https://localhost:8080/"
        },
        "id": "_3c0MZt7evzv",
        "outputId": "06b8811c-cd60-44fc-f3d2-2ac7fe86f46d"
      },
      "source": [
        "a = np.array([[1,2,3]])\r\n",
        "b = np.array([[2,3,4]])\r\n",
        "np.concatenate((a,b),axis=0)"
      ],
      "execution_count": null,
      "outputs": [
        {
          "output_type": "execute_result",
          "data": {
            "text/plain": [
              "array([[1, 2, 3],\n",
              "       [2, 3, 4]])"
            ]
          },
          "metadata": {
            "tags": []
          },
          "execution_count": 43
        }
      ]
    },
    {
      "cell_type": "code",
      "metadata": {
        "colab": {
          "base_uri": "https://localhost:8080/"
        },
        "id": "cfjNo7fZsuqM",
        "outputId": "988effde-9944-428b-bd4c-02fab6e5a34f"
      },
      "source": [
        "a = np.array([[1,2],[3,4]])\r\n",
        "b = np.array([[5,6]])\r\n",
        "np.concatenate((a,b.T),axis=1) #T = transposition"
      ],
      "execution_count": null,
      "outputs": [
        {
          "output_type": "execute_result",
          "data": {
            "text/plain": [
              "array([[1, 2, 5],\n",
              "       [3, 4, 6]])"
            ]
          },
          "metadata": {
            "tags": []
          },
          "execution_count": 44
        }
      ]
    },
    {
      "cell_type": "markdown",
      "metadata": {
        "id": "Fxdsbk-vtH4E"
      },
      "source": [
        "**operations b/t arrays**"
      ]
    },
    {
      "cell_type": "code",
      "metadata": {
        "id": "yO0ba5EttHiq"
      },
      "source": [
        "test_a = np.array([[1,2,3],[4,5,6]],float)"
      ],
      "execution_count": null,
      "outputs": []
    },
    {
      "cell_type": "code",
      "metadata": {
        "colab": {
          "base_uri": "https://localhost:8080/"
        },
        "id": "vWHZFlJfuOVo",
        "outputId": "a10d149e-a850-4039-acfe-c27f5802df2d"
      },
      "source": [
        "test_a + test_a"
      ],
      "execution_count": null,
      "outputs": [
        {
          "output_type": "execute_result",
          "data": {
            "text/plain": [
              "array([[ 2.,  4.,  6.],\n",
              "       [ 8., 10., 12.]])"
            ]
          },
          "metadata": {
            "tags": []
          },
          "execution_count": 46
        }
      ]
    },
    {
      "cell_type": "code",
      "metadata": {
        "colab": {
          "base_uri": "https://localhost:8080/"
        },
        "id": "cK9ZXI1OuRrH",
        "outputId": "d4fe50d3-6397-4cd7-97fd-c57a6be69c92"
      },
      "source": [
        "test_a - test_a"
      ],
      "execution_count": null,
      "outputs": [
        {
          "output_type": "execute_result",
          "data": {
            "text/plain": [
              "array([[0., 0., 0.],\n",
              "       [0., 0., 0.]])"
            ]
          },
          "metadata": {
            "tags": []
          },
          "execution_count": 47
        }
      ]
    },
    {
      "cell_type": "code",
      "metadata": {
        "colab": {
          "base_uri": "https://localhost:8080/"
        },
        "id": "zBFWrxo1uUPJ",
        "outputId": "54518fe7-b566-4c12-ab8c-a2ff39f2874d"
      },
      "source": [
        "test_a * test_a"
      ],
      "execution_count": null,
      "outputs": [
        {
          "output_type": "execute_result",
          "data": {
            "text/plain": [
              "array([[ 1.,  4.,  9.],\n",
              "       [16., 25., 36.]])"
            ]
          },
          "metadata": {
            "tags": []
          },
          "execution_count": 48
        }
      ]
    },
    {
      "cell_type": "markdown",
      "metadata": {
        "id": "fxYLemWbup9V"
      },
      "source": [
        "**Dot product**"
      ]
    },
    {
      "cell_type": "code",
      "metadata": {
        "id": "M4CrLRPquWoH"
      },
      "source": [
        "test_a = np.arange(1,7).reshape(2,3)\r\n",
        "test_b = np.arange(7,13).reshape(3,2)"
      ],
      "execution_count": null,
      "outputs": []
    },
    {
      "cell_type": "code",
      "metadata": {
        "colab": {
          "base_uri": "https://localhost:8080/"
        },
        "id": "ojAD2rfzu1vI",
        "outputId": "080f2bc6-ed25-4d19-b2c5-02049c1a433b"
      },
      "source": [
        "test_a.dot(test_b)"
      ],
      "execution_count": null,
      "outputs": [
        {
          "output_type": "execute_result",
          "data": {
            "text/plain": [
              "array([[ 58,  64],\n",
              "       [139, 154]])"
            ]
          },
          "metadata": {
            "tags": []
          },
          "execution_count": 50
        }
      ]
    },
    {
      "cell_type": "markdown",
      "metadata": {
        "id": "nIwbSfSru-MJ"
      },
      "source": [
        "**transpose**"
      ]
    },
    {
      "cell_type": "code",
      "metadata": {
        "colab": {
          "base_uri": "https://localhost:8080/"
        },
        "id": "TVD--NadvBS1",
        "outputId": "41db073a-a46a-497c-f4a3-e5275c5e538f"
      },
      "source": [
        "test_a = np.arange(1,7).reshape(2,3)\r\n",
        "test_a"
      ],
      "execution_count": null,
      "outputs": [
        {
          "output_type": "execute_result",
          "data": {
            "text/plain": [
              "array([[1, 2, 3],\n",
              "       [4, 5, 6]])"
            ]
          },
          "metadata": {
            "tags": []
          },
          "execution_count": 51
        }
      ]
    },
    {
      "cell_type": "code",
      "metadata": {
        "colab": {
          "base_uri": "https://localhost:8080/"
        },
        "id": "dDnrRR55vn_b",
        "outputId": "517847b3-7aa3-417c-9b12-8127848439f1"
      },
      "source": [
        "test_a.transpose()"
      ],
      "execution_count": null,
      "outputs": [
        {
          "output_type": "execute_result",
          "data": {
            "text/plain": [
              "array([[1, 4],\n",
              "       [2, 5],\n",
              "       [3, 6]])"
            ]
          },
          "metadata": {
            "tags": []
          },
          "execution_count": 52
        }
      ]
    },
    {
      "cell_type": "code",
      "metadata": {
        "colab": {
          "base_uri": "https://localhost:8080/"
        },
        "id": "jQzCG9LWvqyo",
        "outputId": "332c945b-bb5c-434e-abaf-4ae28abae377"
      },
      "source": [
        "test_a.T"
      ],
      "execution_count": null,
      "outputs": [
        {
          "output_type": "execute_result",
          "data": {
            "text/plain": [
              "array([[1, 4],\n",
              "       [2, 5],\n",
              "       [3, 6]])"
            ]
          },
          "metadata": {
            "tags": []
          },
          "execution_count": 53
        }
      ]
    },
    {
      "cell_type": "code",
      "metadata": {
        "colab": {
          "base_uri": "https://localhost:8080/"
        },
        "id": "IFo_LQJCvuOd",
        "outputId": "c8a1af83-eadd-4c8e-c2e3-228ae79b6e41"
      },
      "source": [
        "test_a.T.dot(test_a)"
      ],
      "execution_count": null,
      "outputs": [
        {
          "output_type": "execute_result",
          "data": {
            "text/plain": [
              "array([[17, 22, 27],\n",
              "       [22, 29, 36],\n",
              "       [27, 36, 45]])"
            ]
          },
          "metadata": {
            "tags": []
          },
          "execution_count": 54
        }
      ]
    },
    {
      "cell_type": "markdown",
      "metadata": {
        "id": "Z0uQYasEv0c5"
      },
      "source": [
        "**broadcasting**"
      ]
    },
    {
      "cell_type": "code",
      "metadata": {
        "id": "Cy0UgnTovz4g"
      },
      "source": [
        "test_matrix = np.array([[1,2,3],[4,5,6]],float)\r\n",
        "scalar = 3"
      ],
      "execution_count": null,
      "outputs": []
    },
    {
      "cell_type": "code",
      "metadata": {
        "colab": {
          "base_uri": "https://localhost:8080/"
        },
        "id": "GT2XFaVMv9I3",
        "outputId": "f1deeba4-5863-41f3-928a-062e257669cf"
      },
      "source": [
        "test_matrix + scalar"
      ],
      "execution_count": null,
      "outputs": [
        {
          "output_type": "execute_result",
          "data": {
            "text/plain": [
              "array([[4., 5., 6.],\n",
              "       [7., 8., 9.]])"
            ]
          },
          "metadata": {
            "tags": []
          },
          "execution_count": 56
        }
      ]
    },
    {
      "cell_type": "code",
      "metadata": {
        "colab": {
          "base_uri": "https://localhost:8080/"
        },
        "id": "kqWgqGOCwPAp",
        "outputId": "c7b3963e-428d-48e2-8360-ea69470d6895"
      },
      "source": [
        "test_matrix - scalar"
      ],
      "execution_count": null,
      "outputs": [
        {
          "output_type": "execute_result",
          "data": {
            "text/plain": [
              "array([[-2., -1.,  0.],\n",
              "       [ 1.,  2.,  3.]])"
            ]
          },
          "metadata": {
            "tags": []
          },
          "execution_count": 57
        }
      ]
    },
    {
      "cell_type": "code",
      "metadata": {
        "colab": {
          "base_uri": "https://localhost:8080/"
        },
        "id": "ClMiNfbswR8y",
        "outputId": "08b0515f-7b60-4123-975f-477e719d7c18"
      },
      "source": [
        "test_matrix // scalar"
      ],
      "execution_count": null,
      "outputs": [
        {
          "output_type": "execute_result",
          "data": {
            "text/plain": [
              "array([[0., 0., 1.],\n",
              "       [1., 1., 2.]])"
            ]
          },
          "metadata": {
            "tags": []
          },
          "execution_count": 58
        }
      ]
    },
    {
      "cell_type": "code",
      "metadata": {
        "id": "-gWJtQcuwW49",
        "colab": {
          "base_uri": "https://localhost:8080/"
        },
        "outputId": "1f01f73a-7443-4029-f832-90ebfe5c16f3"
      },
      "source": [
        "test_matrix * scalar"
      ],
      "execution_count": null,
      "outputs": [
        {
          "output_type": "execute_result",
          "data": {
            "text/plain": [
              "array([[ 3.,  6.,  9.],\n",
              "       [12., 15., 18.]])"
            ]
          },
          "metadata": {
            "tags": []
          },
          "execution_count": 60
        }
      ]
    },
    {
      "cell_type": "code",
      "metadata": {
        "id": "EdEFJWvAwYZ-",
        "colab": {
          "base_uri": "https://localhost:8080/"
        },
        "outputId": "b04a14cf-3a3c-4ad5-d28e-3776a5fce6cd"
      },
      "source": [
        "test_matrix / scalar"
      ],
      "execution_count": null,
      "outputs": [
        {
          "output_type": "execute_result",
          "data": {
            "text/plain": [
              "array([[0.33333333, 0.66666667, 1.        ],\n",
              "       [1.33333333, 1.66666667, 2.        ]])"
            ]
          },
          "metadata": {
            "tags": []
          },
          "execution_count": 61
        }
      ]
    },
    {
      "cell_type": "code",
      "metadata": {
        "id": "GkNMXArWwUl-",
        "colab": {
          "base_uri": "https://localhost:8080/"
        },
        "outputId": "9a70d423-9411-453c-fa86-140dd0b7012c"
      },
      "source": [
        "test_matrix ** scalar"
      ],
      "execution_count": null,
      "outputs": [
        {
          "output_type": "execute_result",
          "data": {
            "text/plain": [
              "array([[  1.,   8.,  27.],\n",
              "       [ 64., 125., 216.]])"
            ]
          },
          "metadata": {
            "tags": []
          },
          "execution_count": 59
        }
      ]
    },
    {
      "cell_type": "markdown",
      "metadata": {
        "id": "XLEMS0z95Lt6"
      },
      "source": [
        "**Numpy performance #1**"
      ]
    },
    {
      "cell_type": "code",
      "metadata": {
        "colab": {
          "base_uri": "https://localhost:8080/"
        },
        "id": "r0YtMGH15Npi",
        "outputId": "0144aa24-b2d2-4e34-f217-e39e90885e03"
      },
      "source": [
        "def scalar_vector_product(scalar,vector):\r\n",
        "  result = []\r\n",
        "  for value in vector:\r\n",
        "    result.append(scalar*value)\r\n",
        "  return result\r\n",
        "\r\n",
        "iternation_max = 100000000\r\n",
        "\r\n",
        "vector = list(range(iternation_max))\r\n",
        "scalar = 2\r\n",
        "\r\n",
        "%timeit scalar_vector_product(scalar,vector) #for loop\r\n",
        "%timeit [scalar*value for value in range(iternation_max)] #list comprehension\r\n",
        "%timeit np.arange(iternation_max)*scalar #numpy"
      ],
      "execution_count": 3,
      "outputs": [
        {
          "output_type": "stream",
          "text": [
            "1 loop, best of 3: 11.2 s per loop\n",
            "1 loop, best of 3: 9 s per loop\n",
            "1 loop, best of 3: 237 ms per loop\n"
          ],
          "name": "stdout"
        }
      ]
    },
    {
      "cell_type": "markdown",
      "metadata": {
        "id": "Cu6R5py_5g1m"
      },
      "source": [
        "**All & Any**"
      ]
    },
    {
      "cell_type": "code",
      "metadata": {
        "colab": {
          "base_uri": "https://localhost:8080/"
        },
        "id": "fmTqHDYo5jXl",
        "outputId": "68d973c2-df8d-4e4d-dbc0-e95416aa9ed0"
      },
      "source": [
        "a = np.arange(10)\r\n",
        "a"
      ],
      "execution_count": 64,
      "outputs": [
        {
          "output_type": "execute_result",
          "data": {
            "text/plain": [
              "array([0, 1, 2, 3, 4, 5, 6, 7, 8, 9])"
            ]
          },
          "metadata": {
            "tags": []
          },
          "execution_count": 64
        }
      ]
    },
    {
      "cell_type": "code",
      "metadata": {
        "colab": {
          "base_uri": "https://localhost:8080/"
        },
        "id": "e3Nv-24t5mYp",
        "outputId": "054bbd8a-eeee-4052-cd20-9c87636fa463"
      },
      "source": [
        "np.all(a>5), np.all(a<10) #similar as AND"
      ],
      "execution_count": 65,
      "outputs": [
        {
          "output_type": "execute_result",
          "data": {
            "text/plain": [
              "(False, True)"
            ]
          },
          "metadata": {
            "tags": []
          },
          "execution_count": 65
        }
      ]
    },
    {
      "cell_type": "code",
      "metadata": {
        "colab": {
          "base_uri": "https://localhost:8080/"
        },
        "id": "guH8UGxd5uPh",
        "outputId": "3156f5c8-8dd1-4807-9305-76cb44389111"
      },
      "source": [
        "np.any(a>5), np.any(a<0) #similar as OR"
      ],
      "execution_count": 66,
      "outputs": [
        {
          "output_type": "execute_result",
          "data": {
            "text/plain": [
              "(True, False)"
            ]
          },
          "metadata": {
            "tags": []
          },
          "execution_count": 66
        }
      ]
    },
    {
      "cell_type": "markdown",
      "metadata": {
        "id": "bMvh8bO-7Vhq"
      },
      "source": [
        "**Comparison operation**"
      ]
    },
    {
      "cell_type": "code",
      "metadata": {
        "colab": {
          "base_uri": "https://localhost:8080/"
        },
        "id": "vZMa-xtb7Zq3",
        "outputId": "a61a698e-28d9-4f75-eb98-407e4f51ec30"
      },
      "source": [
        "test_a = np.array([1,3,0],float)\r\n",
        "test_b = np.array([5,2,1],float)\r\n",
        "test_a == test_b"
      ],
      "execution_count": 9,
      "outputs": [
        {
          "output_type": "execute_result",
          "data": {
            "text/plain": [
              "array([False, False, False])"
            ]
          },
          "metadata": {
            "tags": []
          },
          "execution_count": 9
        }
      ]
    },
    {
      "cell_type": "code",
      "metadata": {
        "colab": {
          "base_uri": "https://localhost:8080/"
        },
        "id": "7W7rnuQN7k0R",
        "outputId": "066fe30a-59fe-42dd-f4fa-79a15a38cb2f"
      },
      "source": [
        "test_a > test_b"
      ],
      "execution_count": 10,
      "outputs": [
        {
          "output_type": "execute_result",
          "data": {
            "text/plain": [
              "array([False,  True, False])"
            ]
          },
          "metadata": {
            "tags": []
          },
          "execution_count": 10
        }
      ]
    },
    {
      "cell_type": "code",
      "metadata": {
        "colab": {
          "base_uri": "https://localhost:8080/"
        },
        "id": "AQCz8X0q7oXp",
        "outputId": "34e6e879-2b5f-419d-b917-6e00d37a1de6"
      },
      "source": [
        "(test_a > test_b).any()"
      ],
      "execution_count": 11,
      "outputs": [
        {
          "output_type": "execute_result",
          "data": {
            "text/plain": [
              "True"
            ]
          },
          "metadata": {
            "tags": []
          },
          "execution_count": 11
        }
      ]
    },
    {
      "cell_type": "code",
      "metadata": {
        "colab": {
          "base_uri": "https://localhost:8080/"
        },
        "id": "FJFVARxB71em",
        "outputId": "978ed6b6-0f5f-4fb1-972c-f95065240c71"
      },
      "source": [
        "a = np.array([1,3,0],float)\r\n",
        "np.logical_and(a>0,a<3) #AND condition"
      ],
      "execution_count": 3,
      "outputs": [
        {
          "output_type": "execute_result",
          "data": {
            "text/plain": [
              "array([ True, False, False])"
            ]
          },
          "metadata": {
            "tags": []
          },
          "execution_count": 3
        }
      ]
    },
    {
      "cell_type": "code",
      "metadata": {
        "colab": {
          "base_uri": "https://localhost:8080/"
        },
        "id": "mDH3DYKx79KX",
        "outputId": "36e5672e-d69f-45b1-fc4c-9b502909caad"
      },
      "source": [
        "b = np.array([True,False,True],bool)\r\n",
        "np.logical_not(b) #NOT condition"
      ],
      "execution_count": 13,
      "outputs": [
        {
          "output_type": "execute_result",
          "data": {
            "text/plain": [
              "array([False,  True, False])"
            ]
          },
          "metadata": {
            "tags": []
          },
          "execution_count": 13
        }
      ]
    },
    {
      "cell_type": "code",
      "metadata": {
        "colab": {
          "base_uri": "https://localhost:8080/"
        },
        "id": "UX_iuhk58Ece",
        "outputId": "10f01cd6-eea3-40fc-af2d-bc730d3cd9ec"
      },
      "source": [
        "c = np.array([False,True,False],bool)\r\n",
        "np.logical_or(b,c) #OR condition"
      ],
      "execution_count": 14,
      "outputs": [
        {
          "output_type": "execute_result",
          "data": {
            "text/plain": [
              "array([ True,  True,  True])"
            ]
          },
          "metadata": {
            "tags": []
          },
          "execution_count": 14
        }
      ]
    },
    {
      "cell_type": "markdown",
      "metadata": {
        "id": "NzT0s4Dt8nGC"
      },
      "source": [
        "**np.where**"
      ]
    },
    {
      "cell_type": "code",
      "metadata": {
        "colab": {
          "base_uri": "https://localhost:8080/"
        },
        "id": "eDP3tVbk8o_k",
        "outputId": "832a565c-a926-428d-b10c-e0d9f3349265"
      },
      "source": [
        "a = np.array([1,3,0],float)\r\n",
        "np.where(a>0,3,2) #where(condition,TRUE,FALSE)"
      ],
      "execution_count": 6,
      "outputs": [
        {
          "output_type": "execute_result",
          "data": {
            "text/plain": [
              "array([3, 3, 2])"
            ]
          },
          "metadata": {
            "tags": []
          },
          "execution_count": 6
        }
      ]
    },
    {
      "cell_type": "code",
      "metadata": {
        "colab": {
          "base_uri": "https://localhost:8080/"
        },
        "id": "0OMvudLcBxVW",
        "outputId": "892219e5-4633-4741-ff1e-b8c029bfb8e9"
      },
      "source": [
        "a = np.arange(10)\r\n",
        "np.where(a>5)"
      ],
      "execution_count": 5,
      "outputs": [
        {
          "output_type": "execute_result",
          "data": {
            "text/plain": [
              "(array([6, 7, 8, 9]),)"
            ]
          },
          "metadata": {
            "tags": []
          },
          "execution_count": 5
        }
      ]
    },
    {
      "cell_type": "code",
      "metadata": {
        "colab": {
          "base_uri": "https://localhost:8080/"
        },
        "id": "5m5E0ZhKC3S-",
        "outputId": "2d1c21b3-0d63-44e7-ee2d-fc2987e77d8b"
      },
      "source": [
        "a = np.array([1,np.NaN,np.Inf],float)\r\n",
        "np.isnan(a)"
      ],
      "execution_count": 7,
      "outputs": [
        {
          "output_type": "execute_result",
          "data": {
            "text/plain": [
              "array([False,  True, False])"
            ]
          },
          "metadata": {
            "tags": []
          },
          "execution_count": 7
        }
      ]
    },
    {
      "cell_type": "code",
      "metadata": {
        "colab": {
          "base_uri": "https://localhost:8080/"
        },
        "id": "v2p_gkMXC_3B",
        "outputId": "1896fabb-705c-4db3-f6fd-40fe3f4f4863"
      },
      "source": [
        "np.isfinite(a)"
      ],
      "execution_count": 8,
      "outputs": [
        {
          "output_type": "execute_result",
          "data": {
            "text/plain": [
              "array([ True, False, False])"
            ]
          },
          "metadata": {
            "tags": []
          },
          "execution_count": 8
        }
      ]
    },
    {
      "cell_type": "markdown",
      "metadata": {
        "id": "MqqqQyGZDFuZ"
      },
      "source": [
        "**argmax & argmin**"
      ]
    },
    {
      "cell_type": "code",
      "metadata": {
        "colab": {
          "base_uri": "https://localhost:8080/"
        },
        "id": "rjX5PjasDIxR",
        "outputId": "61112630-e611-4a92-fb19-215673319492"
      },
      "source": [
        "a = np.array([1,2,4,5,8,78,23,3])\r\n",
        "np.argmax(a), np.argmin(a)"
      ],
      "execution_count": 9,
      "outputs": [
        {
          "output_type": "execute_result",
          "data": {
            "text/plain": [
              "(5, 0)"
            ]
          },
          "metadata": {
            "tags": []
          },
          "execution_count": 9
        }
      ]
    },
    {
      "cell_type": "code",
      "metadata": {
        "colab": {
          "base_uri": "https://localhost:8080/"
        },
        "id": "wwEYIkfNDUv8",
        "outputId": "4e11108e-2938-4396-b094-66f2cd39b057"
      },
      "source": [
        "a = np.array([[1,2,4,7],[9,88,6,45],[9,76,3,4]])\r\n",
        "np.argmax(a,axis=1), np.argmin(a,axis=0)"
      ],
      "execution_count": 10,
      "outputs": [
        {
          "output_type": "execute_result",
          "data": {
            "text/plain": [
              "(array([3, 1, 1]), array([0, 0, 2, 2]))"
            ]
          },
          "metadata": {
            "tags": []
          },
          "execution_count": 10
        }
      ]
    },
    {
      "cell_type": "markdown",
      "metadata": {
        "id": "hDedNrKmD0pH"
      },
      "source": [
        "**boolean index**"
      ]
    },
    {
      "cell_type": "code",
      "metadata": {
        "colab": {
          "base_uri": "https://localhost:8080/"
        },
        "id": "bIRhrXkCD3tY",
        "outputId": "e7d80db1-6495-415b-c562-6da9d14e8d9f"
      },
      "source": [
        "test_array = np.array([1,4,0,2,3,8,9,7],float)\r\n",
        "test_array>3"
      ],
      "execution_count": 11,
      "outputs": [
        {
          "output_type": "execute_result",
          "data": {
            "text/plain": [
              "array([False,  True, False, False, False,  True,  True,  True])"
            ]
          },
          "metadata": {
            "tags": []
          },
          "execution_count": 11
        }
      ]
    },
    {
      "cell_type": "code",
      "metadata": {
        "colab": {
          "base_uri": "https://localhost:8080/"
        },
        "id": "UT7CkJEzD-0B",
        "outputId": "aaa1ce81-58be-4006-fcb2-aac9a4e4e47b"
      },
      "source": [
        "test_array[test_array>3]"
      ],
      "execution_count": 12,
      "outputs": [
        {
          "output_type": "execute_result",
          "data": {
            "text/plain": [
              "array([4., 8., 9., 7.])"
            ]
          },
          "metadata": {
            "tags": []
          },
          "execution_count": 12
        }
      ]
    },
    {
      "cell_type": "code",
      "metadata": {
        "colab": {
          "base_uri": "https://localhost:8080/"
        },
        "id": "oKx8jmNEEELa",
        "outputId": "6d14bc1e-cf66-4534-f927-7fa249820e66"
      },
      "source": [
        "condition = test_array<3\r\n",
        "test_array[condition]"
      ],
      "execution_count": 13,
      "outputs": [
        {
          "output_type": "execute_result",
          "data": {
            "text/plain": [
              "array([1., 0., 2.])"
            ]
          },
          "metadata": {
            "tags": []
          },
          "execution_count": 13
        }
      ]
    },
    {
      "cell_type": "markdown",
      "metadata": {
        "id": "-Yw8YqbVEqCJ"
      },
      "source": [
        "**fancy index**"
      ]
    },
    {
      "cell_type": "code",
      "metadata": {
        "colab": {
          "base_uri": "https://localhost:8080/"
        },
        "id": "lcfyheTbEse4",
        "outputId": "35421f07-236e-43e9-e8f2-a7188516e3cf"
      },
      "source": [
        "a = np.array([2,4,6,8],float)\r\n",
        "b = np.array([0,0,1,3,2,1],int) #must be declared as integer\r\n",
        "a[b] #bracket index, extract the values ​​of the a array with the value of the b array as index"
      ],
      "execution_count": 14,
      "outputs": [
        {
          "output_type": "execute_result",
          "data": {
            "text/plain": [
              "array([2., 2., 4., 8., 6., 4.])"
            ]
          },
          "metadata": {
            "tags": []
          },
          "execution_count": 14
        }
      ]
    },
    {
      "cell_type": "code",
      "metadata": {
        "colab": {
          "base_uri": "https://localhost:8080/"
        },
        "id": "LFtkhD0KE10g",
        "outputId": "c0d7d25a-a1e4-407d-fc5c-66ee710dbf59"
      },
      "source": [
        "a.take(b) #same as bracket index"
      ],
      "execution_count": 15,
      "outputs": [
        {
          "output_type": "execute_result",
          "data": {
            "text/plain": [
              "array([2., 2., 4., 8., 6., 4.])"
            ]
          },
          "metadata": {
            "tags": []
          },
          "execution_count": 15
        }
      ]
    },
    {
      "cell_type": "code",
      "metadata": {
        "colab": {
          "base_uri": "https://localhost:8080/"
        },
        "id": "qEhhUB2SGCxi",
        "outputId": "1cc73379-ef25-4378-d518-b8e5a34f5047"
      },
      "source": [
        "a = np.array([[1,4],[9,16]],float)\r\n",
        "b = np.array([0,0,1,1,0],int)\r\n",
        "c = np.array([0,0,1,1,0],int)\r\n",
        "a[b,c] #extract the values ​​of the a array with the value of the b array as the row index and the c array as the column index"
      ],
      "execution_count": 16,
      "outputs": [
        {
          "output_type": "execute_result",
          "data": {
            "text/plain": [
              "array([ 1.,  1., 16., 16.,  1.])"
            ]
          },
          "metadata": {
            "tags": []
          },
          "execution_count": 16
        }
      ]
    }
  ]
}