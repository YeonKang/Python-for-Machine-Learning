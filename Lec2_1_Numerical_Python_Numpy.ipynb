{
  "nbformat": 4,
  "nbformat_minor": 0,
  "metadata": {
    "colab": {
      "name": "Lec2_1_Numerical_Python-Numpy.ipynb",
      "provenance": [],
      "authorship_tag": "ABX9TyNb6MZunt2I6g8vOJjvM6fL",
      "include_colab_link": true
    },
    "kernelspec": {
      "name": "python3",
      "display_name": "Python 3"
    }
  },
  "cells": [
    {
      "cell_type": "markdown",
      "metadata": {
        "id": "view-in-github",
        "colab_type": "text"
      },
      "source": [
        "<a href=\"https://colab.research.google.com/github/YeonKang/Python-for-Machine-Learning/blob/main/Lec2_1_Numerical_Python_Numpy.ipynb\" target=\"_parent\"><img src=\"https://colab.research.google.com/assets/colab-badge.svg\" alt=\"Open In Colab\"/></a>"
      ]
    },
    {
      "cell_type": "markdown",
      "metadata": {
        "id": "t1oa-MhPOJjz"
      },
      "source": [
        "**import**"
      ]
    },
    {
      "cell_type": "code",
      "metadata": {
        "id": "zm8V9U4PKd0U"
      },
      "source": [
        "import numpy as np"
      ],
      "execution_count": 2,
      "outputs": []
    },
    {
      "cell_type": "markdown",
      "metadata": {
        "id": "dUqGuWKpOR6_"
      },
      "source": [
        "**Array creation**"
      ]
    },
    {
      "cell_type": "code",
      "metadata": {
        "colab": {
          "base_uri": "https://localhost:8080/"
        },
        "id": "I3f-x21GOfIb",
        "outputId": "a84e2421-ca74-4453-b51a-1453a5f58b91"
      },
      "source": [
        "test_array = np.array([1,4,5,8],float)\r\n",
        "print(test_array)\r\n",
        "type(test_array[3])"
      ],
      "execution_count": 3,
      "outputs": [
        {
          "output_type": "stream",
          "text": [
            "[1. 4. 5. 8.]\n"
          ],
          "name": "stdout"
        },
        {
          "output_type": "execute_result",
          "data": {
            "text/plain": [
              "numpy.float64"
            ]
          },
          "metadata": {
            "tags": []
          },
          "execution_count": 3
        }
      ]
    },
    {
      "cell_type": "code",
      "metadata": {
        "colab": {
          "base_uri": "https://localhost:8080/"
        },
        "id": "LfXJJvhDW0pb",
        "outputId": "9212bc67-6dec-4749-df19-3ae13e73fa11"
      },
      "source": [
        "test_array = np.array([1,4,5,\"8\"],float)\r\n",
        "print(test_array)\r\n",
        "print(type(test_array[3])) #automatic conversion of string type data \"8\" to float type 8\r\n",
        "print(test_array.dtype) #data type of the entire array\r\n",
        "print(test_array.shape) #shape of the entire array -> result \",\" means data type is tuple & test_array is vector array"
      ],
      "execution_count": 5,
      "outputs": [
        {
          "output_type": "stream",
          "text": [
            "[1. 4. 5. 8.]\n",
            "<class 'numpy.float64'>\n",
            "float64\n",
            "(4,)\n"
          ],
          "name": "stdout"
        }
      ]
    },
    {
      "cell_type": "code",
      "metadata": {
        "colab": {
          "base_uri": "https://localhost:8080/"
        },
        "id": "exytHlsXbzK8",
        "outputId": "ef52e4d7-4d1e-47e4-c8c6-309ed1bd5f06"
      },
      "source": [
        "test_array = np.array([[1,4,5,8]],float)\r\n",
        "print(test_array.shape) #test_array is matrix array"
      ],
      "execution_count": 6,
      "outputs": [
        {
          "output_type": "stream",
          "text": [
            "(1, 4)\n"
          ],
          "name": "stdout"
        }
      ]
    },
    {
      "cell_type": "markdown",
      "metadata": {
        "id": "cn0T0WyZQFaG"
      },
      "source": [
        "**Array shape**"
      ]
    },
    {
      "cell_type": "code",
      "metadata": {
        "id": "geJgyft5QEd3"
      },
      "source": [
        "tensor = [[[1,2,5,8],[1,2,5,8],[1,2,5,8]],[[1,2,5,8],[1,2,5,8],[1,2,5,8]],[[1,2,5,8],[1,2,5,8],[1,2,5,8]],[[1,2,5,8],[1,2,5,8],[1,2,5,8]]]"
      ],
      "execution_count": 7,
      "outputs": []
    },
    {
      "cell_type": "code",
      "metadata": {
        "colab": {
          "base_uri": "https://localhost:8080/"
        },
        "id": "8xsXP4A1dKMB",
        "outputId": "8c04a324-2c52-42e2-c21f-858bd83e9e40"
      },
      "source": [
        "np.array(tensor,int).ndim"
      ],
      "execution_count": 11,
      "outputs": [
        {
          "output_type": "execute_result",
          "data": {
            "text/plain": [
              "3"
            ]
          },
          "metadata": {
            "tags": []
          },
          "execution_count": 11
        }
      ]
    },
    {
      "cell_type": "code",
      "metadata": {
        "colab": {
          "base_uri": "https://localhost:8080/"
        },
        "id": "VnGGE8nUO9zY",
        "outputId": "647a9094-6c26-46dc-abb7-5bdf9ab30113"
      },
      "source": [
        "np.array(tensor,int).size #total data size"
      ],
      "execution_count": 10,
      "outputs": [
        {
          "output_type": "execute_result",
          "data": {
            "text/plain": [
              "48"
            ]
          },
          "metadata": {
            "tags": []
          },
          "execution_count": 10
        }
      ]
    },
    {
      "cell_type": "markdown",
      "metadata": {
        "id": "c_rDKsztdihx"
      },
      "source": [
        "**Array dtype**"
      ]
    },
    {
      "cell_type": "code",
      "metadata": {
        "colab": {
          "base_uri": "https://localhost:8080/"
        },
        "id": "9_9D3Ba5dWE7",
        "outputId": "222d3de6-9f30-4836-e5cb-c096983611b5"
      },
      "source": [
        "np.array([[1,2,3],[4.5,\"5\",\"6\"]],dtype=np.float32).nbytes #32bits = 4ytes -> 6*4bytes"
      ],
      "execution_count": 14,
      "outputs": [
        {
          "output_type": "execute_result",
          "data": {
            "text/plain": [
              "24"
            ]
          },
          "metadata": {
            "tags": []
          },
          "execution_count": 14
        }
      ]
    },
    {
      "cell_type": "code",
      "metadata": {
        "colab": {
          "base_uri": "https://localhost:8080/"
        },
        "id": "l853-5rjdycJ",
        "outputId": "c292bb6e-b4bc-47a0-da73-c1e93dc5fd1b"
      },
      "source": [
        "np.array([[1,2,3],[4.5,\"5\",\"6\"]],dtype=np.int8).nbytes #8bits = 1bytes -> 6*1bytes"
      ],
      "execution_count": 15,
      "outputs": [
        {
          "output_type": "execute_result",
          "data": {
            "text/plain": [
              "6"
            ]
          },
          "metadata": {
            "tags": []
          },
          "execution_count": 15
        }
      ]
    },
    {
      "cell_type": "code",
      "metadata": {
        "colab": {
          "base_uri": "https://localhost:8080/"
        },
        "id": "6yJOElEkeC_h",
        "outputId": "dc3b9658-f257-4bb8-cc4f-da63e3617fd4"
      },
      "source": [
        "np.array([[1,2,3],[4.5,\"5\",\"6\"]],dtype=np.float64).nbytes #64bits = 8bytes -> 6*8bytes"
      ],
      "execution_count": 17,
      "outputs": [
        {
          "output_type": "execute_result",
          "data": {
            "text/plain": [
              "48"
            ]
          },
          "metadata": {
            "tags": []
          },
          "execution_count": 17
        }
      ]
    },
    {
      "cell_type": "markdown",
      "metadata": {
        "id": "jjTZTbhVeeM5"
      },
      "source": [
        "**reshape** (total data size is unchanged)"
      ]
    },
    {
      "cell_type": "code",
      "metadata": {
        "colab": {
          "base_uri": "https://localhost:8080/"
        },
        "id": "DXg-G3qfegDR",
        "outputId": "a80562e3-b51a-4038-a42a-1b6f8c81c12e"
      },
      "source": [
        "test_matrix = [[1,2,3,4],[1,2,5,8]]\r\n",
        "np.array(test_matrix).shape"
      ],
      "execution_count": 18,
      "outputs": [
        {
          "output_type": "execute_result",
          "data": {
            "text/plain": [
              "(2, 4)"
            ]
          },
          "metadata": {
            "tags": []
          },
          "execution_count": 18
        }
      ]
    },
    {
      "cell_type": "code",
      "metadata": {
        "colab": {
          "base_uri": "https://localhost:8080/"
        },
        "id": "p60Ae0KcfY_u",
        "outputId": "e2f0d74a-131d-445d-8ec6-ddccc08e2c13"
      },
      "source": [
        "np.array(test_matrix).reshape(2,2,2)"
      ],
      "execution_count": 19,
      "outputs": [
        {
          "output_type": "execute_result",
          "data": {
            "text/plain": [
              "array([[[1, 2],\n",
              "        [3, 4]],\n",
              "\n",
              "       [[1, 2],\n",
              "        [5, 8]]])"
            ]
          },
          "metadata": {
            "tags": []
          },
          "execution_count": 19
        }
      ]
    },
    {
      "cell_type": "code",
      "metadata": {
        "colab": {
          "base_uri": "https://localhost:8080/"
        },
        "id": "VoJ5l-eRfeA1",
        "outputId": "7f099875-3575-462f-ba8c-fc7bb8ac5189"
      },
      "source": [
        "np.array(test_matrix).reshape(8,).shape"
      ],
      "execution_count": 20,
      "outputs": [
        {
          "output_type": "execute_result",
          "data": {
            "text/plain": [
              "(8,)"
            ]
          },
          "metadata": {
            "tags": []
          },
          "execution_count": 20
        }
      ]
    },
    {
      "cell_type": "code",
      "metadata": {
        "colab": {
          "base_uri": "https://localhost:8080/"
        },
        "id": "lowVkvA9foqz",
        "outputId": "88c37c23-05d9-4419-916a-1adc53e14536"
      },
      "source": [
        "np.array(test_matrix).reshape(-1,2).shape #-1 means elect the number of rows based on size"
      ],
      "execution_count": 21,
      "outputs": [
        {
          "output_type": "execute_result",
          "data": {
            "text/plain": [
              "(4, 2)"
            ]
          },
          "metadata": {
            "tags": []
          },
          "execution_count": 21
        }
      ]
    },
    {
      "cell_type": "code",
      "metadata": {
        "colab": {
          "base_uri": "https://localhost:8080/"
        },
        "id": "xgEEewtqgEEp",
        "outputId": "34549651-ce92-479a-8f9b-2b60b3f7d854"
      },
      "source": [
        "np.array(test_matrix).reshape(2,-1).shape #-1 means elect the number of column based on size"
      ],
      "execution_count": 22,
      "outputs": [
        {
          "output_type": "execute_result",
          "data": {
            "text/plain": [
              "(2, 4)"
            ]
          },
          "metadata": {
            "tags": []
          },
          "execution_count": 22
        }
      ]
    },
    {
      "cell_type": "markdown",
      "metadata": {
        "id": "y8EiSyt4gS0R"
      },
      "source": [
        "**flatten**"
      ]
    },
    {
      "cell_type": "code",
      "metadata": {
        "colab": {
          "base_uri": "https://localhost:8080/"
        },
        "id": "PHSeKJawgV1N",
        "outputId": "aa59cd8e-8d5c-442c-b24f-dd8fc248bf09"
      },
      "source": [
        "test_matrix = [[[1,2,3,4],[1,2,5,8]],[[1,2,3,4],[1,2,5,8]]]\r\n",
        "np.array(test_matrix).flatten()"
      ],
      "execution_count": 23,
      "outputs": [
        {
          "output_type": "execute_result",
          "data": {
            "text/plain": [
              "array([1, 2, 3, 4, 1, 2, 5, 8, 1, 2, 3, 4, 1, 2, 5, 8])"
            ]
          },
          "metadata": {
            "tags": []
          },
          "execution_count": 23
        }
      ]
    },
    {
      "cell_type": "markdown",
      "metadata": {
        "id": "515OVP_CgoEG"
      },
      "source": [
        "**indexing & slicing**"
      ]
    },
    {
      "cell_type": "code",
      "metadata": {
        "colab": {
          "base_uri": "https://localhost:8080/"
        },
        "id": "p7Oq2BcBgtpD",
        "outputId": "3a8bd1da-acd4-4c96-b632-9230544322bd"
      },
      "source": [
        "a = np.array([[1,2,3],[4.5,5,6]],int)\r\n",
        "print(a)\r\n",
        "print(a[0,0])\r\n",
        "print(a[0][0])"
      ],
      "execution_count": 24,
      "outputs": [
        {
          "output_type": "stream",
          "text": [
            "[[1 2 3]\n",
            " [4 5 6]]\n",
            "1\n",
            "1\n"
          ],
          "name": "stdout"
        }
      ]
    },
    {
      "cell_type": "code",
      "metadata": {
        "colab": {
          "base_uri": "https://localhost:8080/"
        },
        "id": "L-6CUy8shBJj",
        "outputId": "089faecc-2324-449e-d82f-f7647416fcb1"
      },
      "source": [
        "a[0,0] = 12\r\n",
        "print(a)"
      ],
      "execution_count": 25,
      "outputs": [
        {
          "output_type": "stream",
          "text": [
            "[[12  2  3]\n",
            " [ 4  5  6]]\n"
          ],
          "name": "stdout"
        }
      ]
    },
    {
      "cell_type": "code",
      "metadata": {
        "colab": {
          "base_uri": "https://localhost:8080/"
        },
        "id": "oMlgWEnZhHNH",
        "outputId": "d55f74c6-6f5c-4226-b4b2-324f24e05056"
      },
      "source": [
        "a[0][0] = 5\r\n",
        "print(a)"
      ],
      "execution_count": 26,
      "outputs": [
        {
          "output_type": "stream",
          "text": [
            "[[5 2 3]\n",
            " [4 5 6]]\n"
          ],
          "name": "stdout"
        }
      ]
    },
    {
      "cell_type": "code",
      "metadata": {
        "colab": {
          "base_uri": "https://localhost:8080/"
        },
        "id": "rFG1mDJphLQj",
        "outputId": "019107d7-0c90-4576-874d-5be6825320da"
      },
      "source": [
        "a = np.array([[1,2,3,4,5],[6,7,8,9,10]],int)\r\n",
        "a[:2,2:] #2 or more rows of all rows"
      ],
      "execution_count": 27,
      "outputs": [
        {
          "output_type": "execute_result",
          "data": {
            "text/plain": [
              "array([[ 3,  4,  5],\n",
              "       [ 8,  9, 10]])"
            ]
          },
          "metadata": {
            "tags": []
          },
          "execution_count": 27
        }
      ]
    },
    {
      "cell_type": "code",
      "metadata": {
        "colab": {
          "base_uri": "https://localhost:8080/"
        },
        "id": "SDCkzWOzhcCv",
        "outputId": "0cfb3ee1-f391-42b8-f6de-a342b8e79d0e"
      },
      "source": [
        "a[1,1:3] #rows 1 to 2 of 1 row"
      ],
      "execution_count": 28,
      "outputs": [
        {
          "output_type": "execute_result",
          "data": {
            "text/plain": [
              "array([7, 8])"
            ]
          },
          "metadata": {
            "tags": []
          },
          "execution_count": 28
        }
      ]
    },
    {
      "cell_type": "code",
      "metadata": {
        "colab": {
          "base_uri": "https://localhost:8080/"
        },
        "id": "7ZAcXxYUhqbQ",
        "outputId": "298cf83c-282e-4aee-f80f-b7eb2f574b5e"
      },
      "source": [
        "a[1:3] #whole of rows 1 and 2"
      ],
      "execution_count": 29,
      "outputs": [
        {
          "output_type": "execute_result",
          "data": {
            "text/plain": [
              "array([[ 6,  7,  8,  9, 10]])"
            ]
          },
          "metadata": {
            "tags": []
          },
          "execution_count": 29
        }
      ]
    }
  ]
}