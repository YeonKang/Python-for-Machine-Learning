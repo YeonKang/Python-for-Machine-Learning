{
  "nbformat": 4,
  "nbformat_minor": 0,
  "metadata": {
    "colab": {
      "name": "Lab2_1_numpy.ipynb",
      "provenance": [],
      "authorship_tag": "ABX9TyPJOQ7RvT3ZEg0tI5vLbDgF",
      "include_colab_link": true
    },
    "kernelspec": {
      "name": "python3",
      "display_name": "Python 3"
    }
  },
  "cells": [
    {
      "cell_type": "markdown",
      "metadata": {
        "id": "view-in-github",
        "colab_type": "text"
      },
      "source": [
        "<a href=\"https://colab.research.google.com/github/YeonKang/Python-for-Machine-Learning/blob/main/Lab2_1_numpy.ipynb\" target=\"_parent\"><img src=\"https://colab.research.google.com/assets/colab-badge.svg\" alt=\"Open In Colab\"/></a>"
      ]
    },
    {
      "cell_type": "code",
      "metadata": {
        "id": "W7jJE3u4zQgg"
      },
      "source": [
        "import numpy as np"
      ],
      "execution_count": 1,
      "outputs": []
    },
    {
      "cell_type": "code",
      "metadata": {
        "id": "UQniFJsva5TP"
      },
      "source": [
        "def n_size_ndarray_creation(n, dtype=np.int):\r\n",
        "    return np.array(range(n**2),dtype=dtype).reshape(n,n)"
      ],
      "execution_count": null,
      "outputs": []
    },
    {
      "cell_type": "code",
      "metadata": {
        "colab": {
          "base_uri": "https://localhost:8080/"
        },
        "id": "dN68BjNXrRVB",
        "outputId": "123f5790-e8f9-49b6-e35f-58d20c1511fa"
      },
      "source": [
        "n_size_ndarray_creation(3)"
      ],
      "execution_count": null,
      "outputs": [
        {
          "output_type": "execute_result",
          "data": {
            "text/plain": [
              "array([[0, 1, 2],\n",
              "       [3, 4, 5],\n",
              "       [6, 7, 8]])"
            ]
          },
          "metadata": {
            "tags": []
          },
          "execution_count": 4
        }
      ]
    },
    {
      "cell_type": "code",
      "metadata": {
        "id": "vfUzs61ia5OJ"
      },
      "source": [
        "def zero_or_one_or_empty_ndarray(shape, type=0, dtype=np.int):\r\n",
        "    if type==0:\r\n",
        "      return np.zeros(shape=shape, dtype=dtype)\r\n",
        "    if type==1:\r\n",
        "      return np.ones(shape=shape, dtype=dtype)\r\n",
        "    if type==99:\r\n",
        "      return np.empty(shape=shape, dtype=dtype)"
      ],
      "execution_count": null,
      "outputs": []
    },
    {
      "cell_type": "code",
      "metadata": {
        "id": "vcow1yILa5HV"
      },
      "source": [
        "def change_shape_of_ndarray(X, n_row):\r\n",
        "    return X.flatten() if n_row==1 else X.reshape(n_row,-1)"
      ],
      "execution_count": null,
      "outputs": []
    },
    {
      "cell_type": "code",
      "metadata": {
        "colab": {
          "base_uri": "https://localhost:8080/"
        },
        "id": "NK5CuxmKrv7e",
        "outputId": "dcb0926f-7830-4e31-ba73-9ad3030fbec1"
      },
      "source": [
        "X = np.ones((32,32),dtype=np.int)\r\n",
        "X"
      ],
      "execution_count": null,
      "outputs": [
        {
          "output_type": "execute_result",
          "data": {
            "text/plain": [
              "array([[1, 1, 1, ..., 1, 1, 1],\n",
              "       [1, 1, 1, ..., 1, 1, 1],\n",
              "       [1, 1, 1, ..., 1, 1, 1],\n",
              "       ...,\n",
              "       [1, 1, 1, ..., 1, 1, 1],\n",
              "       [1, 1, 1, ..., 1, 1, 1],\n",
              "       [1, 1, 1, ..., 1, 1, 1]])"
            ]
          },
          "metadata": {
            "tags": []
          },
          "execution_count": 9
        }
      ]
    },
    {
      "cell_type": "code",
      "metadata": {
        "colab": {
          "base_uri": "https://localhost:8080/"
        },
        "id": "6-O_Y_vvr1Vn",
        "outputId": "34cd6d39-76b9-4e2b-b745-fd8ecd5ce23b"
      },
      "source": [
        "change_shape_of_ndarray(X,1)"
      ],
      "execution_count": null,
      "outputs": [
        {
          "output_type": "execute_result",
          "data": {
            "text/plain": [
              "array([1, 1, 1, ..., 1, 1, 1])"
            ]
          },
          "metadata": {
            "tags": []
          },
          "execution_count": 10
        }
      ]
    },
    {
      "cell_type": "code",
      "metadata": {
        "id": "0eLdHEWka5DD"
      },
      "source": [
        "def concat_ndarray(X_1, X_2, axis):\r\n",
        "    try:\r\n",
        "      if X_1.ndim == 1:\r\n",
        "        X_1 = X_1.reshape(1,-1)\r\n",
        "      if X_2.ndim == 1:\r\n",
        "        X_2 = X_2.reshape(1,-1)\r\n",
        "      return np.concatenate((X_1,X_2),axis=axis)\r\n",
        "    except ValueError as e:\r\n",
        "      return False"
      ],
      "execution_count": null,
      "outputs": []
    },
    {
      "cell_type": "code",
      "metadata": {
        "colab": {
          "base_uri": "https://localhost:8080/"
        },
        "id": "wYtk1Gk5uAT1",
        "outputId": "cb664562-918e-40eb-f3c2-13ff33ba3709"
      },
      "source": [
        "a = np.array([[1,2],[3,4]])\r\n",
        "b = np.array([[5,6]])\r\n",
        "concat_ndarray(a,b,1)"
      ],
      "execution_count": null,
      "outputs": [
        {
          "output_type": "execute_result",
          "data": {
            "text/plain": [
              "False"
            ]
          },
          "metadata": {
            "tags": []
          },
          "execution_count": 12
        }
      ]
    },
    {
      "cell_type": "code",
      "metadata": {
        "id": "z44ON3hEa4-5"
      },
      "source": [
        "def normalize_ndarray(X, axis=99, dtype=np.float32):\r\n",
        "    X = X.astype(np.float32)\r\n",
        "    n_row,n_column = X.shape\r\n",
        "    if axis == 99:\r\n",
        "      x_mean = np.mean(X)\r\n",
        "      x_std = np.std(X)\r\n",
        "      Z = (X-x_mean) / x_std\r\n",
        "    if axis == 0:\r\n",
        "      x_mean = np.mean(X,0).reshape(1,-1)\r\n",
        "      x_std = np.std(X,0).reshape(1,-1)\r\n",
        "      Z = (X-x_mean) / x_std\r\n",
        "    if axis == 1:\r\n",
        "      x_mean = np.mean(X,1).reshape(n_row,-1)\r\n",
        "      x_std = np.std(X,1).reshape(n_row,-1)\r\n",
        "      Z = (X-x_mean) / x_std\r\n",
        "\r\n",
        "      return Z"
      ],
      "execution_count": null,
      "outputs": []
    },
    {
      "cell_type": "code",
      "metadata": {
        "colab": {
          "base_uri": "https://localhost:8080/"
        },
        "id": "glpBqRK4vG6E",
        "outputId": "0b5af268-4088-48d9-93d5-dc12fc49b808"
      },
      "source": [
        "X = np.arange(12,dtype=np.float32).reshape(4,3)\r\n",
        "normalize_ndarray(X,1)"
      ],
      "execution_count": null,
      "outputs": [
        {
          "output_type": "execute_result",
          "data": {
            "text/plain": [
              "array([[-1.2247448,  0.       ,  1.2247448],\n",
              "       [-1.2247448,  0.       ,  1.2247448],\n",
              "       [-1.2247448,  0.       ,  1.2247448],\n",
              "       [-1.2247448,  0.       ,  1.2247448]], dtype=float32)"
            ]
          },
          "metadata": {
            "tags": []
          },
          "execution_count": 16
        }
      ]
    },
    {
      "cell_type": "code",
      "metadata": {
        "id": "C-7e2onNa45m"
      },
      "source": [
        "def save_ndarray(X, filename=\"test.npy\"):\r\n",
        "    file_test = open(filename,\"wb\")\r\n",
        "    np.save(X,file_test)"
      ],
      "execution_count": null,
      "outputs": []
    },
    {
      "cell_type": "code",
      "metadata": {
        "id": "sIxoMxQSa40F"
      },
      "source": [
        "def boolean_index(X, condition):\r\n",
        "    condition = eval(str(\"X\")+condition)\r\n",
        "    return np.where(condition)"
      ],
      "execution_count": 2,
      "outputs": []
    },
    {
      "cell_type": "code",
      "metadata": {
        "colab": {
          "base_uri": "https://localhost:8080/"
        },
        "id": "H1icp_JOR9I9",
        "outputId": "59a12efe-588b-4c68-f3ee-de50e12dc696"
      },
      "source": [
        "X = np.arange(32,dtype=np.float32)\r\n",
        "boolean_index(X,\">6\")"
      ],
      "execution_count": 3,
      "outputs": [
        {
          "output_type": "execute_result",
          "data": {
            "text/plain": [
              "(array([ 7,  8,  9, 10, 11, 12, 13, 14, 15, 16, 17, 18, 19, 20, 21, 22, 23,\n",
              "        24, 25, 26, 27, 28, 29, 30, 31]),)"
            ]
          },
          "metadata": {
            "tags": []
          },
          "execution_count": 3
        }
      ]
    },
    {
      "cell_type": "code",
      "metadata": {
        "id": "XcEibYMra4uo"
      },
      "source": [
        "def find_nearest_value(X, target_value):\r\n",
        "    return X[np.argmin(np.abs(X-target_value))]"
      ],
      "execution_count": 4,
      "outputs": []
    },
    {
      "cell_type": "code",
      "metadata": {
        "colab": {
          "base_uri": "https://localhost:8080/"
        },
        "id": "ofkV2SuNSj4R",
        "outputId": "65097dc0-fe83-419f-b7b3-69cd38721d37"
      },
      "source": [
        "X= np.random.uniform(0,1,100)\r\n",
        "target_value = 0.3\r\n",
        "find_nearest_value(X,target_value)"
      ],
      "execution_count": 5,
      "outputs": [
        {
          "output_type": "execute_result",
          "data": {
            "text/plain": [
              "0.29036298679063133"
            ]
          },
          "metadata": {
            "tags": []
          },
          "execution_count": 5
        }
      ]
    },
    {
      "cell_type": "code",
      "metadata": {
        "id": "EqVAgS-Za4nG"
      },
      "source": [
        "def get_n_largest_values(X, n):\r\n",
        "    return X[np.argsort(X[::-1])[:n]]"
      ],
      "execution_count": 6,
      "outputs": []
    },
    {
      "cell_type": "code",
      "metadata": {
        "colab": {
          "base_uri": "https://localhost:8080/"
        },
        "id": "bOlN4GIbS2kL",
        "outputId": "94f1688f-bfd9-4f1c-84fb-d90335404dab"
      },
      "source": [
        "X = np.random.uniform(0,1,5)\r\n",
        "get_n_largest_values(X,3)"
      ],
      "execution_count": 7,
      "outputs": [
        {
          "output_type": "execute_result",
          "data": {
            "text/plain": [
              "array([0.99067058, 0.83349288, 0.23288645])"
            ]
          },
          "metadata": {
            "tags": []
          },
          "execution_count": 7
        }
      ]
    }
  ]
}