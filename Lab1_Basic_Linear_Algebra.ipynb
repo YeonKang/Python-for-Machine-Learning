{
  "nbformat": 4,
  "nbformat_minor": 0,
  "metadata": {
    "colab": {
      "name": "Lab1_Basic_Linear_Algebra.ipynb",
      "provenance": [],
      "authorship_tag": "ABX9TyOZcfzXYYkyEyaelI8yLk7l",
      "include_colab_link": true
    },
    "kernelspec": {
      "name": "python3",
      "display_name": "Python 3"
    }
  },
  "cells": [
    {
      "cell_type": "markdown",
      "metadata": {
        "id": "view-in-github",
        "colab_type": "text"
      },
      "source": [
        "<a href=\"https://colab.research.google.com/github/YeonKang/Python-for-Machine-Learning/blob/main/Lab1_Basic_Linear_Algebra.ipynb\" target=\"_parent\"><img src=\"https://colab.research.google.com/assets/colab-badge.svg\" alt=\"Open In Colab\"/></a>"
      ]
    },
    {
      "cell_type": "code",
      "metadata": {
        "id": "DdsIY0rk4Cqx"
      },
      "source": [
        "def vector_size_check(*vector_variables):\r\n",
        "    return all(len(vector_variables[0]) == x #we can use \"all\" as equal as AND function -> True & False\r\n",
        "        for x in [len(vector) for vector in vector_variables[1:]])"
      ],
      "execution_count": null,
      "outputs": []
    },
    {
      "cell_type": "code",
      "metadata": {
        "id": "iBhbsHGN4g9l"
      },
      "source": [
        "def vector_addition(*vector_variables):\r\n",
        "    if vector_size_check(*vector_variables) == False:\r\n",
        "        raise ArithmeticError\r\n",
        "    return [sum(elements) for elements in zip(*vector_variables)]"
      ],
      "execution_count": null,
      "outputs": []
    },
    {
      "cell_type": "code",
      "metadata": {
        "id": "g3nElUC84g4G"
      },
      "source": [
        "def vector_subtraction(*vector_variables):\r\n",
        "    if vector_size_check(*vector_variables) == False:\r\n",
        "        raise ArithmeticError\r\n",
        "    return [elements[0]*2-sum(elements) for elements in zip(*vector_variables)]"
      ],
      "execution_count": null,
      "outputs": []
    },
    {
      "cell_type": "code",
      "metadata": {
        "id": "YGJAoWjf4gyi"
      },
      "source": [
        "def scalar_vector_product(alpha, vector_variable):\r\n",
        "    return [alpha*element for element in vector_variable]"
      ],
      "execution_count": null,
      "outputs": []
    },
    {
      "cell_type": "code",
      "metadata": {
        "id": "TcO-qs7E4R99"
      },
      "source": [
        "def matrix_size_check(*matrix_variables):\r\n",
        "    return all([len(set(len(matrix[0]) for matrix in matrix_variables)) == 1]) and all([len(matrix_variables[0]) == len(matrix) for matrix in matrix_variables])"
      ],
      "execution_count": null,
      "outputs": []
    },
    {
      "cell_type": "code",
      "metadata": {
        "id": "A1-yO9fd4R3N"
      },
      "source": [
        "def is_matrix_equal(*matrix_variables):\r\n",
        "    return all([all([len(set(row)) == 1 for row in zip(*matrix)]) for matrix in zip(*matrix_variables)])"
      ],
      "execution_count": null,
      "outputs": []
    },
    {
      "cell_type": "code",
      "metadata": {
        "id": "r1qWRZbs4RwV"
      },
      "source": [
        "def matrix_addition(*matrix_variables):\r\n",
        "    if matrix_size_check(*matrix_variables) == False:\r\n",
        "        raise ArithmeticError\r\n",
        "    return [[sum(row) for row in zip(*matrix)] for matrix in zip(*matrix_variables)]"
      ],
      "execution_count": null,
      "outputs": []
    },
    {
      "cell_type": "code",
      "metadata": {
        "id": "Dh0Mj3L24RpD"
      },
      "source": [
        "def matrix_subtraction(*matrix_variables):\r\n",
        "    if matrix_size_check(*matrix_variables) == False:\r\n",
        "        raise ArithmeticError\r\n",
        "    return [[row[0]*2 - sum(row) for row in zip(*matrix)] for matrix in zip(*matrix_variables)]"
      ],
      "execution_count": null,
      "outputs": []
    },
    {
      "cell_type": "code",
      "metadata": {
        "id": "gmCdSNIV4RjL"
      },
      "source": [
        "def matrix_transpose(matrix_variable):\r\n",
        "    return [[element for element in row] for row in zip(*matrix_variable)]"
      ],
      "execution_count": null,
      "outputs": []
    },
    {
      "cell_type": "code",
      "metadata": {
        "id": "KbZK2nlv4Rcz"
      },
      "source": [
        "def scalar_matrix_product(alpha, matrix_variable):\r\n",
        "    return [scalar_vector_product(alpha,row) for row in matrix_variable]"
      ],
      "execution_count": null,
      "outputs": []
    },
    {
      "cell_type": "code",
      "metadata": {
        "id": "i4Hz2Cdq4RW-"
      },
      "source": [
        "def is_product_availability_matrix(matrix_a, matrix_b):\r\n",
        "    return len([column_vector for column_vector in zip(*matrix_a)]) == len(matrix_b)"
      ],
      "execution_count": null,
      "outputs": []
    },
    {
      "cell_type": "code",
      "metadata": {
        "id": "Nv7lJct44RQU"
      },
      "source": [
        "def matrix_product(matrix_a, matrix_b):\r\n",
        "    return [[sum(a*b for a,b in zip(row_a, column_b)) for column_b in zip(*matrix_b)] for row_a in matrix_a]"
      ],
      "execution_count": null,
      "outputs": []
    }
  ]
}